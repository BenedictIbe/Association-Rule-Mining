{
 "cells": [
  {
   "cell_type": "code",
   "execution_count": 1,
   "id": "07ee024f",
   "metadata": {},
   "outputs": [
    {
     "name": "stdout",
     "output_type": "stream",
     "text": [
      "Requirement already satisfied: apyori in ./.local/lib/python3.9/site-packages (1.1.2)\n",
      "Note: you may need to restart the kernel to use updated packages.\n"
     ]
    }
   ],
   "source": [
    "pip install apyori"
   ]
  },
  {
   "cell_type": "code",
   "execution_count": 2,
   "id": "2427ab94",
   "metadata": {},
   "outputs": [],
   "source": [
    "#Import the Libraries\n",
    "import matplotlib.pyplot as plt\n",
    "import pandas as pd\n",
    "from apyori import apriori\n",
    "import utils\n",
    "%matplotlib inline"
   ]
  },
  {
   "cell_type": "code",
   "execution_count": 3,
   "id": "c22971c3",
   "metadata": {},
   "outputs": [],
   "source": [
    "#Loading the dataset\n",
    "voting_db = pd.read_csv('house-votes-84.data')"
   ]
  },
  {
   "cell_type": "code",
   "execution_count": 4,
   "id": "4f40690d",
   "metadata": {},
   "outputs": [
    {
     "data": {
      "text/html": [
       "<div>\n",
       "<style scoped>\n",
       "    .dataframe tbody tr th:only-of-type {\n",
       "        vertical-align: middle;\n",
       "    }\n",
       "\n",
       "    .dataframe tbody tr th {\n",
       "        vertical-align: top;\n",
       "    }\n",
       "\n",
       "    .dataframe thead th {\n",
       "        text-align: right;\n",
       "    }\n",
       "</style>\n",
       "<table border=\"1\" class=\"dataframe\">\n",
       "  <thead>\n",
       "    <tr style=\"text-align: right;\">\n",
       "      <th></th>\n",
       "      <th>republican</th>\n",
       "      <th>n</th>\n",
       "      <th>y</th>\n",
       "      <th>n.1</th>\n",
       "      <th>y.1</th>\n",
       "      <th>y.2</th>\n",
       "      <th>y.3</th>\n",
       "      <th>n.2</th>\n",
       "      <th>n.3</th>\n",
       "      <th>n.4</th>\n",
       "      <th>y.4</th>\n",
       "      <th>?</th>\n",
       "      <th>y.5</th>\n",
       "      <th>y.6</th>\n",
       "      <th>y.7</th>\n",
       "      <th>n.5</th>\n",
       "      <th>y.8</th>\n",
       "    </tr>\n",
       "  </thead>\n",
       "  <tbody>\n",
       "    <tr>\n",
       "      <th>0</th>\n",
       "      <td>republican</td>\n",
       "      <td>n</td>\n",
       "      <td>y</td>\n",
       "      <td>n</td>\n",
       "      <td>y</td>\n",
       "      <td>y</td>\n",
       "      <td>y</td>\n",
       "      <td>n</td>\n",
       "      <td>n</td>\n",
       "      <td>n</td>\n",
       "      <td>n</td>\n",
       "      <td>n</td>\n",
       "      <td>y</td>\n",
       "      <td>y</td>\n",
       "      <td>y</td>\n",
       "      <td>n</td>\n",
       "      <td>?</td>\n",
       "    </tr>\n",
       "    <tr>\n",
       "      <th>1</th>\n",
       "      <td>democrat</td>\n",
       "      <td>?</td>\n",
       "      <td>y</td>\n",
       "      <td>y</td>\n",
       "      <td>?</td>\n",
       "      <td>y</td>\n",
       "      <td>y</td>\n",
       "      <td>n</td>\n",
       "      <td>n</td>\n",
       "      <td>n</td>\n",
       "      <td>n</td>\n",
       "      <td>y</td>\n",
       "      <td>n</td>\n",
       "      <td>y</td>\n",
       "      <td>y</td>\n",
       "      <td>n</td>\n",
       "      <td>n</td>\n",
       "    </tr>\n",
       "    <tr>\n",
       "      <th>2</th>\n",
       "      <td>democrat</td>\n",
       "      <td>n</td>\n",
       "      <td>y</td>\n",
       "      <td>y</td>\n",
       "      <td>n</td>\n",
       "      <td>?</td>\n",
       "      <td>y</td>\n",
       "      <td>n</td>\n",
       "      <td>n</td>\n",
       "      <td>n</td>\n",
       "      <td>n</td>\n",
       "      <td>y</td>\n",
       "      <td>n</td>\n",
       "      <td>y</td>\n",
       "      <td>n</td>\n",
       "      <td>n</td>\n",
       "      <td>y</td>\n",
       "    </tr>\n",
       "    <tr>\n",
       "      <th>3</th>\n",
       "      <td>democrat</td>\n",
       "      <td>y</td>\n",
       "      <td>y</td>\n",
       "      <td>y</td>\n",
       "      <td>n</td>\n",
       "      <td>y</td>\n",
       "      <td>y</td>\n",
       "      <td>n</td>\n",
       "      <td>n</td>\n",
       "      <td>n</td>\n",
       "      <td>n</td>\n",
       "      <td>y</td>\n",
       "      <td>?</td>\n",
       "      <td>y</td>\n",
       "      <td>y</td>\n",
       "      <td>y</td>\n",
       "      <td>y</td>\n",
       "    </tr>\n",
       "    <tr>\n",
       "      <th>4</th>\n",
       "      <td>democrat</td>\n",
       "      <td>n</td>\n",
       "      <td>y</td>\n",
       "      <td>y</td>\n",
       "      <td>n</td>\n",
       "      <td>y</td>\n",
       "      <td>y</td>\n",
       "      <td>n</td>\n",
       "      <td>n</td>\n",
       "      <td>n</td>\n",
       "      <td>n</td>\n",
       "      <td>n</td>\n",
       "      <td>n</td>\n",
       "      <td>y</td>\n",
       "      <td>y</td>\n",
       "      <td>y</td>\n",
       "      <td>y</td>\n",
       "    </tr>\n",
       "  </tbody>\n",
       "</table>\n",
       "</div>"
      ],
      "text/plain": [
       "   republican  n  y n.1 y.1 y.2 y.3 n.2 n.3 n.4 y.4  ? y.5 y.6 y.7 n.5 y.8\n",
       "0  republican  n  y   n   y   y   y   n   n   n   n  n   y   y   y   n   ?\n",
       "1    democrat  ?  y   y   ?   y   y   n   n   n   n  y   n   y   y   n   n\n",
       "2    democrat  n  y   y   n   ?   y   n   n   n   n  y   n   y   n   n   y\n",
       "3    democrat  y  y   y   n   y   y   n   n   n   n  y   ?   y   y   y   y\n",
       "4    democrat  n  y   y   n   y   y   n   n   n   n  n   n   y   y   y   y"
      ]
     },
     "execution_count": 4,
     "metadata": {},
     "output_type": "execute_result"
    }
   ],
   "source": [
    "#Explore the data\n",
    "voting_db.head()"
   ]
  },
  {
   "cell_type": "code",
   "execution_count": 5,
   "id": "6b86aeea",
   "metadata": {},
   "outputs": [
    {
     "data": {
      "text/html": [
       "<div>\n",
       "<style scoped>\n",
       "    .dataframe tbody tr th:only-of-type {\n",
       "        vertical-align: middle;\n",
       "    }\n",
       "\n",
       "    .dataframe tbody tr th {\n",
       "        vertical-align: top;\n",
       "    }\n",
       "\n",
       "    .dataframe thead th {\n",
       "        text-align: right;\n",
       "    }\n",
       "</style>\n",
       "<table border=\"1\" class=\"dataframe\">\n",
       "  <thead>\n",
       "    <tr style=\"text-align: right;\">\n",
       "      <th></th>\n",
       "      <th>republican</th>\n",
       "      <th>n</th>\n",
       "      <th>y</th>\n",
       "      <th>n.1</th>\n",
       "      <th>y.1</th>\n",
       "      <th>y.2</th>\n",
       "      <th>y.3</th>\n",
       "      <th>n.2</th>\n",
       "      <th>n.3</th>\n",
       "      <th>n.4</th>\n",
       "      <th>y.4</th>\n",
       "      <th>?</th>\n",
       "      <th>y.5</th>\n",
       "      <th>y.6</th>\n",
       "      <th>y.7</th>\n",
       "      <th>n.5</th>\n",
       "      <th>y.8</th>\n",
       "    </tr>\n",
       "  </thead>\n",
       "  <tbody>\n",
       "    <tr>\n",
       "      <th>429</th>\n",
       "      <td>republican</td>\n",
       "      <td>n</td>\n",
       "      <td>n</td>\n",
       "      <td>y</td>\n",
       "      <td>y</td>\n",
       "      <td>y</td>\n",
       "      <td>y</td>\n",
       "      <td>n</td>\n",
       "      <td>n</td>\n",
       "      <td>y</td>\n",
       "      <td>y</td>\n",
       "      <td>n</td>\n",
       "      <td>y</td>\n",
       "      <td>y</td>\n",
       "      <td>y</td>\n",
       "      <td>n</td>\n",
       "      <td>y</td>\n",
       "    </tr>\n",
       "    <tr>\n",
       "      <th>430</th>\n",
       "      <td>democrat</td>\n",
       "      <td>n</td>\n",
       "      <td>n</td>\n",
       "      <td>y</td>\n",
       "      <td>n</td>\n",
       "      <td>n</td>\n",
       "      <td>n</td>\n",
       "      <td>y</td>\n",
       "      <td>y</td>\n",
       "      <td>y</td>\n",
       "      <td>y</td>\n",
       "      <td>n</td>\n",
       "      <td>n</td>\n",
       "      <td>n</td>\n",
       "      <td>n</td>\n",
       "      <td>n</td>\n",
       "      <td>y</td>\n",
       "    </tr>\n",
       "    <tr>\n",
       "      <th>431</th>\n",
       "      <td>republican</td>\n",
       "      <td>n</td>\n",
       "      <td>?</td>\n",
       "      <td>n</td>\n",
       "      <td>y</td>\n",
       "      <td>y</td>\n",
       "      <td>y</td>\n",
       "      <td>n</td>\n",
       "      <td>n</td>\n",
       "      <td>n</td>\n",
       "      <td>n</td>\n",
       "      <td>y</td>\n",
       "      <td>y</td>\n",
       "      <td>y</td>\n",
       "      <td>y</td>\n",
       "      <td>n</td>\n",
       "      <td>y</td>\n",
       "    </tr>\n",
       "    <tr>\n",
       "      <th>432</th>\n",
       "      <td>republican</td>\n",
       "      <td>n</td>\n",
       "      <td>n</td>\n",
       "      <td>n</td>\n",
       "      <td>y</td>\n",
       "      <td>y</td>\n",
       "      <td>y</td>\n",
       "      <td>?</td>\n",
       "      <td>?</td>\n",
       "      <td>?</td>\n",
       "      <td>?</td>\n",
       "      <td>n</td>\n",
       "      <td>y</td>\n",
       "      <td>y</td>\n",
       "      <td>y</td>\n",
       "      <td>n</td>\n",
       "      <td>y</td>\n",
       "    </tr>\n",
       "    <tr>\n",
       "      <th>433</th>\n",
       "      <td>republican</td>\n",
       "      <td>n</td>\n",
       "      <td>y</td>\n",
       "      <td>n</td>\n",
       "      <td>y</td>\n",
       "      <td>y</td>\n",
       "      <td>y</td>\n",
       "      <td>n</td>\n",
       "      <td>n</td>\n",
       "      <td>n</td>\n",
       "      <td>y</td>\n",
       "      <td>n</td>\n",
       "      <td>y</td>\n",
       "      <td>y</td>\n",
       "      <td>y</td>\n",
       "      <td>?</td>\n",
       "      <td>n</td>\n",
       "    </tr>\n",
       "  </tbody>\n",
       "</table>\n",
       "</div>"
      ],
      "text/plain": [
       "     republican  n  y n.1 y.1 y.2 y.3 n.2 n.3 n.4 y.4  ? y.5 y.6 y.7 n.5 y.8\n",
       "429  republican  n  n   y   y   y   y   n   n   y   y  n   y   y   y   n   y\n",
       "430    democrat  n  n   y   n   n   n   y   y   y   y  n   n   n   n   n   y\n",
       "431  republican  n  ?   n   y   y   y   n   n   n   n  y   y   y   y   n   y\n",
       "432  republican  n  n   n   y   y   y   ?   ?   ?   ?  n   y   y   y   n   y\n",
       "433  republican  n  y   n   y   y   y   n   n   n   y  n   y   y   y   ?   n"
      ]
     },
     "execution_count": 5,
     "metadata": {},
     "output_type": "execute_result"
    }
   ],
   "source": [
    "voting_db.tail()"
   ]
  },
  {
   "cell_type": "code",
   "execution_count": 6,
   "id": "e499cbae",
   "metadata": {},
   "outputs": [],
   "source": [
    "# Renaming the first columns of our data frame\n",
    "voting_db.rename(columns = {'republican' : 'Republican?', 'n' : 'Handicapped-infants', 'y' : 'Water-project-cost', 'n.1' : 'Budget-resolution', 'y.1' : 'Physician-fee-freeze', 'y.2' : 'El-Salvador-aid', 'y.3' : 'School-Religious-Group', 'n.2' : 'Anti-Satellite-test-ban', 'n.3' : 'Nicaraguan-contras-aid','n.4' : 'MX-missile', 'y.4' : 'Immigration', '?' : 'Synfuels-corporation-cutback','y.5' : 'Education-spending', 'y.6' : 'Superfund-right-to-sue', 'y.7' : 'Crime', 'n.5' : 'Duty-free-exports', 'y.8' : 'Export-administration-act-south-africa' }, \n",
    "                  inplace = True)"
   ]
  },
  {
   "cell_type": "code",
   "execution_count": 7,
   "id": "d736fa21",
   "metadata": {},
   "outputs": [
    {
     "data": {
      "text/html": [
       "<div>\n",
       "<style scoped>\n",
       "    .dataframe tbody tr th:only-of-type {\n",
       "        vertical-align: middle;\n",
       "    }\n",
       "\n",
       "    .dataframe tbody tr th {\n",
       "        vertical-align: top;\n",
       "    }\n",
       "\n",
       "    .dataframe thead th {\n",
       "        text-align: right;\n",
       "    }\n",
       "</style>\n",
       "<table border=\"1\" class=\"dataframe\">\n",
       "  <thead>\n",
       "    <tr style=\"text-align: right;\">\n",
       "      <th></th>\n",
       "      <th>Republican?</th>\n",
       "      <th>Handicapped-infants</th>\n",
       "      <th>Water-project-cost</th>\n",
       "      <th>Budget-resolution</th>\n",
       "      <th>Physician-fee-freeze</th>\n",
       "      <th>El-Salvador-aid</th>\n",
       "      <th>School-Religious-Group</th>\n",
       "      <th>Anti-Satellite-test-ban</th>\n",
       "      <th>Nicaraguan-contras-aid</th>\n",
       "      <th>MX-missile</th>\n",
       "      <th>Immigration</th>\n",
       "      <th>Synfuels-corporation-cutback</th>\n",
       "      <th>Education-spending</th>\n",
       "      <th>Superfund-right-to-sue</th>\n",
       "      <th>Crime</th>\n",
       "      <th>Duty-free-exports</th>\n",
       "      <th>Export-administration-act-south-africa</th>\n",
       "    </tr>\n",
       "  </thead>\n",
       "  <tbody>\n",
       "    <tr>\n",
       "      <th>0</th>\n",
       "      <td>republican</td>\n",
       "      <td>n</td>\n",
       "      <td>y</td>\n",
       "      <td>n</td>\n",
       "      <td>y</td>\n",
       "      <td>y</td>\n",
       "      <td>y</td>\n",
       "      <td>n</td>\n",
       "      <td>n</td>\n",
       "      <td>n</td>\n",
       "      <td>n</td>\n",
       "      <td>n</td>\n",
       "      <td>y</td>\n",
       "      <td>y</td>\n",
       "      <td>y</td>\n",
       "      <td>n</td>\n",
       "      <td>?</td>\n",
       "    </tr>\n",
       "    <tr>\n",
       "      <th>1</th>\n",
       "      <td>democrat</td>\n",
       "      <td>?</td>\n",
       "      <td>y</td>\n",
       "      <td>y</td>\n",
       "      <td>?</td>\n",
       "      <td>y</td>\n",
       "      <td>y</td>\n",
       "      <td>n</td>\n",
       "      <td>n</td>\n",
       "      <td>n</td>\n",
       "      <td>n</td>\n",
       "      <td>y</td>\n",
       "      <td>n</td>\n",
       "      <td>y</td>\n",
       "      <td>y</td>\n",
       "      <td>n</td>\n",
       "      <td>n</td>\n",
       "    </tr>\n",
       "    <tr>\n",
       "      <th>2</th>\n",
       "      <td>democrat</td>\n",
       "      <td>n</td>\n",
       "      <td>y</td>\n",
       "      <td>y</td>\n",
       "      <td>n</td>\n",
       "      <td>?</td>\n",
       "      <td>y</td>\n",
       "      <td>n</td>\n",
       "      <td>n</td>\n",
       "      <td>n</td>\n",
       "      <td>n</td>\n",
       "      <td>y</td>\n",
       "      <td>n</td>\n",
       "      <td>y</td>\n",
       "      <td>n</td>\n",
       "      <td>n</td>\n",
       "      <td>y</td>\n",
       "    </tr>\n",
       "    <tr>\n",
       "      <th>3</th>\n",
       "      <td>democrat</td>\n",
       "      <td>y</td>\n",
       "      <td>y</td>\n",
       "      <td>y</td>\n",
       "      <td>n</td>\n",
       "      <td>y</td>\n",
       "      <td>y</td>\n",
       "      <td>n</td>\n",
       "      <td>n</td>\n",
       "      <td>n</td>\n",
       "      <td>n</td>\n",
       "      <td>y</td>\n",
       "      <td>?</td>\n",
       "      <td>y</td>\n",
       "      <td>y</td>\n",
       "      <td>y</td>\n",
       "      <td>y</td>\n",
       "    </tr>\n",
       "    <tr>\n",
       "      <th>4</th>\n",
       "      <td>democrat</td>\n",
       "      <td>n</td>\n",
       "      <td>y</td>\n",
       "      <td>y</td>\n",
       "      <td>n</td>\n",
       "      <td>y</td>\n",
       "      <td>y</td>\n",
       "      <td>n</td>\n",
       "      <td>n</td>\n",
       "      <td>n</td>\n",
       "      <td>n</td>\n",
       "      <td>n</td>\n",
       "      <td>n</td>\n",
       "      <td>y</td>\n",
       "      <td>y</td>\n",
       "      <td>y</td>\n",
       "      <td>y</td>\n",
       "    </tr>\n",
       "  </tbody>\n",
       "</table>\n",
       "</div>"
      ],
      "text/plain": [
       "  Republican? Handicapped-infants Water-project-cost Budget-resolution  \\\n",
       "0  republican                   n                  y                 n   \n",
       "1    democrat                   ?                  y                 y   \n",
       "2    democrat                   n                  y                 y   \n",
       "3    democrat                   y                  y                 y   \n",
       "4    democrat                   n                  y                 y   \n",
       "\n",
       "  Physician-fee-freeze El-Salvador-aid School-Religious-Group  \\\n",
       "0                    y               y                      y   \n",
       "1                    ?               y                      y   \n",
       "2                    n               ?                      y   \n",
       "3                    n               y                      y   \n",
       "4                    n               y                      y   \n",
       "\n",
       "  Anti-Satellite-test-ban Nicaraguan-contras-aid MX-missile Immigration  \\\n",
       "0                       n                      n          n           n   \n",
       "1                       n                      n          n           n   \n",
       "2                       n                      n          n           n   \n",
       "3                       n                      n          n           n   \n",
       "4                       n                      n          n           n   \n",
       "\n",
       "  Synfuels-corporation-cutback Education-spending Superfund-right-to-sue  \\\n",
       "0                            n                  y                      y   \n",
       "1                            y                  n                      y   \n",
       "2                            y                  n                      y   \n",
       "3                            y                  ?                      y   \n",
       "4                            n                  n                      y   \n",
       "\n",
       "  Crime Duty-free-exports Export-administration-act-south-africa  \n",
       "0     y                 n                                      ?  \n",
       "1     y                 n                                      n  \n",
       "2     n                 n                                      y  \n",
       "3     y                 y                                      y  \n",
       "4     y                 y                                      y  "
      ]
     },
     "execution_count": 7,
     "metadata": {},
     "output_type": "execute_result"
    }
   ],
   "source": [
    "voting_db.head()"
   ]
  },
  {
   "cell_type": "code",
   "execution_count": 8,
   "id": "23d4e409",
   "metadata": {},
   "outputs": [
    {
     "data": {
      "text/html": [
       "<div>\n",
       "<style scoped>\n",
       "    .dataframe tbody tr th:only-of-type {\n",
       "        vertical-align: middle;\n",
       "    }\n",
       "\n",
       "    .dataframe tbody tr th {\n",
       "        vertical-align: top;\n",
       "    }\n",
       "\n",
       "    .dataframe thead th {\n",
       "        text-align: right;\n",
       "    }\n",
       "</style>\n",
       "<table border=\"1\" class=\"dataframe\">\n",
       "  <thead>\n",
       "    <tr style=\"text-align: right;\">\n",
       "      <th></th>\n",
       "      <th>Republican?</th>\n",
       "      <th>Handicapped-infants</th>\n",
       "      <th>Water-project-cost</th>\n",
       "      <th>Budget-resolution</th>\n",
       "      <th>Physician-fee-freeze</th>\n",
       "      <th>El-Salvador-aid</th>\n",
       "      <th>School-Religious-Group</th>\n",
       "      <th>Anti-Satellite-test-ban</th>\n",
       "      <th>Nicaraguan-contras-aid</th>\n",
       "      <th>MX-missile</th>\n",
       "      <th>Immigration</th>\n",
       "      <th>Synfuels-corporation-cutback</th>\n",
       "      <th>Education-spending</th>\n",
       "      <th>Superfund-right-to-sue</th>\n",
       "      <th>Crime</th>\n",
       "      <th>Duty-free-exports</th>\n",
       "      <th>Export-administration-act-south-africa</th>\n",
       "    </tr>\n",
       "  </thead>\n",
       "  <tbody>\n",
       "    <tr>\n",
       "      <th>429</th>\n",
       "      <td>republican</td>\n",
       "      <td>n</td>\n",
       "      <td>n</td>\n",
       "      <td>y</td>\n",
       "      <td>y</td>\n",
       "      <td>y</td>\n",
       "      <td>y</td>\n",
       "      <td>n</td>\n",
       "      <td>n</td>\n",
       "      <td>y</td>\n",
       "      <td>y</td>\n",
       "      <td>n</td>\n",
       "      <td>y</td>\n",
       "      <td>y</td>\n",
       "      <td>y</td>\n",
       "      <td>n</td>\n",
       "      <td>y</td>\n",
       "    </tr>\n",
       "    <tr>\n",
       "      <th>430</th>\n",
       "      <td>democrat</td>\n",
       "      <td>n</td>\n",
       "      <td>n</td>\n",
       "      <td>y</td>\n",
       "      <td>n</td>\n",
       "      <td>n</td>\n",
       "      <td>n</td>\n",
       "      <td>y</td>\n",
       "      <td>y</td>\n",
       "      <td>y</td>\n",
       "      <td>y</td>\n",
       "      <td>n</td>\n",
       "      <td>n</td>\n",
       "      <td>n</td>\n",
       "      <td>n</td>\n",
       "      <td>n</td>\n",
       "      <td>y</td>\n",
       "    </tr>\n",
       "    <tr>\n",
       "      <th>431</th>\n",
       "      <td>republican</td>\n",
       "      <td>n</td>\n",
       "      <td>?</td>\n",
       "      <td>n</td>\n",
       "      <td>y</td>\n",
       "      <td>y</td>\n",
       "      <td>y</td>\n",
       "      <td>n</td>\n",
       "      <td>n</td>\n",
       "      <td>n</td>\n",
       "      <td>n</td>\n",
       "      <td>y</td>\n",
       "      <td>y</td>\n",
       "      <td>y</td>\n",
       "      <td>y</td>\n",
       "      <td>n</td>\n",
       "      <td>y</td>\n",
       "    </tr>\n",
       "    <tr>\n",
       "      <th>432</th>\n",
       "      <td>republican</td>\n",
       "      <td>n</td>\n",
       "      <td>n</td>\n",
       "      <td>n</td>\n",
       "      <td>y</td>\n",
       "      <td>y</td>\n",
       "      <td>y</td>\n",
       "      <td>?</td>\n",
       "      <td>?</td>\n",
       "      <td>?</td>\n",
       "      <td>?</td>\n",
       "      <td>n</td>\n",
       "      <td>y</td>\n",
       "      <td>y</td>\n",
       "      <td>y</td>\n",
       "      <td>n</td>\n",
       "      <td>y</td>\n",
       "    </tr>\n",
       "    <tr>\n",
       "      <th>433</th>\n",
       "      <td>republican</td>\n",
       "      <td>n</td>\n",
       "      <td>y</td>\n",
       "      <td>n</td>\n",
       "      <td>y</td>\n",
       "      <td>y</td>\n",
       "      <td>y</td>\n",
       "      <td>n</td>\n",
       "      <td>n</td>\n",
       "      <td>n</td>\n",
       "      <td>y</td>\n",
       "      <td>n</td>\n",
       "      <td>y</td>\n",
       "      <td>y</td>\n",
       "      <td>y</td>\n",
       "      <td>?</td>\n",
       "      <td>n</td>\n",
       "    </tr>\n",
       "  </tbody>\n",
       "</table>\n",
       "</div>"
      ],
      "text/plain": [
       "    Republican? Handicapped-infants Water-project-cost Budget-resolution  \\\n",
       "429  republican                   n                  n                 y   \n",
       "430    democrat                   n                  n                 y   \n",
       "431  republican                   n                  ?                 n   \n",
       "432  republican                   n                  n                 n   \n",
       "433  republican                   n                  y                 n   \n",
       "\n",
       "    Physician-fee-freeze El-Salvador-aid School-Religious-Group  \\\n",
       "429                    y               y                      y   \n",
       "430                    n               n                      n   \n",
       "431                    y               y                      y   \n",
       "432                    y               y                      y   \n",
       "433                    y               y                      y   \n",
       "\n",
       "    Anti-Satellite-test-ban Nicaraguan-contras-aid MX-missile Immigration  \\\n",
       "429                       n                      n          y           y   \n",
       "430                       y                      y          y           y   \n",
       "431                       n                      n          n           n   \n",
       "432                       ?                      ?          ?           ?   \n",
       "433                       n                      n          n           y   \n",
       "\n",
       "    Synfuels-corporation-cutback Education-spending Superfund-right-to-sue  \\\n",
       "429                            n                  y                      y   \n",
       "430                            n                  n                      n   \n",
       "431                            y                  y                      y   \n",
       "432                            n                  y                      y   \n",
       "433                            n                  y                      y   \n",
       "\n",
       "    Crime Duty-free-exports Export-administration-act-south-africa  \n",
       "429     y                 n                                      y  \n",
       "430     n                 n                                      y  \n",
       "431     y                 n                                      y  \n",
       "432     y                 n                                      y  \n",
       "433     y                 ?                                      n  "
      ]
     },
     "execution_count": 8,
     "metadata": {},
     "output_type": "execute_result"
    }
   ],
   "source": [
    "voting_db.tail()"
   ]
  },
  {
   "cell_type": "code",
   "execution_count": 9,
   "id": "7f89bfde",
   "metadata": {},
   "outputs": [
    {
     "data": {
      "text/html": [
       "<div>\n",
       "<style scoped>\n",
       "    .dataframe tbody tr th:only-of-type {\n",
       "        vertical-align: middle;\n",
       "    }\n",
       "\n",
       "    .dataframe tbody tr th {\n",
       "        vertical-align: top;\n",
       "    }\n",
       "\n",
       "    .dataframe thead th {\n",
       "        text-align: right;\n",
       "    }\n",
       "</style>\n",
       "<table border=\"1\" class=\"dataframe\">\n",
       "  <thead>\n",
       "    <tr style=\"text-align: right;\">\n",
       "      <th></th>\n",
       "      <th>Republican?</th>\n",
       "      <th>Handicapped-infants</th>\n",
       "      <th>Water-project-cost</th>\n",
       "      <th>Budget-resolution</th>\n",
       "      <th>Physician-fee-freeze</th>\n",
       "      <th>El-Salvador-aid</th>\n",
       "      <th>School-Religious-Group</th>\n",
       "      <th>Anti-Satellite-test-ban</th>\n",
       "      <th>Nicaraguan-contras-aid</th>\n",
       "      <th>MX-missile</th>\n",
       "      <th>Immigration</th>\n",
       "      <th>Synfuels-corporation-cutback</th>\n",
       "      <th>Education-spending</th>\n",
       "      <th>Superfund-right-to-sue</th>\n",
       "      <th>Crime</th>\n",
       "      <th>Duty-free-exports</th>\n",
       "      <th>Export-administration-act-south-africa</th>\n",
       "    </tr>\n",
       "  </thead>\n",
       "  <tbody>\n",
       "    <tr>\n",
       "      <th>count</th>\n",
       "      <td>434</td>\n",
       "      <td>434</td>\n",
       "      <td>434</td>\n",
       "      <td>434</td>\n",
       "      <td>434</td>\n",
       "      <td>434</td>\n",
       "      <td>434</td>\n",
       "      <td>434</td>\n",
       "      <td>434</td>\n",
       "      <td>434</td>\n",
       "      <td>434</td>\n",
       "      <td>434</td>\n",
       "      <td>434</td>\n",
       "      <td>434</td>\n",
       "      <td>434</td>\n",
       "      <td>434</td>\n",
       "      <td>434</td>\n",
       "    </tr>\n",
       "    <tr>\n",
       "      <th>unique</th>\n",
       "      <td>2</td>\n",
       "      <td>3</td>\n",
       "      <td>3</td>\n",
       "      <td>3</td>\n",
       "      <td>3</td>\n",
       "      <td>3</td>\n",
       "      <td>3</td>\n",
       "      <td>3</td>\n",
       "      <td>3</td>\n",
       "      <td>3</td>\n",
       "      <td>3</td>\n",
       "      <td>3</td>\n",
       "      <td>3</td>\n",
       "      <td>3</td>\n",
       "      <td>3</td>\n",
       "      <td>3</td>\n",
       "      <td>3</td>\n",
       "    </tr>\n",
       "    <tr>\n",
       "      <th>top</th>\n",
       "      <td>democrat</td>\n",
       "      <td>n</td>\n",
       "      <td>y</td>\n",
       "      <td>y</td>\n",
       "      <td>n</td>\n",
       "      <td>y</td>\n",
       "      <td>y</td>\n",
       "      <td>y</td>\n",
       "      <td>y</td>\n",
       "      <td>y</td>\n",
       "      <td>y</td>\n",
       "      <td>n</td>\n",
       "      <td>n</td>\n",
       "      <td>y</td>\n",
       "      <td>y</td>\n",
       "      <td>n</td>\n",
       "      <td>y</td>\n",
       "    </tr>\n",
       "    <tr>\n",
       "      <th>freq</th>\n",
       "      <td>267</td>\n",
       "      <td>235</td>\n",
       "      <td>194</td>\n",
       "      <td>253</td>\n",
       "      <td>247</td>\n",
       "      <td>211</td>\n",
       "      <td>271</td>\n",
       "      <td>239</td>\n",
       "      <td>242</td>\n",
       "      <td>207</td>\n",
       "      <td>215</td>\n",
       "      <td>264</td>\n",
       "      <td>233</td>\n",
       "      <td>208</td>\n",
       "      <td>247</td>\n",
       "      <td>232</td>\n",
       "      <td>268</td>\n",
       "    </tr>\n",
       "  </tbody>\n",
       "</table>\n",
       "</div>"
      ],
      "text/plain": [
       "       Republican? Handicapped-infants Water-project-cost Budget-resolution  \\\n",
       "count          434                 434                434               434   \n",
       "unique           2                   3                  3                 3   \n",
       "top       democrat                   n                  y                 y   \n",
       "freq           267                 235                194               253   \n",
       "\n",
       "       Physician-fee-freeze El-Salvador-aid School-Religious-Group  \\\n",
       "count                   434             434                    434   \n",
       "unique                    3               3                      3   \n",
       "top                       n               y                      y   \n",
       "freq                    247             211                    271   \n",
       "\n",
       "       Anti-Satellite-test-ban Nicaraguan-contras-aid MX-missile Immigration  \\\n",
       "count                      434                    434        434         434   \n",
       "unique                       3                      3          3           3   \n",
       "top                          y                      y          y           y   \n",
       "freq                       239                    242        207         215   \n",
       "\n",
       "       Synfuels-corporation-cutback Education-spending Superfund-right-to-sue  \\\n",
       "count                           434                434                    434   \n",
       "unique                            3                  3                      3   \n",
       "top                               n                  n                      y   \n",
       "freq                            264                233                    208   \n",
       "\n",
       "       Crime Duty-free-exports Export-administration-act-south-africa  \n",
       "count    434               434                                    434  \n",
       "unique     3                 3                                      3  \n",
       "top        y                 n                                      y  \n",
       "freq     247               232                                    268  "
      ]
     },
     "execution_count": 9,
     "metadata": {},
     "output_type": "execute_result"
    }
   ],
   "source": [
    "voting_db.describe()"
   ]
  },
  {
   "cell_type": "code",
   "execution_count": 10,
   "id": "6fd68984",
   "metadata": {},
   "outputs": [
    {
     "name": "stdout",
     "output_type": "stream",
     "text": [
      "<class 'pandas.core.frame.DataFrame'>\n",
      "RangeIndex: 434 entries, 0 to 433\n",
      "Data columns (total 17 columns):\n",
      " #   Column                                  Non-Null Count  Dtype \n",
      "---  ------                                  --------------  ----- \n",
      " 0   Republican?                             434 non-null    object\n",
      " 1   Handicapped-infants                     434 non-null    object\n",
      " 2   Water-project-cost                      434 non-null    object\n",
      " 3   Budget-resolution                       434 non-null    object\n",
      " 4   Physician-fee-freeze                    434 non-null    object\n",
      " 5   El-Salvador-aid                         434 non-null    object\n",
      " 6   School-Religious-Group                  434 non-null    object\n",
      " 7   Anti-Satellite-test-ban                 434 non-null    object\n",
      " 8   Nicaraguan-contras-aid                  434 non-null    object\n",
      " 9   MX-missile                              434 non-null    object\n",
      " 10  Immigration                             434 non-null    object\n",
      " 11  Synfuels-corporation-cutback            434 non-null    object\n",
      " 12  Education-spending                      434 non-null    object\n",
      " 13  Superfund-right-to-sue                  434 non-null    object\n",
      " 14  Crime                                   434 non-null    object\n",
      " 15  Duty-free-exports                       434 non-null    object\n",
      " 16  Export-administration-act-south-africa  434 non-null    object\n",
      "dtypes: object(17)\n",
      "memory usage: 57.8+ KB\n"
     ]
    }
   ],
   "source": [
    "voting_db.info()"
   ]
  },
  {
   "cell_type": "code",
   "execution_count": 11,
   "id": "e4afb648",
   "metadata": {},
   "outputs": [
    {
     "name": "stdout",
     "output_type": "stream",
     "text": [
      "Republican?                               0\n",
      "Handicapped-infants                       0\n",
      "Water-project-cost                        0\n",
      "Budget-resolution                         0\n",
      "Physician-fee-freeze                      0\n",
      "El-Salvador-aid                           0\n",
      "School-Religious-Group                    0\n",
      "Anti-Satellite-test-ban                   0\n",
      "Nicaraguan-contras-aid                    0\n",
      "MX-missile                                0\n",
      "Immigration                               0\n",
      "Synfuels-corporation-cutback              0\n",
      "Education-spending                        0\n",
      "Superfund-right-to-sue                    0\n",
      "Crime                                     0\n",
      "Duty-free-exports                         0\n",
      "Export-administration-act-south-africa    0\n",
      "dtype: int64\n"
     ]
    }
   ],
   "source": [
    "print(voting_db.isnull().sum())"
   ]
  },
  {
   "cell_type": "code",
   "execution_count": 12,
   "id": "af57093a",
   "metadata": {},
   "outputs": [
    {
     "name": "stdout",
     "output_type": "stream",
     "text": [
      "Requirement already satisfied: utils in ./.local/lib/python3.9/site-packages (1.0.1)\r\n"
     ]
    }
   ],
   "source": [
    "!pip install utils"
   ]
  },
  {
   "cell_type": "code",
   "execution_count": 13,
   "id": "b9dc08ec",
   "metadata": {},
   "outputs": [],
   "source": [
    "Rules = list(apriori(voting_db, min_support = 0.2, min_confidence = 0.5))"
   ]
  },
  {
   "cell_type": "code",
   "execution_count": 14,
   "id": "430bdd72",
   "metadata": {},
   "outputs": [
    {
     "data": {
      "text/html": [
       "<div>\n",
       "<style scoped>\n",
       "    .dataframe tbody tr th:only-of-type {\n",
       "        vertical-align: middle;\n",
       "    }\n",
       "\n",
       "    .dataframe tbody tr th {\n",
       "        vertical-align: top;\n",
       "    }\n",
       "\n",
       "    .dataframe thead th {\n",
       "        text-align: right;\n",
       "    }\n",
       "</style>\n",
       "<table border=\"1\" class=\"dataframe\">\n",
       "  <thead>\n",
       "    <tr style=\"text-align: right;\">\n",
       "      <th></th>\n",
       "      <th>Republican?</th>\n",
       "      <th>Handicapped-infants</th>\n",
       "      <th>Water-project-cost</th>\n",
       "      <th>Budget-resolution</th>\n",
       "      <th>Physician-fee-freeze</th>\n",
       "      <th>El-Salvador-aid</th>\n",
       "      <th>School-Religious-Group</th>\n",
       "      <th>Anti-Satellite-test-ban</th>\n",
       "      <th>Nicaraguan-contras-aid</th>\n",
       "      <th>MX-missile</th>\n",
       "      <th>Immigration</th>\n",
       "      <th>Synfuels-corporation-cutback</th>\n",
       "      <th>Education-spending</th>\n",
       "      <th>Superfund-right-to-sue</th>\n",
       "      <th>Crime</th>\n",
       "      <th>Duty-free-exports</th>\n",
       "      <th>Export-administration-act-south-africa</th>\n",
       "    </tr>\n",
       "  </thead>\n",
       "  <tbody>\n",
       "    <tr>\n",
       "      <th>0</th>\n",
       "      <td>republican</td>\n",
       "      <td>n</td>\n",
       "      <td>y</td>\n",
       "      <td>n</td>\n",
       "      <td>y</td>\n",
       "      <td>y</td>\n",
       "      <td>y</td>\n",
       "      <td>n</td>\n",
       "      <td>n</td>\n",
       "      <td>n</td>\n",
       "      <td>n</td>\n",
       "      <td>n</td>\n",
       "      <td>y</td>\n",
       "      <td>y</td>\n",
       "      <td>y</td>\n",
       "      <td>n</td>\n",
       "      <td>?</td>\n",
       "    </tr>\n",
       "    <tr>\n",
       "      <th>1</th>\n",
       "      <td>democrat</td>\n",
       "      <td>?</td>\n",
       "      <td>y</td>\n",
       "      <td>y</td>\n",
       "      <td>?</td>\n",
       "      <td>y</td>\n",
       "      <td>y</td>\n",
       "      <td>n</td>\n",
       "      <td>n</td>\n",
       "      <td>n</td>\n",
       "      <td>n</td>\n",
       "      <td>y</td>\n",
       "      <td>n</td>\n",
       "      <td>y</td>\n",
       "      <td>y</td>\n",
       "      <td>n</td>\n",
       "      <td>n</td>\n",
       "    </tr>\n",
       "    <tr>\n",
       "      <th>2</th>\n",
       "      <td>democrat</td>\n",
       "      <td>n</td>\n",
       "      <td>y</td>\n",
       "      <td>y</td>\n",
       "      <td>n</td>\n",
       "      <td>?</td>\n",
       "      <td>y</td>\n",
       "      <td>n</td>\n",
       "      <td>n</td>\n",
       "      <td>n</td>\n",
       "      <td>n</td>\n",
       "      <td>y</td>\n",
       "      <td>n</td>\n",
       "      <td>y</td>\n",
       "      <td>n</td>\n",
       "      <td>n</td>\n",
       "      <td>y</td>\n",
       "    </tr>\n",
       "    <tr>\n",
       "      <th>3</th>\n",
       "      <td>democrat</td>\n",
       "      <td>y</td>\n",
       "      <td>y</td>\n",
       "      <td>y</td>\n",
       "      <td>n</td>\n",
       "      <td>y</td>\n",
       "      <td>y</td>\n",
       "      <td>n</td>\n",
       "      <td>n</td>\n",
       "      <td>n</td>\n",
       "      <td>n</td>\n",
       "      <td>y</td>\n",
       "      <td>?</td>\n",
       "      <td>y</td>\n",
       "      <td>y</td>\n",
       "      <td>y</td>\n",
       "      <td>y</td>\n",
       "    </tr>\n",
       "    <tr>\n",
       "      <th>4</th>\n",
       "      <td>democrat</td>\n",
       "      <td>n</td>\n",
       "      <td>y</td>\n",
       "      <td>y</td>\n",
       "      <td>n</td>\n",
       "      <td>y</td>\n",
       "      <td>y</td>\n",
       "      <td>n</td>\n",
       "      <td>n</td>\n",
       "      <td>n</td>\n",
       "      <td>n</td>\n",
       "      <td>n</td>\n",
       "      <td>n</td>\n",
       "      <td>y</td>\n",
       "      <td>y</td>\n",
       "      <td>y</td>\n",
       "      <td>y</td>\n",
       "    </tr>\n",
       "  </tbody>\n",
       "</table>\n",
       "</div>"
      ],
      "text/plain": [
       "  Republican? Handicapped-infants Water-project-cost Budget-resolution  \\\n",
       "0  republican                   n                  y                 n   \n",
       "1    democrat                   ?                  y                 y   \n",
       "2    democrat                   n                  y                 y   \n",
       "3    democrat                   y                  y                 y   \n",
       "4    democrat                   n                  y                 y   \n",
       "\n",
       "  Physician-fee-freeze El-Salvador-aid School-Religious-Group  \\\n",
       "0                    y               y                      y   \n",
       "1                    ?               y                      y   \n",
       "2                    n               ?                      y   \n",
       "3                    n               y                      y   \n",
       "4                    n               y                      y   \n",
       "\n",
       "  Anti-Satellite-test-ban Nicaraguan-contras-aid MX-missile Immigration  \\\n",
       "0                       n                      n          n           n   \n",
       "1                       n                      n          n           n   \n",
       "2                       n                      n          n           n   \n",
       "3                       n                      n          n           n   \n",
       "4                       n                      n          n           n   \n",
       "\n",
       "  Synfuels-corporation-cutback Education-spending Superfund-right-to-sue  \\\n",
       "0                            n                  y                      y   \n",
       "1                            y                  n                      y   \n",
       "2                            y                  n                      y   \n",
       "3                            y                  ?                      y   \n",
       "4                            n                  n                      y   \n",
       "\n",
       "  Crime Duty-free-exports Export-administration-act-south-africa  \n",
       "0     y                 n                                      ?  \n",
       "1     y                 n                                      n  \n",
       "2     n                 n                                      y  \n",
       "3     y                 y                                      y  \n",
       "4     y                 y                                      y  "
      ]
     },
     "execution_count": 14,
     "metadata": {},
     "output_type": "execute_result"
    }
   ],
   "source": [
    "voting_db.head()"
   ]
  },
  {
   "cell_type": "code",
   "execution_count": 15,
   "id": "042e0b35",
   "metadata": {},
   "outputs": [],
   "source": [
    "# Renaming the row data entries\n",
    "voting_db['Handicapped-infants'] = voting_db['Handicapped-infants'].replace(['y', 'n', '?'], ['Yes', 'No', 'No'])\n",
    "voting_db['Water-project-cost'] = voting_db['Water-project-cost'].replace(['y', 'n', '?'], ['Yes', 'No', 'No'])\n",
    "voting_db['Budget-resolution'] = voting_db['Budget-resolution'].replace(['y', 'n', '?'], ['Yes', 'No', 'No'])\n",
    "voting_db['Physician-fee-freeze'] = voting_db['Physician-fee-freeze'].replace(['y', 'n', '?'], ['Yes', 'No', 'No'])\n",
    "voting_db['El-Salvador-aid'] = voting_db['El-Salvador-aid'].replace(['y', 'n', '?'], ['Yes', 'No', 'No'])\n",
    "voting_db['Anti-Satellite-test-ban'] = voting_db['Anti-Satellite-test-ban'].replace(['y', 'n', '?'], ['Yes', 'No', 'No'])\n",
    "voting_db['Nicaraguan-contras-aid'] = voting_db['Nicaraguan-contras-aid'].replace(['y', 'n', '?'], ['Yes', 'No', 'No'])\n",
    "voting_db['MX-missile'] = voting_db['MX-missile'].replace(['y', 'n', '?'], ['Yes', 'No', 'No'])\n",
    "voting_db['Immigration'] = voting_db['Immigration'].replace(['y', 'n', '?'], ['Yes', 'No', 'No'])\n",
    "voting_db['Synfuels-corporation-cutback'] = voting_db['Synfuels-corporation-cutback'].replace(['y', 'n', '?'], ['Yes', 'No', 'No'])\n",
    "voting_db['Education-spending'] = voting_db['Education-spending'].replace(['y', 'n', '?'], ['Yes', 'No', 'No'])\n",
    "voting_db['Superfund-right-to-sue'] = voting_db['Superfund-right-to-sue'].replace(['y', 'n', '?'], ['Yes', 'No', 'No'])\n",
    "voting_db['Crime'] = voting_db['Crime'].replace(['y', 'n', '?'], ['Yes', 'No', 'No'])\n",
    "voting_db['Duty-free-exports'] = voting_db['Duty-free-exports'].replace(['y', 'n', '?'], ['Yes', 'No', 'No'])\n",
    "voting_db['Export-administration-act-south-africa'] = voting_db['Export-administration-act-south-africa'].replace(['y', 'n', '?'], ['Yes', 'No', 'No'])\n",
    "voting_db['School-Religious-Group'] = voting_db['School-Religious-Group'].replace(['y', 'n', '?'], ['Yes', 'No', 'No'])\n",
    "voting_db['Republican?'] = voting_db['Republican?'].replace(['republican', 'democrat', '?'], ['Yes', 'No', 'No'])\n"
   ]
  },
  {
   "cell_type": "code",
   "execution_count": 16,
   "id": "8d05010e",
   "metadata": {},
   "outputs": [
    {
     "data": {
      "image/png": "[encoded data removed]",
      "text/plain": [
       "<Figure size 432x288 with 1 Axes>"
      ]
     },
     "metadata": {
      "needs_background": "light"
     },
     "output_type": "display_data"
    }
   ],
   "source": [
    "#Plot and explore the dataset\n",
    "y = (voting_db == 'Yes').sum()\n",
    "n = (voting_db == 'No').sum()\n",
    "approved = pd.concat([y, n], axis = 1, keys = ['Yes', 'No'])\n",
    "ax = approved.plot.bar(stacked = True)\n",
    "plt.show()"
   ]
  },
  {
   "cell_type": "code",
   "execution_count": 17,
   "id": "06e83ce4",
   "metadata": {
    "scrolled": true
   },
   "outputs": [
    {
     "data": {
      "text/html": [
       "<div>\n",
       "<style scoped>\n",
       "    .dataframe tbody tr th:only-of-type {\n",
       "        vertical-align: middle;\n",
       "    }\n",
       "\n",
       "    .dataframe tbody tr th {\n",
       "        vertical-align: top;\n",
       "    }\n",
       "\n",
       "    .dataframe thead th {\n",
       "        text-align: right;\n",
       "    }\n",
       "</style>\n",
       "<table border=\"1\" class=\"dataframe\">\n",
       "  <thead>\n",
       "    <tr style=\"text-align: right;\">\n",
       "      <th></th>\n",
       "      <th>Republican?</th>\n",
       "      <th>Handicapped-infants</th>\n",
       "      <th>Water-project-cost</th>\n",
       "      <th>Budget-resolution</th>\n",
       "      <th>Physician-fee-freeze</th>\n",
       "      <th>El-Salvador-aid</th>\n",
       "      <th>School-Religious-Group</th>\n",
       "      <th>Anti-Satellite-test-ban</th>\n",
       "      <th>Nicaraguan-contras-aid</th>\n",
       "      <th>MX-missile</th>\n",
       "      <th>Immigration</th>\n",
       "      <th>Synfuels-corporation-cutback</th>\n",
       "      <th>Education-spending</th>\n",
       "      <th>Superfund-right-to-sue</th>\n",
       "      <th>Crime</th>\n",
       "      <th>Duty-free-exports</th>\n",
       "      <th>Export-administration-act-south-africa</th>\n",
       "    </tr>\n",
       "  </thead>\n",
       "  <tbody>\n",
       "    <tr>\n",
       "      <th>0</th>\n",
       "      <td>Yes</td>\n",
       "      <td>No</td>\n",
       "      <td>Yes</td>\n",
       "      <td>No</td>\n",
       "      <td>Yes</td>\n",
       "      <td>Yes</td>\n",
       "      <td>Yes</td>\n",
       "      <td>No</td>\n",
       "      <td>No</td>\n",
       "      <td>No</td>\n",
       "      <td>No</td>\n",
       "      <td>No</td>\n",
       "      <td>Yes</td>\n",
       "      <td>Yes</td>\n",
       "      <td>Yes</td>\n",
       "      <td>No</td>\n",
       "      <td>No</td>\n",
       "    </tr>\n",
       "    <tr>\n",
       "      <th>1</th>\n",
       "      <td>No</td>\n",
       "      <td>No</td>\n",
       "      <td>Yes</td>\n",
       "      <td>Yes</td>\n",
       "      <td>No</td>\n",
       "      <td>Yes</td>\n",
       "      <td>Yes</td>\n",
       "      <td>No</td>\n",
       "      <td>No</td>\n",
       "      <td>No</td>\n",
       "      <td>No</td>\n",
       "      <td>Yes</td>\n",
       "      <td>No</td>\n",
       "      <td>Yes</td>\n",
       "      <td>Yes</td>\n",
       "      <td>No</td>\n",
       "      <td>No</td>\n",
       "    </tr>\n",
       "    <tr>\n",
       "      <th>2</th>\n",
       "      <td>No</td>\n",
       "      <td>No</td>\n",
       "      <td>Yes</td>\n",
       "      <td>Yes</td>\n",
       "      <td>No</td>\n",
       "      <td>No</td>\n",
       "      <td>Yes</td>\n",
       "      <td>No</td>\n",
       "      <td>No</td>\n",
       "      <td>No</td>\n",
       "      <td>No</td>\n",
       "      <td>Yes</td>\n",
       "      <td>No</td>\n",
       "      <td>Yes</td>\n",
       "      <td>No</td>\n",
       "      <td>No</td>\n",
       "      <td>Yes</td>\n",
       "    </tr>\n",
       "    <tr>\n",
       "      <th>3</th>\n",
       "      <td>No</td>\n",
       "      <td>Yes</td>\n",
       "      <td>Yes</td>\n",
       "      <td>Yes</td>\n",
       "      <td>No</td>\n",
       "      <td>Yes</td>\n",
       "      <td>Yes</td>\n",
       "      <td>No</td>\n",
       "      <td>No</td>\n",
       "      <td>No</td>\n",
       "      <td>No</td>\n",
       "      <td>Yes</td>\n",
       "      <td>No</td>\n",
       "      <td>Yes</td>\n",
       "      <td>Yes</td>\n",
       "      <td>Yes</td>\n",
       "      <td>Yes</td>\n",
       "    </tr>\n",
       "    <tr>\n",
       "      <th>4</th>\n",
       "      <td>No</td>\n",
       "      <td>No</td>\n",
       "      <td>Yes</td>\n",
       "      <td>Yes</td>\n",
       "      <td>No</td>\n",
       "      <td>Yes</td>\n",
       "      <td>Yes</td>\n",
       "      <td>No</td>\n",
       "      <td>No</td>\n",
       "      <td>No</td>\n",
       "      <td>No</td>\n",
       "      <td>No</td>\n",
       "      <td>No</td>\n",
       "      <td>Yes</td>\n",
       "      <td>Yes</td>\n",
       "      <td>Yes</td>\n",
       "      <td>Yes</td>\n",
       "    </tr>\n",
       "  </tbody>\n",
       "</table>\n",
       "</div>"
      ],
      "text/plain": [
       "  Republican? Handicapped-infants Water-project-cost Budget-resolution  \\\n",
       "0         Yes                  No                Yes                No   \n",
       "1          No                  No                Yes               Yes   \n",
       "2          No                  No                Yes               Yes   \n",
       "3          No                 Yes                Yes               Yes   \n",
       "4          No                  No                Yes               Yes   \n",
       "\n",
       "  Physician-fee-freeze El-Salvador-aid School-Religious-Group  \\\n",
       "0                  Yes             Yes                    Yes   \n",
       "1                   No             Yes                    Yes   \n",
       "2                   No              No                    Yes   \n",
       "3                   No             Yes                    Yes   \n",
       "4                   No             Yes                    Yes   \n",
       "\n",
       "  Anti-Satellite-test-ban Nicaraguan-contras-aid MX-missile Immigration  \\\n",
       "0                      No                     No         No          No   \n",
       "1                      No                     No         No          No   \n",
       "2                      No                     No         No          No   \n",
       "3                      No                     No         No          No   \n",
       "4                      No                     No         No          No   \n",
       "\n",
       "  Synfuels-corporation-cutback Education-spending Superfund-right-to-sue  \\\n",
       "0                           No                Yes                    Yes   \n",
       "1                          Yes                 No                    Yes   \n",
       "2                          Yes                 No                    Yes   \n",
       "3                          Yes                 No                    Yes   \n",
       "4                           No                 No                    Yes   \n",
       "\n",
       "  Crime Duty-free-exports Export-administration-act-south-africa  \n",
       "0   Yes                No                                     No  \n",
       "1   Yes                No                                     No  \n",
       "2    No                No                                    Yes  \n",
       "3   Yes               Yes                                    Yes  \n",
       "4   Yes               Yes                                    Yes  "
      ]
     },
     "execution_count": 17,
     "metadata": {},
     "output_type": "execute_result"
    }
   ],
   "source": [
    "voting_db.head() #Checking the renamed rows"
   ]
  },
  {
   "cell_type": "code",
   "execution_count": 18,
   "id": "a446bc0f",
   "metadata": {},
   "outputs": [],
   "source": [
    "#Preparing my data\n",
    "voting_results = utils.data_prepare(voting_db)"
   ]
  },
  {
   "cell_type": "code",
   "execution_count": 19,
   "id": "ff2e06b5",
   "metadata": {},
   "outputs": [
    {
     "data": {
      "text/plain": [
       "2921"
      ]
     },
     "execution_count": 19,
     "metadata": {},
     "output_type": "execute_result"
    }
   ],
   "source": [
    "# Aplying the Apriori Algorithm\n",
    "Rules = list(apriori(voting_results, min_support = 0.02, min_confidence = 0.2, max_length = 3))\n",
    "associationRules = utils.extract(Rules)\n",
    "rules_df = pd.DataFrame(associationRules, columns = ['LHS', 'RHS', 'Support','Confidence', 'Lift'])\n",
    "len(rules_df)"
   ]
  },
  {
   "cell_type": "code",
   "execution_count": 20,
   "id": "bf95b7e9",
   "metadata": {},
   "outputs": [],
   "source": [
    "pd.set_option('display.max_colwidth', 1)"
   ]
  },
  {
   "cell_type": "code",
   "execution_count": 21,
   "id": "3f36bd49",
   "metadata": {},
   "outputs": [
    {
     "data": {
      "text/html": [
       "<div>\n",
       "<style scoped>\n",
       "    .dataframe tbody tr th:only-of-type {\n",
       "        vertical-align: middle;\n",
       "    }\n",
       "\n",
       "    .dataframe tbody tr th {\n",
       "        vertical-align: top;\n",
       "    }\n",
       "\n",
       "    .dataframe thead th {\n",
       "        text-align: right;\n",
       "    }\n",
       "</style>\n",
       "<table border=\"1\" class=\"dataframe\">\n",
       "  <thead>\n",
       "    <tr style=\"text-align: right;\">\n",
       "      <th></th>\n",
       "      <th>LHS</th>\n",
       "      <th>RHS</th>\n",
       "      <th>Support</th>\n",
       "      <th>Confidence</th>\n",
       "      <th>Lift</th>\n",
       "    </tr>\n",
       "  </thead>\n",
       "  <tbody>\n",
       "    <tr>\n",
       "      <th>0</th>\n",
       "      <td>[]</td>\n",
       "      <td>[Anti-Satellite-test-ban]</td>\n",
       "      <td>0.550691</td>\n",
       "      <td>0.550691</td>\n",
       "      <td>1.000000</td>\n",
       "    </tr>\n",
       "    <tr>\n",
       "      <th>1</th>\n",
       "      <td>[]</td>\n",
       "      <td>[Budget-resolution]</td>\n",
       "      <td>0.582949</td>\n",
       "      <td>0.582949</td>\n",
       "      <td>1.000000</td>\n",
       "    </tr>\n",
       "    <tr>\n",
       "      <th>2</th>\n",
       "      <td>[]</td>\n",
       "      <td>[Crime]</td>\n",
       "      <td>0.569124</td>\n",
       "      <td>0.569124</td>\n",
       "      <td>1.000000</td>\n",
       "    </tr>\n",
       "    <tr>\n",
       "      <th>3</th>\n",
       "      <td>[]</td>\n",
       "      <td>[Duty-free-exports]</td>\n",
       "      <td>0.400922</td>\n",
       "      <td>0.400922</td>\n",
       "      <td>1.000000</td>\n",
       "    </tr>\n",
       "    <tr>\n",
       "      <th>4</th>\n",
       "      <td>[]</td>\n",
       "      <td>[Education-spending]</td>\n",
       "      <td>0.391705</td>\n",
       "      <td>0.391705</td>\n",
       "      <td>1.000000</td>\n",
       "    </tr>\n",
       "    <tr>\n",
       "      <th>...</th>\n",
       "      <td>...</td>\n",
       "      <td>...</td>\n",
       "      <td>...</td>\n",
       "      <td>...</td>\n",
       "      <td>...</td>\n",
       "    </tr>\n",
       "    <tr>\n",
       "      <th>194735</th>\n",
       "      <td>[Export-administration-act-south-africa, Superfund-right-to-sue, School-Religious-Group, Crime, Physician-fee-freeze, El-Salvador-aid, Water-project-cost, Education-spending, Republican?]</td>\n",
       "      <td>[Immigration]</td>\n",
       "      <td>0.027650</td>\n",
       "      <td>0.444444</td>\n",
       "      <td>0.897158</td>\n",
       "    </tr>\n",
       "    <tr>\n",
       "      <th>194736</th>\n",
       "      <td>[Superfund-right-to-sue, Immigration, School-Religious-Group, Crime, Physician-fee-freeze, El-Salvador-aid, Water-project-cost, Education-spending, Republican?]</td>\n",
       "      <td>[Export-administration-act-south-africa]</td>\n",
       "      <td>0.027650</td>\n",
       "      <td>0.500000</td>\n",
       "      <td>0.809701</td>\n",
       "    </tr>\n",
       "    <tr>\n",
       "      <th>194737</th>\n",
       "      <td>[Export-administration-act-south-africa, Superfund-right-to-sue, Immigration, School-Religious-Group, Crime, Physician-fee-freeze, Water-project-cost, Education-spending, Republican?]</td>\n",
       "      <td>[El-Salvador-aid]</td>\n",
       "      <td>0.027650</td>\n",
       "      <td>1.000000</td>\n",
       "      <td>2.056872</td>\n",
       "    </tr>\n",
       "    <tr>\n",
       "      <th>194738</th>\n",
       "      <td>[Export-administration-act-south-africa, Superfund-right-to-sue, Immigration, School-Religious-Group, Crime, Physician-fee-freeze, El-Salvador-aid, Water-project-cost, Republican?]</td>\n",
       "      <td>[Education-spending]</td>\n",
       "      <td>0.027650</td>\n",
       "      <td>0.857143</td>\n",
       "      <td>2.188235</td>\n",
       "    </tr>\n",
       "    <tr>\n",
       "      <th>194739</th>\n",
       "      <td>[Export-administration-act-south-africa, Superfund-right-to-sue, Immigration, School-Religious-Group, Physician-fee-freeze, El-Salvador-aid, Water-project-cost, Education-spending, Republican?]</td>\n",
       "      <td>[Crime]</td>\n",
       "      <td>0.027650</td>\n",
       "      <td>0.923077</td>\n",
       "      <td>1.621925</td>\n",
       "    </tr>\n",
       "  </tbody>\n",
       "</table>\n",
       "<p>194740 rows × 5 columns</p>\n",
       "</div>"
      ],
      "text/plain": [
       "                                                                                                                                                                                                      LHS  \\\n",
       "0       []                                                                                                                                                                                                  \n",
       "1       []                                                                                                                                                                                                  \n",
       "2       []                                                                                                                                                                                                  \n",
       "3       []                                                                                                                                                                                                  \n",
       "4       []                                                                                                                                                                                                  \n",
       "...     ..                                                                                                                                                                                                  \n",
       "194735  [Export-administration-act-south-africa, Superfund-right-to-sue, School-Religious-Group, Crime, Physician-fee-freeze, El-Salvador-aid, Water-project-cost, Education-spending, Republican?]         \n",
       "194736  [Superfund-right-to-sue, Immigration, School-Religious-Group, Crime, Physician-fee-freeze, El-Salvador-aid, Water-project-cost, Education-spending, Republican?]                                    \n",
       "194737  [Export-administration-act-south-africa, Superfund-right-to-sue, Immigration, School-Religious-Group, Crime, Physician-fee-freeze, Water-project-cost, Education-spending, Republican?]             \n",
       "194738  [Export-administration-act-south-africa, Superfund-right-to-sue, Immigration, School-Religious-Group, Crime, Physician-fee-freeze, El-Salvador-aid, Water-project-cost, Republican?]                \n",
       "194739  [Export-administration-act-south-africa, Superfund-right-to-sue, Immigration, School-Religious-Group, Physician-fee-freeze, El-Salvador-aid, Water-project-cost, Education-spending, Republican?]   \n",
       "\n",
       "                                             RHS   Support  Confidence  \\\n",
       "0       [Anti-Satellite-test-ban]                 0.550691  0.550691     \n",
       "1       [Budget-resolution]                       0.582949  0.582949     \n",
       "2       [Crime]                                   0.569124  0.569124     \n",
       "3       [Duty-free-exports]                       0.400922  0.400922     \n",
       "4       [Education-spending]                      0.391705  0.391705     \n",
       "...                      ...                           ...       ...     \n",
       "194735  [Immigration]                             0.027650  0.444444     \n",
       "194736  [Export-administration-act-south-africa]  0.027650  0.500000     \n",
       "194737  [El-Salvador-aid]                         0.027650  1.000000     \n",
       "194738  [Education-spending]                      0.027650  0.857143     \n",
       "194739  [Crime]                                   0.027650  0.923077     \n",
       "\n",
       "            Lift  \n",
       "0       1.000000  \n",
       "1       1.000000  \n",
       "2       1.000000  \n",
       "3       1.000000  \n",
       "4       1.000000  \n",
       "...          ...  \n",
       "194735  0.897158  \n",
       "194736  0.809701  \n",
       "194737  2.056872  \n",
       "194738  2.188235  \n",
       "194739  1.621925  \n",
       "\n",
       "[194740 rows x 5 columns]"
      ]
     },
     "execution_count": 21,
     "metadata": {},
     "output_type": "execute_result"
    }
   ],
   "source": [
    "#Generating the rules\n",
    "Rules = list(apriori(voting_results, min_support = 0.02, min_confidence = 0.2))\n",
    "associationRules = utils.extract(Rules)\n",
    "rules_df = pd.DataFrame(associationRules, columns = ['LHS', 'RHS', 'Support','Confidence', 'Lift'])\n",
    "rules_df"
   ]
  },
  {
   "cell_type": "code",
   "execution_count": 22,
   "id": "dffe32d7",
   "metadata": {
    "scrolled": false
   },
   "outputs": [
    {
     "data": {
      "text/html": [
       "<div>\n",
       "<style scoped>\n",
       "    .dataframe tbody tr th:only-of-type {\n",
       "        vertical-align: middle;\n",
       "    }\n",
       "\n",
       "    .dataframe tbody tr th {\n",
       "        vertical-align: top;\n",
       "    }\n",
       "\n",
       "    .dataframe thead th {\n",
       "        text-align: right;\n",
       "    }\n",
       "</style>\n",
       "<table border=\"1\" class=\"dataframe\">\n",
       "  <thead>\n",
       "    <tr style=\"text-align: right;\">\n",
       "      <th></th>\n",
       "      <th>LHS</th>\n",
       "      <th>RHS</th>\n",
       "      <th>Support</th>\n",
       "      <th>Confidence</th>\n",
       "      <th>Lift</th>\n",
       "    </tr>\n",
       "  </thead>\n",
       "  <tbody>\n",
       "    <tr>\n",
       "      <th>174804</th>\n",
       "      <td>[Physician-fee-freeze, Immigration, Anti-Satellite-test-ban, School-Religious-Group]</td>\n",
       "      <td>[Export-administration-act-south-africa, Nicaraguan-contras-aid, Republican?, El-Salvador-aid]</td>\n",
       "      <td>0.020737</td>\n",
       "      <td>0.562500</td>\n",
       "      <td>16.275000</td>\n",
       "    </tr>\n",
       "    <tr>\n",
       "      <th>174812</th>\n",
       "      <td>[Export-administration-act-south-africa, Nicaraguan-contras-aid, Republican?, El-Salvador-aid]</td>\n",
       "      <td>[Physician-fee-freeze, Immigration, School-Religious-Group, Anti-Satellite-test-ban]</td>\n",
       "      <td>0.020737</td>\n",
       "      <td>0.600000</td>\n",
       "      <td>16.275000</td>\n",
       "    </tr>\n",
       "    <tr>\n",
       "      <th>189766</th>\n",
       "      <td>[Physician-fee-freeze, Immigration, Anti-Satellite-test-ban, School-Religious-Group]</td>\n",
       "      <td>[Export-administration-act-south-africa, Crime, El-Salvador-aid, Nicaraguan-contras-aid, Republican?]</td>\n",
       "      <td>0.020737</td>\n",
       "      <td>0.562500</td>\n",
       "      <td>16.275000</td>\n",
       "    </tr>\n",
       "    <tr>\n",
       "      <th>189789</th>\n",
       "      <td>[Export-administration-act-south-africa, Nicaraguan-contras-aid, Republican?, El-Salvador-aid]</td>\n",
       "      <td>[Immigration, School-Religious-Group, Crime, Physician-fee-freeze, Anti-Satellite-test-ban]</td>\n",
       "      <td>0.020737</td>\n",
       "      <td>0.600000</td>\n",
       "      <td>16.275000</td>\n",
       "    </tr>\n",
       "    <tr>\n",
       "      <th>189836</th>\n",
       "      <td>[Immigration, School-Religious-Group, Crime, Physician-fee-freeze, Anti-Satellite-test-ban]</td>\n",
       "      <td>[Export-administration-act-south-africa, Nicaraguan-contras-aid, Republican?, El-Salvador-aid]</td>\n",
       "      <td>0.020737</td>\n",
       "      <td>0.562500</td>\n",
       "      <td>16.275000</td>\n",
       "    </tr>\n",
       "    <tr>\n",
       "      <th>189879</th>\n",
       "      <td>[Export-administration-act-south-africa, Crime, El-Salvador-aid, Nicaraguan-contras-aid, Republican?]</td>\n",
       "      <td>[Physician-fee-freeze, Immigration, School-Religious-Group, Anti-Satellite-test-ban]</td>\n",
       "      <td>0.020737</td>\n",
       "      <td>0.600000</td>\n",
       "      <td>16.275000</td>\n",
       "    </tr>\n",
       "    <tr>\n",
       "      <th>123704</th>\n",
       "      <td>[Export-administration-act-south-africa, Nicaraguan-contras-aid, Republican?]</td>\n",
       "      <td>[Physician-fee-freeze, Immigration, Anti-Satellite-test-ban, Budget-resolution]</td>\n",
       "      <td>0.020737</td>\n",
       "      <td>0.428571</td>\n",
       "      <td>15.500000</td>\n",
       "    </tr>\n",
       "    <tr>\n",
       "      <th>123710</th>\n",
       "      <td>[Physician-fee-freeze, Immigration, Anti-Satellite-test-ban, Budget-resolution]</td>\n",
       "      <td>[Export-administration-act-south-africa, Nicaraguan-contras-aid, Republican?]</td>\n",
       "      <td>0.020737</td>\n",
       "      <td>0.750000</td>\n",
       "      <td>15.500000</td>\n",
       "    </tr>\n",
       "    <tr>\n",
       "      <th>166673</th>\n",
       "      <td>[Export-administration-act-south-africa, Nicaraguan-contras-aid, Republican?]</td>\n",
       "      <td>[Immigration, Crime, Physician-fee-freeze, Anti-Satellite-test-ban, Budget-resolution]</td>\n",
       "      <td>0.020737</td>\n",
       "      <td>0.428571</td>\n",
       "      <td>15.500000</td>\n",
       "    </tr>\n",
       "    <tr>\n",
       "      <th>166684</th>\n",
       "      <td>[Physician-fee-freeze, Immigration, Anti-Satellite-test-ban, Budget-resolution]</td>\n",
       "      <td>[Export-administration-act-south-africa, Nicaraguan-contras-aid, Republican?, Crime]</td>\n",
       "      <td>0.020737</td>\n",
       "      <td>0.750000</td>\n",
       "      <td>15.500000</td>\n",
       "    </tr>\n",
       "    <tr>\n",
       "      <th>166727</th>\n",
       "      <td>[Export-administration-act-south-africa, Nicaraguan-contras-aid, Republican?, Crime]</td>\n",
       "      <td>[Physician-fee-freeze, Immigration, Anti-Satellite-test-ban, Budget-resolution]</td>\n",
       "      <td>0.020737</td>\n",
       "      <td>0.428571</td>\n",
       "      <td>15.500000</td>\n",
       "    </tr>\n",
       "    <tr>\n",
       "      <th>166740</th>\n",
       "      <td>[Immigration, Crime, Physician-fee-freeze, Anti-Satellite-test-ban, Budget-resolution]</td>\n",
       "      <td>[Export-administration-act-south-africa, Nicaraguan-contras-aid, Republican?]</td>\n",
       "      <td>0.020737</td>\n",
       "      <td>0.750000</td>\n",
       "      <td>15.500000</td>\n",
       "    </tr>\n",
       "    <tr>\n",
       "      <th>189132</th>\n",
       "      <td>[Superfund-right-to-sue, Nicaraguan-contras-aid, Republican?, Crime]</td>\n",
       "      <td>[Export-administration-act-south-africa, Physician-fee-freeze, El-Salvador-aid, Anti-Satellite-test-ban, Education-spending]</td>\n",
       "      <td>0.020737</td>\n",
       "      <td>0.750000</td>\n",
       "      <td>15.500000</td>\n",
       "    </tr>\n",
       "    <tr>\n",
       "      <th>189189</th>\n",
       "      <td>[Export-administration-act-south-africa, Physician-fee-freeze, El-Salvador-aid, Anti-Satellite-test-ban, Education-spending]</td>\n",
       "      <td>[Superfund-right-to-sue, Republican?, Crime, Nicaraguan-contras-aid]</td>\n",
       "      <td>0.020737</td>\n",
       "      <td>0.428571</td>\n",
       "      <td>15.500000</td>\n",
       "    </tr>\n",
       "    <tr>\n",
       "      <th>174463</th>\n",
       "      <td>[Education-spending, Physician-fee-freeze, Anti-Satellite-test-ban, Export-administration-act-south-africa]</td>\n",
       "      <td>[Superfund-right-to-sue, Republican?, Nicaraguan-contras-aid, El-Salvador-aid]</td>\n",
       "      <td>0.020737</td>\n",
       "      <td>0.391304</td>\n",
       "      <td>15.438735</td>\n",
       "    </tr>\n",
       "    <tr>\n",
       "      <th>174799</th>\n",
       "      <td>[Export-administration-act-south-africa, Physician-fee-freeze, Anti-Satellite-test-ban, School-Religious-Group]</td>\n",
       "      <td>[Republican?, Nicaraguan-contras-aid, Immigration, El-Salvador-aid]</td>\n",
       "      <td>0.020737</td>\n",
       "      <td>0.391304</td>\n",
       "      <td>15.438735</td>\n",
       "    </tr>\n",
       "    <tr>\n",
       "      <th>189089</th>\n",
       "      <td>[Education-spending, Physician-fee-freeze, Anti-Satellite-test-ban, Export-administration-act-south-africa]</td>\n",
       "      <td>[Superfund-right-to-sue, Crime, El-Salvador-aid, Nicaraguan-contras-aid, Republican?]</td>\n",
       "      <td>0.020737</td>\n",
       "      <td>0.391304</td>\n",
       "      <td>15.438735</td>\n",
       "    </tr>\n",
       "    <tr>\n",
       "      <th>189159</th>\n",
       "      <td>[Export-administration-act-south-africa, Crime, Physician-fee-freeze, Anti-Satellite-test-ban, Education-spending]</td>\n",
       "      <td>[Superfund-right-to-sue, Republican?, Nicaraguan-contras-aid, El-Salvador-aid]</td>\n",
       "      <td>0.020737</td>\n",
       "      <td>0.391304</td>\n",
       "      <td>15.438735</td>\n",
       "    </tr>\n",
       "    <tr>\n",
       "      <th>189761</th>\n",
       "      <td>[Export-administration-act-south-africa, Physician-fee-freeze, Anti-Satellite-test-ban, School-Religious-Group]</td>\n",
       "      <td>[Immigration, Crime, El-Salvador-aid, Nicaraguan-contras-aid, Republican?]</td>\n",
       "      <td>0.020737</td>\n",
       "      <td>0.391304</td>\n",
       "      <td>15.438735</td>\n",
       "    </tr>\n",
       "    <tr>\n",
       "      <th>189830</th>\n",
       "      <td>[Export-administration-act-south-africa, School-Religious-Group, Crime, Physician-fee-freeze, Anti-Satellite-test-ban]</td>\n",
       "      <td>[Republican?, Nicaraguan-contras-aid, Immigration, El-Salvador-aid]</td>\n",
       "      <td>0.020737</td>\n",
       "      <td>0.391304</td>\n",
       "      <td>15.438735</td>\n",
       "    </tr>\n",
       "  </tbody>\n",
       "</table>\n",
       "</div>"
      ],
      "text/plain": [
       "                                                                                                                                 LHS  \\\n",
       "174804  [Physician-fee-freeze, Immigration, Anti-Satellite-test-ban, School-Religious-Group]                                           \n",
       "174812  [Export-administration-act-south-africa, Nicaraguan-contras-aid, Republican?, El-Salvador-aid]                                 \n",
       "189766  [Physician-fee-freeze, Immigration, Anti-Satellite-test-ban, School-Religious-Group]                                           \n",
       "189789  [Export-administration-act-south-africa, Nicaraguan-contras-aid, Republican?, El-Salvador-aid]                                 \n",
       "189836  [Immigration, School-Religious-Group, Crime, Physician-fee-freeze, Anti-Satellite-test-ban]                                    \n",
       "189879  [Export-administration-act-south-africa, Crime, El-Salvador-aid, Nicaraguan-contras-aid, Republican?]                          \n",
       "123704  [Export-administration-act-south-africa, Nicaraguan-contras-aid, Republican?]                                                  \n",
       "123710  [Physician-fee-freeze, Immigration, Anti-Satellite-test-ban, Budget-resolution]                                                \n",
       "166673  [Export-administration-act-south-africa, Nicaraguan-contras-aid, Republican?]                                                  \n",
       "166684  [Physician-fee-freeze, Immigration, Anti-Satellite-test-ban, Budget-resolution]                                                \n",
       "166727  [Export-administration-act-south-africa, Nicaraguan-contras-aid, Republican?, Crime]                                           \n",
       "166740  [Immigration, Crime, Physician-fee-freeze, Anti-Satellite-test-ban, Budget-resolution]                                         \n",
       "189132  [Superfund-right-to-sue, Nicaraguan-contras-aid, Republican?, Crime]                                                           \n",
       "189189  [Export-administration-act-south-africa, Physician-fee-freeze, El-Salvador-aid, Anti-Satellite-test-ban, Education-spending]   \n",
       "174463  [Education-spending, Physician-fee-freeze, Anti-Satellite-test-ban, Export-administration-act-south-africa]                    \n",
       "174799  [Export-administration-act-south-africa, Physician-fee-freeze, Anti-Satellite-test-ban, School-Religious-Group]                \n",
       "189089  [Education-spending, Physician-fee-freeze, Anti-Satellite-test-ban, Export-administration-act-south-africa]                    \n",
       "189159  [Export-administration-act-south-africa, Crime, Physician-fee-freeze, Anti-Satellite-test-ban, Education-spending]             \n",
       "189761  [Export-administration-act-south-africa, Physician-fee-freeze, Anti-Satellite-test-ban, School-Religious-Group]                \n",
       "189830  [Export-administration-act-south-africa, School-Religious-Group, Crime, Physician-fee-freeze, Anti-Satellite-test-ban]         \n",
       "\n",
       "                                                                                                                                 RHS  \\\n",
       "174804  [Export-administration-act-south-africa, Nicaraguan-contras-aid, Republican?, El-Salvador-aid]                                 \n",
       "174812  [Physician-fee-freeze, Immigration, School-Religious-Group, Anti-Satellite-test-ban]                                           \n",
       "189766  [Export-administration-act-south-africa, Crime, El-Salvador-aid, Nicaraguan-contras-aid, Republican?]                          \n",
       "189789  [Immigration, School-Religious-Group, Crime, Physician-fee-freeze, Anti-Satellite-test-ban]                                    \n",
       "189836  [Export-administration-act-south-africa, Nicaraguan-contras-aid, Republican?, El-Salvador-aid]                                 \n",
       "189879  [Physician-fee-freeze, Immigration, School-Religious-Group, Anti-Satellite-test-ban]                                           \n",
       "123704  [Physician-fee-freeze, Immigration, Anti-Satellite-test-ban, Budget-resolution]                                                \n",
       "123710  [Export-administration-act-south-africa, Nicaraguan-contras-aid, Republican?]                                                  \n",
       "166673  [Immigration, Crime, Physician-fee-freeze, Anti-Satellite-test-ban, Budget-resolution]                                         \n",
       "166684  [Export-administration-act-south-africa, Nicaraguan-contras-aid, Republican?, Crime]                                           \n",
       "166727  [Physician-fee-freeze, Immigration, Anti-Satellite-test-ban, Budget-resolution]                                                \n",
       "166740  [Export-administration-act-south-africa, Nicaraguan-contras-aid, Republican?]                                                  \n",
       "189132  [Export-administration-act-south-africa, Physician-fee-freeze, El-Salvador-aid, Anti-Satellite-test-ban, Education-spending]   \n",
       "189189  [Superfund-right-to-sue, Republican?, Crime, Nicaraguan-contras-aid]                                                           \n",
       "174463  [Superfund-right-to-sue, Republican?, Nicaraguan-contras-aid, El-Salvador-aid]                                                 \n",
       "174799  [Republican?, Nicaraguan-contras-aid, Immigration, El-Salvador-aid]                                                            \n",
       "189089  [Superfund-right-to-sue, Crime, El-Salvador-aid, Nicaraguan-contras-aid, Republican?]                                          \n",
       "189159  [Superfund-right-to-sue, Republican?, Nicaraguan-contras-aid, El-Salvador-aid]                                                 \n",
       "189761  [Immigration, Crime, El-Salvador-aid, Nicaraguan-contras-aid, Republican?]                                                     \n",
       "189830  [Republican?, Nicaraguan-contras-aid, Immigration, El-Salvador-aid]                                                            \n",
       "\n",
       "         Support  Confidence       Lift  \n",
       "174804  0.020737  0.562500    16.275000  \n",
       "174812  0.020737  0.600000    16.275000  \n",
       "189766  0.020737  0.562500    16.275000  \n",
       "189789  0.020737  0.600000    16.275000  \n",
       "189836  0.020737  0.562500    16.275000  \n",
       "189879  0.020737  0.600000    16.275000  \n",
       "123704  0.020737  0.428571    15.500000  \n",
       "123710  0.020737  0.750000    15.500000  \n",
       "166673  0.020737  0.428571    15.500000  \n",
       "166684  0.020737  0.750000    15.500000  \n",
       "166727  0.020737  0.428571    15.500000  \n",
       "166740  0.020737  0.750000    15.500000  \n",
       "189132  0.020737  0.750000    15.500000  \n",
       "189189  0.020737  0.428571    15.500000  \n",
       "174463  0.020737  0.391304    15.438735  \n",
       "174799  0.020737  0.391304    15.438735  \n",
       "189089  0.020737  0.391304    15.438735  \n",
       "189159  0.020737  0.391304    15.438735  \n",
       "189761  0.020737  0.391304    15.438735  \n",
       "189830  0.020737  0.391304    15.438735  "
      ]
     },
     "execution_count": 22,
     "metadata": {},
     "output_type": "execute_result"
    }
   ],
   "source": [
    "rules_df.nlargest(20, 'Lift') #Filter According to lift"
   ]
  },
  {
   "cell_type": "code",
   "execution_count": 31,
   "id": "926fed15",
   "metadata": {},
   "outputs": [
    {
     "data": {
      "application/vnd.plotly.v1+json": {
       "config": {
        "plotlyServerURL": "https://plot.ly"
       },
       "data": [
        {
         "customdata": [
          [
           [
            "Education-spending"
           ],
           [
            "Republican?"
           ]
          ],
          [
           [
            "El-Salvador-aid"
           ],
           [
            "Republican?"
           ]
          ],
          [
           [
            "Physician-fee-freeze"
           ],
           [
            "Republican?"
           ]
          ],
          [
           [
            "El-Salvador-aid"
           ],
           [
            "Republican?",
            "Crime"
           ]
          ],
          [
           [
            "Crime",
            "El-Salvador-aid"
           ],
           [
            "Republican?"
           ]
          ],
          [
           [
            "Physician-fee-freeze"
           ],
           [
            "Republican?",
            "Crime"
           ]
          ],
          [
           [
            "Physician-fee-freeze",
            "Crime"
           ],
           [
            "Republican?"
           ]
          ],
          [
           [
            "Education-spending"
           ],
           [
            "Republican?",
            "Physician-fee-freeze"
           ]
          ],
          [
           [
            "Physician-fee-freeze"
           ],
           [
            "Education-spending",
            "Republican?"
           ]
          ],
          [
           [
            "Education-spending",
            "Physician-fee-freeze"
           ],
           [
            "Republican?"
           ]
          ],
          [
           [
            "El-Salvador-aid"
           ],
           [
            "Physician-fee-freeze",
            "Republican?"
           ]
          ],
          [
           [
            "Physician-fee-freeze"
           ],
           [
            "Republican?",
            "El-Salvador-aid"
           ]
          ],
          [
           [
            "Physician-fee-freeze",
            "El-Salvador-aid"
           ],
           [
            "Republican?"
           ]
          ],
          [
           [
            "School-Religious-Group",
            "El-Salvador-aid"
           ],
           [
            "Republican?"
           ]
          ],
          [
           [
            "Superfund-right-to-sue",
            "El-Salvador-aid"
           ],
           [
            "Republican?"
           ]
          ],
          [
           [
            "Physician-fee-freeze"
           ],
           [
            "Republican?",
            "School-Religious-Group"
           ]
          ],
          [
           [
            "Physician-fee-freeze",
            "School-Religious-Group"
           ],
           [
            "Republican?"
           ]
          ],
          [
           [
            "Physician-fee-freeze"
           ],
           [
            "Superfund-right-to-sue",
            "Republican?"
           ]
          ],
          [
           [
            "Superfund-right-to-sue",
            "Physician-fee-freeze"
           ],
           [
            "Republican?"
           ]
          ],
          [
           [
            "Physician-fee-freeze"
           ],
           [
            "Republican?",
            "Crime",
            "El-Salvador-aid"
           ]
          ],
          [
           [
            "Crime",
            "El-Salvador-aid"
           ],
           [
            "Physician-fee-freeze",
            "Republican?"
           ]
          ],
          [
           [
            "Physician-fee-freeze",
            "Crime"
           ],
           [
            "Republican?",
            "El-Salvador-aid"
           ]
          ],
          [
           [
            "Physician-fee-freeze",
            "El-Salvador-aid"
           ],
           [
            "Republican?",
            "Crime"
           ]
          ],
          [
           [
            "Physician-fee-freeze",
            "Crime",
            "El-Salvador-aid"
           ],
           [
            "Republican?"
           ]
          ],
          [
           [
            "Crime",
            "El-Salvador-aid"
           ],
           [
            "Republican?",
            "School-Religious-Group"
           ]
          ],
          [
           [
            "School-Religious-Group",
            "Crime",
            "El-Salvador-aid"
           ],
           [
            "Republican?"
           ]
          ],
          [
           [
            "Physician-fee-freeze"
           ],
           [
            "Republican?",
            "School-Religious-Group",
            "Crime"
           ]
          ],
          [
           [
            "Physician-fee-freeze",
            "Crime"
           ],
           [
            "Republican?",
            "School-Religious-Group"
           ]
          ],
          [
           [
            "Physician-fee-freeze",
            "School-Religious-Group"
           ],
           [
            "Republican?",
            "Crime"
           ]
          ],
          [
           [
            "Physician-fee-freeze",
            "School-Religious-Group",
            "Crime"
           ],
           [
            "Republican?"
           ]
          ],
          [
           [
            "Physician-fee-freeze"
           ],
           [
            "Republican?",
            "School-Religious-Group",
            "El-Salvador-aid"
           ]
          ],
          [
           [
            "Physician-fee-freeze",
            "El-Salvador-aid"
           ],
           [
            "Republican?",
            "School-Religious-Group"
           ]
          ],
          [
           [
            "School-Religious-Group",
            "El-Salvador-aid"
           ],
           [
            "Physician-fee-freeze",
            "Republican?"
           ]
          ],
          [
           [
            "Physician-fee-freeze",
            "School-Religious-Group"
           ],
           [
            "Republican?",
            "El-Salvador-aid"
           ]
          ],
          [
           [
            "Physician-fee-freeze",
            "School-Religious-Group",
            "El-Salvador-aid"
           ],
           [
            "Republican?"
           ]
          ],
          [
           [
            "Physician-fee-freeze"
           ],
           [
            "Superfund-right-to-sue",
            "Republican?",
            "El-Salvador-aid"
           ]
          ],
          [
           [
            "Physician-fee-freeze",
            "El-Salvador-aid"
           ],
           [
            "Superfund-right-to-sue",
            "Republican?"
           ]
          ],
          [
           [
            "Superfund-right-to-sue",
            "El-Salvador-aid"
           ],
           [
            "Physician-fee-freeze",
            "Republican?"
           ]
          ],
          [
           [
            "Superfund-right-to-sue",
            "Physician-fee-freeze"
           ],
           [
            "Republican?",
            "El-Salvador-aid"
           ]
          ],
          [
           [
            "Superfund-right-to-sue",
            "Physician-fee-freeze",
            "El-Salvador-aid"
           ],
           [
            "Republican?"
           ]
          ],
          [
           [
            "Physician-fee-freeze"
           ],
           [
            "Republican?",
            "School-Religious-Group",
            "Crime",
            "El-Salvador-aid"
           ]
          ],
          [
           [
            "Physician-fee-freeze",
            "Crime"
           ],
           [
            "Republican?",
            "School-Religious-Group",
            "El-Salvador-aid"
           ]
          ],
          [
           [
            "Physician-fee-freeze",
            "El-Salvador-aid"
           ],
           [
            "Republican?",
            "School-Religious-Group",
            "Crime"
           ]
          ],
          [
           [
            "Physician-fee-freeze",
            "School-Religious-Group"
           ],
           [
            "Republican?",
            "Crime",
            "El-Salvador-aid"
           ]
          ],
          [
           [
            "Physician-fee-freeze",
            "Crime",
            "El-Salvador-aid"
           ],
           [
            "Republican?",
            "School-Religious-Group"
           ]
          ],
          [
           [
            "School-Religious-Group",
            "Crime",
            "El-Salvador-aid"
           ],
           [
            "Republican?",
            "Physician-fee-freeze"
           ]
          ],
          [
           [
            "Physician-fee-freeze",
            "School-Religious-Group",
            "Crime"
           ],
           [
            "Republican?",
            "El-Salvador-aid"
           ]
          ],
          [
           [
            "Physician-fee-freeze",
            "School-Religious-Group",
            "El-Salvador-aid"
           ],
           [
            "Republican?",
            "Crime"
           ]
          ],
          [
           [
            "Physician-fee-freeze",
            "School-Religious-Group",
            "Crime",
            "El-Salvador-aid"
           ],
           [
            "Republican?"
           ]
          ]
         ],
         "hovertemplate": "Confidence=%{x}<br>Support=%{y}<br>LHS=%{customdata[0]}<br>RHS=%{customdata[1]}<br>Lift=%{marker.color}<extra></extra>",
         "legendgroup": "",
         "marker": {
          "color": [
           2.0484677703416696,
           1.9213894485909697,
           2.3920794774088185,
           1.9389621758686268,
           1.992864012906829,
           2.4187898089171975,
           2.396500412348955,
           2.0959331880900507,
           2.4475067842605154,
           2.468862275449102,
           1.9679948510912177,
           2.450101981351981,
           2.4120621033382337,
           1.9093242087254065,
           2.014456294511569,
           2.432585995085995,
           2.3863216962301808,
           2.447643097643098,
           2.4183300066533597,
           2.4492475429975427,
           2.040491268470543,
           2.4488714877936433,
           2.4332735802280787,
           2.4026663653824425,
           2.0663772580871025,
           1.9745090823938714,
           2.448168737737083,
           2.423207638776501,
           2.3992308616752798,
           2.3908982035928146,
           2.4487847222222223,
           2.511005016993041,
           1.9545855379188715,
           2.5020964360587,
           2.3976047904191615,
           2.465909090909091,
           2.521800842758927,
           2.0766308715026667,
           2.530893874643875,
           2.431736526946108,
           2.4477774064171123,
           2.436377245508982,
           2.524016714771895,
           2.489801121876593,
           2.489801121876593,
           2.02048417132216,
           2.503846153846154,
           2.4076433121019107,
           2.386655260906758
          ],
          "coloraxis": "coloraxis",
          "symbol": "circle"
         },
         "mode": "markers",
         "name": "",
         "orientation": "v",
         "showlegend": false,
         "type": "scatter",
         "x": [
          0.788235294117647,
          0.7393364928909952,
          0.9204545454545454,
          0.7014218009478673,
          0.766839378238342,
          0.875,
          0.9221556886227545,
          0.7823529411764706,
          0.7556818181818181,
          0.9500000000000001,
          0.7345971563981043,
          0.8806818181818181,
          0.9281437125748503,
          0.7346938775510204,
          0.7751479289940829,
          0.8295454545454545,
          0.9182389937106917,
          0.7613636363636364,
          0.9305555555555555,
          0.8352272727272726,
          0.7616580310880828,
          0.8802395209580838,
          0.8802395209580838,
          0.9245283018867924,
          0.7046632124352331,
          0.7597765363128491,
          0.7840909090909091,
          0.8263473053892216,
          0.8679245283018868,
          0.92,
          0.8125,
          0.8562874251497007,
          0.729591836734694,
          0.89937106918239,
          0.9225806451612903,
          0.7443181818181819,
          0.784431137724551,
          0.7751479289940829,
          0.9097222222222223,
          0.9357142857142858,
          0.7670454545454545,
          0.8083832335329341,
          0.8083832335329341,
          0.8490566037735848,
          0.8490566037735848,
          0.7541899441340782,
          0.8999999999999999,
          0.8709677419354838,
          0.9183673469387755
         ],
         "xaxis": "x",
         "y": [
          0.3087557603686636,
          0.35944700460829493,
          0.37327188940092165,
          0.34101382488479265,
          0.34101382488479265,
          0.3548387096774194,
          0.3548387096774194,
          0.3064516129032258,
          0.3064516129032258,
          0.3064516129032258,
          0.35714285714285715,
          0.35714285714285715,
          0.35714285714285715,
          0.3317972350230415,
          0.30184331797235026,
          0.33640552995391704,
          0.33640552995391704,
          0.3087557603686636,
          0.3087557603686636,
          0.3387096774193548,
          0.3387096774193548,
          0.3387096774193548,
          0.3387096774193548,
          0.3387096774193548,
          0.31336405529953915,
          0.31336405529953915,
          0.31797235023041476,
          0.31797235023041476,
          0.31797235023041476,
          0.31797235023041476,
          0.3294930875576037,
          0.3294930875576037,
          0.3294930875576037,
          0.3294930875576037,
          0.3294930875576037,
          0.30184331797235026,
          0.30184331797235026,
          0.30184331797235026,
          0.30184331797235026,
          0.30184331797235026,
          0.31105990783410137,
          0.31105990783410137,
          0.31105990783410137,
          0.31105990783410137,
          0.31105990783410137,
          0.31105990783410137,
          0.31105990783410137,
          0.31105990783410137,
          0.31105990783410137
         ],
         "yaxis": "y"
        }
       ],
       "layout": {
        "coloraxis": {
         "colorbar": {
          "title": {
           "text": "Lift"
          }
         },
         "colorscale": [
          [
           0,
           "rgb(75, 41, 145)"
          ],
          [
           0.16666666666666666,
           "rgb(135, 44, 162)"
          ],
          [
           0.3333333333333333,
           "rgb(192, 54, 157)"
          ],
          [
           0.5,
           "rgb(234, 79, 136)"
          ],
          [
           0.6666666666666666,
           "rgb(250, 120, 118)"
          ],
          [
           0.8333333333333334,
           "rgb(246, 169, 122)"
          ],
          [
           1,
           "rgb(237, 217, 163)"
          ]
         ]
        },
        "legend": {
         "tracegroupgap": 0
        },
        "margin": {
         "t": 60
        },
        "template": {
         "data": {
          "bar": [
           {
            "error_x": {
             "color": "#2a3f5f"
            },
            "error_y": {
             "color": "#2a3f5f"
            },
            "marker": {
             "line": {
              "color": "#E5ECF6",
              "width": 0.5
             },
             "pattern": {
              "fillmode": "overlay",
              "size": 10,
              "solidity": 0.2
             }
            },
            "type": "bar"
           }
          ],
          "barpolar": [
           {
            "marker": {
             "line": {
              "color": "#E5ECF6",
              "width": 0.5
             },
             "pattern": {
              "fillmode": "overlay",
              "size": 10,
              "solidity": 0.2
             }
            },
            "type": "barpolar"
           }
          ],
          "carpet": [
           {
            "aaxis": {
             "endlinecolor": "#2a3f5f",
             "gridcolor": "white",
             "linecolor": "white",
             "minorgridcolor": "white",
             "startlinecolor": "#2a3f5f"
            },
            "baxis": {
             "endlinecolor": "#2a3f5f",
             "gridcolor": "white",
             "linecolor": "white",
             "minorgridcolor": "white",
             "startlinecolor": "#2a3f5f"
            },
            "type": "carpet"
           }
          ],
          "choropleth": [
           {
            "colorbar": {
             "outlinewidth": 0,
             "ticks": ""
            },
            "type": "choropleth"
           }
          ],
          "contour": [
           {
            "colorbar": {
             "outlinewidth": 0,
             "ticks": ""
            },
            "colorscale": [
             [
              0,
              "#0d0887"
             ],
             [
              0.1111111111111111,
              "#46039f"
             ],
             [
              0.2222222222222222,
              "#7201a8"
             ],
             [
              0.3333333333333333,
              "#9c179e"
             ],
             [
              0.4444444444444444,
              "#bd3786"
             ],
             [
              0.5555555555555556,
              "#d8576b"
             ],
             [
              0.6666666666666666,
              "#ed7953"
             ],
             [
              0.7777777777777778,
              "#fb9f3a"
             ],
             [
              0.8888888888888888,
              "#fdca26"
             ],
             [
              1,
              "#f0f921"
             ]
            ],
            "type": "contour"
           }
          ],
          "contourcarpet": [
           {
            "colorbar": {
             "outlinewidth": 0,
             "ticks": ""
            },
            "type": "contourcarpet"
           }
          ],
          "heatmap": [
           {
            "colorbar": {
             "outlinewidth": 0,
             "ticks": ""
            },
            "colorscale": [
             [
              0,
              "#0d0887"
             ],
             [
              0.1111111111111111,
              "#46039f"
             ],
             [
              0.2222222222222222,
              "#7201a8"
             ],
             [
              0.3333333333333333,
              "#9c179e"
             ],
             [
              0.4444444444444444,
              "#bd3786"
             ],
             [
              0.5555555555555556,
              "#d8576b"
             ],
             [
              0.6666666666666666,
              "#ed7953"
             ],
             [
              0.7777777777777778,
              "#fb9f3a"
             ],
             [
              0.8888888888888888,
              "#fdca26"
             ],
             [
              1,
              "#f0f921"
             ]
            ],
            "type": "heatmap"
           }
          ],
          "heatmapgl": [
           {
            "colorbar": {
             "outlinewidth": 0,
             "ticks": ""
            },
            "colorscale": [
             [
              0,
              "#0d0887"
             ],
             [
              0.1111111111111111,
              "#46039f"
             ],
             [
              0.2222222222222222,
              "#7201a8"
             ],
             [
              0.3333333333333333,
              "#9c179e"
             ],
             [
              0.4444444444444444,
              "#bd3786"
             ],
             [
              0.5555555555555556,
              "#d8576b"
             ],
             [
              0.6666666666666666,
              "#ed7953"
             ],
             [
              0.7777777777777778,
              "#fb9f3a"
             ],
             [
              0.8888888888888888,
              "#fdca26"
             ],
             [
              1,
              "#f0f921"
             ]
            ],
            "type": "heatmapgl"
           }
          ],
          "histogram": [
           {
            "marker": {
             "pattern": {
              "fillmode": "overlay",
              "size": 10,
              "solidity": 0.2
             }
            },
            "type": "histogram"
           }
          ],
          "histogram2d": [
           {
            "colorbar": {
             "outlinewidth": 0,
             "ticks": ""
            },
            "colorscale": [
             [
              0,
              "#0d0887"
             ],
             [
              0.1111111111111111,
              "#46039f"
             ],
             [
              0.2222222222222222,
              "#7201a8"
             ],
             [
              0.3333333333333333,
              "#9c179e"
             ],
             [
              0.4444444444444444,
              "#bd3786"
             ],
             [
              0.5555555555555556,
              "#d8576b"
             ],
             [
              0.6666666666666666,
              "#ed7953"
             ],
             [
              0.7777777777777778,
              "#fb9f3a"
             ],
             [
              0.8888888888888888,
              "#fdca26"
             ],
             [
              1,
              "#f0f921"
             ]
            ],
            "type": "histogram2d"
           }
          ],
          "histogram2dcontour": [
           {
            "colorbar": {
             "outlinewidth": 0,
             "ticks": ""
            },
            "colorscale": [
             [
              0,
              "#0d0887"
             ],
             [
              0.1111111111111111,
              "#46039f"
             ],
             [
              0.2222222222222222,
              "#7201a8"
             ],
             [
              0.3333333333333333,
              "#9c179e"
             ],
             [
              0.4444444444444444,
              "#bd3786"
             ],
             [
              0.5555555555555556,
              "#d8576b"
             ],
             [
              0.6666666666666666,
              "#ed7953"
             ],
             [
              0.7777777777777778,
              "#fb9f3a"
             ],
             [
              0.8888888888888888,
              "#fdca26"
             ],
             [
              1,
              "#f0f921"
             ]
            ],
            "type": "histogram2dcontour"
           }
          ],
          "mesh3d": [
           {
            "colorbar": {
             "outlinewidth": 0,
             "ticks": ""
            },
            "type": "mesh3d"
           }
          ],
          "parcoords": [
           {
            "line": {
             "colorbar": {
              "outlinewidth": 0,
              "ticks": ""
             }
            },
            "type": "parcoords"
           }
          ],
          "pie": [
           {
            "automargin": true,
            "type": "pie"
           }
          ],
          "scatter": [
           {
            "fillpattern": {
             "fillmode": "overlay",
             "size": 10,
             "solidity": 0.2
            },
            "type": "scatter"
           }
          ],
          "scatter3d": [
           {
            "line": {
             "colorbar": {
              "outlinewidth": 0,
              "ticks": ""
             }
            },
            "marker": {
             "colorbar": {
              "outlinewidth": 0,
              "ticks": ""
             }
            },
            "type": "scatter3d"
           }
          ],
          "scattercarpet": [
           {
            "marker": {
             "colorbar": {
              "outlinewidth": 0,
              "ticks": ""
             }
            },
            "type": "scattercarpet"
           }
          ],
          "scattergeo": [
           {
            "marker": {
             "colorbar": {
              "outlinewidth": 0,
              "ticks": ""
             }
            },
            "type": "scattergeo"
           }
          ],
          "scattergl": [
           {
            "marker": {
             "colorbar": {
              "outlinewidth": 0,
              "ticks": ""
             }
            },
            "type": "scattergl"
           }
          ],
          "scattermapbox": [
           {
            "marker": {
             "colorbar": {
              "outlinewidth": 0,
              "ticks": ""
             }
            },
            "type": "scattermapbox"
           }
          ],
          "scatterpolar": [
           {
            "marker": {
             "colorbar": {
              "outlinewidth": 0,
              "ticks": ""
             }
            },
            "type": "scatterpolar"
           }
          ],
          "scatterpolargl": [
           {
            "marker": {
             "colorbar": {
              "outlinewidth": 0,
              "ticks": ""
             }
            },
            "type": "scatterpolargl"
           }
          ],
          "scatterternary": [
           {
            "marker": {
             "colorbar": {
              "outlinewidth": 0,
              "ticks": ""
             }
            },
            "type": "scatterternary"
           }
          ],
          "surface": [
           {
            "colorbar": {
             "outlinewidth": 0,
             "ticks": ""
            },
            "colorscale": [
             [
              0,
              "#0d0887"
             ],
             [
              0.1111111111111111,
              "#46039f"
             ],
             [
              0.2222222222222222,
              "#7201a8"
             ],
             [
              0.3333333333333333,
              "#9c179e"
             ],
             [
              0.4444444444444444,
              "#bd3786"
             ],
             [
              0.5555555555555556,
              "#d8576b"
             ],
             [
              0.6666666666666666,
              "#ed7953"
             ],
             [
              0.7777777777777778,
              "#fb9f3a"
             ],
             [
              0.8888888888888888,
              "#fdca26"
             ],
             [
              1,
              "#f0f921"
             ]
            ],
            "type": "surface"
           }
          ],
          "table": [
           {
            "cells": {
             "fill": {
              "color": "#EBF0F8"
             },
             "line": {
              "color": "white"
             }
            },
            "header": {
             "fill": {
              "color": "#C8D4E3"
             },
             "line": {
              "color": "white"
             }
            },
            "type": "table"
           }
          ]
         },
         "layout": {
          "annotationdefaults": {
           "arrowcolor": "#2a3f5f",
           "arrowhead": 0,
           "arrowwidth": 1
          },
          "autotypenumbers": "strict",
          "coloraxis": {
           "colorbar": {
            "outlinewidth": 0,
            "ticks": ""
           }
          },
          "colorscale": {
           "diverging": [
            [
             0,
             "#8e0152"
            ],
            [
             0.1,
             "#c51b7d"
            ],
            [
             0.2,
             "#de77ae"
            ],
            [
             0.3,
             "#f1b6da"
            ],
            [
             0.4,
             "#fde0ef"
            ],
            [
             0.5,
             "#f7f7f7"
            ],
            [
             0.6,
             "#e6f5d0"
            ],
            [
             0.7,
             "#b8e186"
            ],
            [
             0.8,
             "#7fbc41"
            ],
            [
             0.9,
             "#4d9221"
            ],
            [
             1,
             "#276419"
            ]
           ],
           "sequential": [
            [
             0,
             "#0d0887"
            ],
            [
             0.1111111111111111,
             "#46039f"
            ],
            [
             0.2222222222222222,
             "#7201a8"
            ],
            [
             0.3333333333333333,
             "#9c179e"
            ],
            [
             0.4444444444444444,
             "#bd3786"
            ],
            [
             0.5555555555555556,
             "#d8576b"
            ],
            [
             0.6666666666666666,
             "#ed7953"
            ],
            [
             0.7777777777777778,
             "#fb9f3a"
            ],
            [
             0.8888888888888888,
             "#fdca26"
            ],
            [
             1,
             "#f0f921"
            ]
           ],
           "sequentialminus": [
            [
             0,
             "#0d0887"
            ],
            [
             0.1111111111111111,
             "#46039f"
            ],
            [
             0.2222222222222222,
             "#7201a8"
            ],
            [
             0.3333333333333333,
             "#9c179e"
            ],
            [
             0.4444444444444444,
             "#bd3786"
            ],
            [
             0.5555555555555556,
             "#d8576b"
            ],
            [
             0.6666666666666666,
             "#ed7953"
            ],
            [
             0.7777777777777778,
             "#fb9f3a"
            ],
            [
             0.8888888888888888,
             "#fdca26"
            ],
            [
             1,
             "#f0f921"
            ]
           ]
          },
          "colorway": [
           "#636efa",
           "#EF553B",
           "#00cc96",
           "#ab63fa",
           "#FFA15A",
           "#19d3f3",
           "#FF6692",
           "#B6E880",
           "#FF97FF",
           "#FECB52"
          ],
          "font": {
           "color": "#2a3f5f"
          },
          "geo": {
           "bgcolor": "white",
           "lakecolor": "white",
           "landcolor": "#E5ECF6",
           "showlakes": true,
           "showland": true,
           "subunitcolor": "white"
          },
          "hoverlabel": {
           "align": "left"
          },
          "hovermode": "closest",
          "mapbox": {
           "style": "light"
          },
          "paper_bgcolor": "white",
          "plot_bgcolor": "#E5ECF6",
          "polar": {
           "angularaxis": {
            "gridcolor": "white",
            "linecolor": "white",
            "ticks": ""
           },
           "bgcolor": "#E5ECF6",
           "radialaxis": {
            "gridcolor": "white",
            "linecolor": "white",
            "ticks": ""
           }
          },
          "scene": {
           "xaxis": {
            "backgroundcolor": "#E5ECF6",
            "gridcolor": "white",
            "gridwidth": 2,
            "linecolor": "white",
            "showbackground": true,
            "ticks": "",
            "zerolinecolor": "white"
           },
           "yaxis": {
            "backgroundcolor": "#E5ECF6",
            "gridcolor": "white",
            "gridwidth": 2,
            "linecolor": "white",
            "showbackground": true,
            "ticks": "",
            "zerolinecolor": "white"
           },
           "zaxis": {
            "backgroundcolor": "#E5ECF6",
            "gridcolor": "white",
            "gridwidth": 2,
            "linecolor": "white",
            "showbackground": true,
            "ticks": "",
            "zerolinecolor": "white"
           }
          },
          "shapedefaults": {
           "line": {
            "color": "#2a3f5f"
           }
          },
          "ternary": {
           "aaxis": {
            "gridcolor": "white",
            "linecolor": "white",
            "ticks": ""
           },
           "baxis": {
            "gridcolor": "white",
            "linecolor": "white",
            "ticks": ""
           },
           "bgcolor": "#E5ECF6",
           "caxis": {
            "gridcolor": "white",
            "linecolor": "white",
            "ticks": ""
           }
          },
          "title": {
           "x": 0.05
          },
          "xaxis": {
           "automargin": true,
           "gridcolor": "white",
           "linecolor": "white",
           "ticks": "",
           "title": {
            "standoff": 15
           },
           "zerolinecolor": "white",
           "zerolinewidth": 2
          },
          "yaxis": {
           "automargin": true,
           "gridcolor": "white",
           "linecolor": "white",
           "ticks": "",
           "title": {
            "standoff": 15
           },
           "zerolinecolor": "white",
           "zerolinewidth": 2
          }
         }
        },
        "xaxis": {
         "anchor": "y",
         "domain": [
          0,
          1
         ],
         "title": {
          "text": "Confidence"
         }
        },
        "yaxis": {
         "anchor": "x",
         "domain": [
          0,
          1
         ],
         "title": {
          "text": "Support"
         }
        }
       }
      },
      "text/html": [
       "<div>                            <div id=\"67de2795-5379-40f6-a922-e78693433a4c\" class=\"plotly-graph-div\" style=\"height:525px; width:100%;\"></div>            <script type=\"text/javascript\">                require([\"plotly\"], function(Plotly) {                    window.PLOTLYENV=window.PLOTLYENV || {};                                    if (document.getElementById(\"67de2795-5379-40f6-a922-e78693433a4c\")) {                    Plotly.newPlot(                        \"67de2795-5379-40f6-a922-e78693433a4c\",                        [{\"customdata\":[[[\"Education-spending\"],[\"Republican?\"]],[[\"El-Salvador-aid\"],[\"Republican?\"]],[[\"Physician-fee-freeze\"],[\"Republican?\"]],[[\"El-Salvador-aid\"],[\"Republican?\",\"Crime\"]],[[\"Crime\",\"El-Salvador-aid\"],[\"Republican?\"]],[[\"Physician-fee-freeze\"],[\"Republican?\",\"Crime\"]],[[\"Physician-fee-freeze\",\"Crime\"],[\"Republican?\"]],[[\"Education-spending\"],[\"Republican?\",\"Physician-fee-freeze\"]],[[\"Physician-fee-freeze\"],[\"Education-spending\",\"Republican?\"]],[[\"Education-spending\",\"Physician-fee-freeze\"],[\"Republican?\"]],[[\"El-Salvador-aid\"],[\"Physician-fee-freeze\",\"Republican?\"]],[[\"Physician-fee-freeze\"],[\"Republican?\",\"El-Salvador-aid\"]],[[\"Physician-fee-freeze\",\"El-Salvador-aid\"],[\"Republican?\"]],[[\"School-Religious-Group\",\"El-Salvador-aid\"],[\"Republican?\"]],[[\"Superfund-right-to-sue\",\"El-Salvador-aid\"],[\"Republican?\"]],[[\"Physician-fee-freeze\"],[\"Republican?\",\"School-Religious-Group\"]],[[\"Physician-fee-freeze\",\"School-Religious-Group\"],[\"Republican?\"]],[[\"Physician-fee-freeze\"],[\"Superfund-right-to-sue\",\"Republican?\"]],[[\"Superfund-right-to-sue\",\"Physician-fee-freeze\"],[\"Republican?\"]],[[\"Physician-fee-freeze\"],[\"Republican?\",\"Crime\",\"El-Salvador-aid\"]],[[\"Crime\",\"El-Salvador-aid\"],[\"Physician-fee-freeze\",\"Republican?\"]],[[\"Physician-fee-freeze\",\"Crime\"],[\"Republican?\",\"El-Salvador-aid\"]],[[\"Physician-fee-freeze\",\"El-Salvador-aid\"],[\"Republican?\",\"Crime\"]],[[\"Physician-fee-freeze\",\"Crime\",\"El-Salvador-aid\"],[\"Republican?\"]],[[\"Crime\",\"El-Salvador-aid\"],[\"Republican?\",\"School-Religious-Group\"]],[[\"School-Religious-Group\",\"Crime\",\"El-Salvador-aid\"],[\"Republican?\"]],[[\"Physician-fee-freeze\"],[\"Republican?\",\"School-Religious-Group\",\"Crime\"]],[[\"Physician-fee-freeze\",\"Crime\"],[\"Republican?\",\"School-Religious-Group\"]],[[\"Physician-fee-freeze\",\"School-Religious-Group\"],[\"Republican?\",\"Crime\"]],[[\"Physician-fee-freeze\",\"School-Religious-Group\",\"Crime\"],[\"Republican?\"]],[[\"Physician-fee-freeze\"],[\"Republican?\",\"School-Religious-Group\",\"El-Salvador-aid\"]],[[\"Physician-fee-freeze\",\"El-Salvador-aid\"],[\"Republican?\",\"School-Religious-Group\"]],[[\"School-Religious-Group\",\"El-Salvador-aid\"],[\"Physician-fee-freeze\",\"Republican?\"]],[[\"Physician-fee-freeze\",\"School-Religious-Group\"],[\"Republican?\",\"El-Salvador-aid\"]],[[\"Physician-fee-freeze\",\"School-Religious-Group\",\"El-Salvador-aid\"],[\"Republican?\"]],[[\"Physician-fee-freeze\"],[\"Superfund-right-to-sue\",\"Republican?\",\"El-Salvador-aid\"]],[[\"Physician-fee-freeze\",\"El-Salvador-aid\"],[\"Superfund-right-to-sue\",\"Republican?\"]],[[\"Superfund-right-to-sue\",\"El-Salvador-aid\"],[\"Physician-fee-freeze\",\"Republican?\"]],[[\"Superfund-right-to-sue\",\"Physician-fee-freeze\"],[\"Republican?\",\"El-Salvador-aid\"]],[[\"Superfund-right-to-sue\",\"Physician-fee-freeze\",\"El-Salvador-aid\"],[\"Republican?\"]],[[\"Physician-fee-freeze\"],[\"Republican?\",\"School-Religious-Group\",\"Crime\",\"El-Salvador-aid\"]],[[\"Physician-fee-freeze\",\"Crime\"],[\"Republican?\",\"School-Religious-Group\",\"El-Salvador-aid\"]],[[\"Physician-fee-freeze\",\"El-Salvador-aid\"],[\"Republican?\",\"School-Religious-Group\",\"Crime\"]],[[\"Physician-fee-freeze\",\"School-Religious-Group\"],[\"Republican?\",\"Crime\",\"El-Salvador-aid\"]],[[\"Physician-fee-freeze\",\"Crime\",\"El-Salvador-aid\"],[\"Republican?\",\"School-Religious-Group\"]],[[\"School-Religious-Group\",\"Crime\",\"El-Salvador-aid\"],[\"Republican?\",\"Physician-fee-freeze\"]],[[\"Physician-fee-freeze\",\"School-Religious-Group\",\"Crime\"],[\"Republican?\",\"El-Salvador-aid\"]],[[\"Physician-fee-freeze\",\"School-Religious-Group\",\"El-Salvador-aid\"],[\"Republican?\",\"Crime\"]],[[\"Physician-fee-freeze\",\"School-Religious-Group\",\"Crime\",\"El-Salvador-aid\"],[\"Republican?\"]]],\"hovertemplate\":\"Confidence=%{x}<br>Support=%{y}<br>LHS=%{customdata[0]}<br>RHS=%{customdata[1]}<br>Lift=%{marker.color}<extra></extra>\",\"legendgroup\":\"\",\"marker\":{\"color\":[2.0484677703416696,1.9213894485909697,2.3920794774088185,1.9389621758686268,1.992864012906829,2.4187898089171975,2.396500412348955,2.0959331880900507,2.4475067842605154,2.468862275449102,1.9679948510912177,2.450101981351981,2.4120621033382337,1.9093242087254065,2.014456294511569,2.432585995085995,2.3863216962301808,2.447643097643098,2.4183300066533597,2.4492475429975427,2.040491268470543,2.4488714877936433,2.4332735802280787,2.4026663653824425,2.0663772580871025,1.9745090823938714,2.448168737737083,2.423207638776501,2.3992308616752798,2.3908982035928146,2.4487847222222223,2.511005016993041,1.9545855379188715,2.5020964360587,2.3976047904191615,2.465909090909091,2.521800842758927,2.0766308715026667,2.530893874643875,2.431736526946108,2.4477774064171123,2.436377245508982,2.524016714771895,2.489801121876593,2.489801121876593,2.02048417132216,2.503846153846154,2.4076433121019107,2.386655260906758],\"coloraxis\":\"coloraxis\",\"symbol\":\"circle\"},\"mode\":\"markers\",\"name\":\"\",\"orientation\":\"v\",\"showlegend\":false,\"x\":[0.788235294117647,0.7393364928909952,0.9204545454545454,0.7014218009478673,0.766839378238342,0.875,0.9221556886227545,0.7823529411764706,0.7556818181818181,0.9500000000000001,0.7345971563981043,0.8806818181818181,0.9281437125748503,0.7346938775510204,0.7751479289940829,0.8295454545454545,0.9182389937106917,0.7613636363636364,0.9305555555555555,0.8352272727272726,0.7616580310880828,0.8802395209580838,0.8802395209580838,0.9245283018867924,0.7046632124352331,0.7597765363128491,0.7840909090909091,0.8263473053892216,0.8679245283018868,0.92,0.8125,0.8562874251497007,0.729591836734694,0.89937106918239,0.9225806451612903,0.7443181818181819,0.784431137724551,0.7751479289940829,0.9097222222222223,0.9357142857142858,0.7670454545454545,0.8083832335329341,0.8083832335329341,0.8490566037735848,0.8490566037735848,0.7541899441340782,0.8999999999999999,0.8709677419354838,0.9183673469387755],\"xaxis\":\"x\",\"y\":[0.3087557603686636,0.35944700460829493,0.37327188940092165,0.34101382488479265,0.34101382488479265,0.3548387096774194,0.3548387096774194,0.3064516129032258,0.3064516129032258,0.3064516129032258,0.35714285714285715,0.35714285714285715,0.35714285714285715,0.3317972350230415,0.30184331797235026,0.33640552995391704,0.33640552995391704,0.3087557603686636,0.3087557603686636,0.3387096774193548,0.3387096774193548,0.3387096774193548,0.3387096774193548,0.3387096774193548,0.31336405529953915,0.31336405529953915,0.31797235023041476,0.31797235023041476,0.31797235023041476,0.31797235023041476,0.3294930875576037,0.3294930875576037,0.3294930875576037,0.3294930875576037,0.3294930875576037,0.30184331797235026,0.30184331797235026,0.30184331797235026,0.30184331797235026,0.30184331797235026,0.31105990783410137,0.31105990783410137,0.31105990783410137,0.31105990783410137,0.31105990783410137,0.31105990783410137,0.31105990783410137,0.31105990783410137,0.31105990783410137],\"yaxis\":\"y\",\"type\":\"scatter\"}],                        {\"template\":{\"data\":{\"histogram2dcontour\":[{\"type\":\"histogram2dcontour\",\"colorbar\":{\"outlinewidth\":0,\"ticks\":\"\"},\"colorscale\":[[0.0,\"#0d0887\"],[0.1111111111111111,\"#46039f\"],[0.2222222222222222,\"#7201a8\"],[0.3333333333333333,\"#9c179e\"],[0.4444444444444444,\"#bd3786\"],[0.5555555555555556,\"#d8576b\"],[0.6666666666666666,\"#ed7953\"],[0.7777777777777778,\"#fb9f3a\"],[0.8888888888888888,\"#fdca26\"],[1.0,\"#f0f921\"]]}],\"choropleth\":[{\"type\":\"choropleth\",\"colorbar\":{\"outlinewidth\":0,\"ticks\":\"\"}}],\"histogram2d\":[{\"type\":\"histogram2d\",\"colorbar\":{\"outlinewidth\":0,\"ticks\":\"\"},\"colorscale\":[[0.0,\"#0d0887\"],[0.1111111111111111,\"#46039f\"],[0.2222222222222222,\"#7201a8\"],[0.3333333333333333,\"#9c179e\"],[0.4444444444444444,\"#bd3786\"],[0.5555555555555556,\"#d8576b\"],[0.6666666666666666,\"#ed7953\"],[0.7777777777777778,\"#fb9f3a\"],[0.8888888888888888,\"#fdca26\"],[1.0,\"#f0f921\"]]}],\"heatmap\":[{\"type\":\"heatmap\",\"colorbar\":{\"outlinewidth\":0,\"ticks\":\"\"},\"colorscale\":[[0.0,\"#0d0887\"],[0.1111111111111111,\"#46039f\"],[0.2222222222222222,\"#7201a8\"],[0.3333333333333333,\"#9c179e\"],[0.4444444444444444,\"#bd3786\"],[0.5555555555555556,\"#d8576b\"],[0.6666666666666666,\"#ed7953\"],[0.7777777777777778,\"#fb9f3a\"],[0.8888888888888888,\"#fdca26\"],[1.0,\"#f0f921\"]]}],\"heatmapgl\":[{\"type\":\"heatmapgl\",\"colorbar\":{\"outlinewidth\":0,\"ticks\":\"\"},\"colorscale\":[[0.0,\"#0d0887\"],[0.1111111111111111,\"#46039f\"],[0.2222222222222222,\"#7201a8\"],[0.3333333333333333,\"#9c179e\"],[0.4444444444444444,\"#bd3786\"],[0.5555555555555556,\"#d8576b\"],[0.6666666666666666,\"#ed7953\"],[0.7777777777777778,\"#fb9f3a\"],[0.8888888888888888,\"#fdca26\"],[1.0,\"#f0f921\"]]}],\"contourcarpet\":[{\"type\":\"contourcarpet\",\"colorbar\":{\"outlinewidth\":0,\"ticks\":\"\"}}],\"contour\":[{\"type\":\"contour\",\"colorbar\":{\"outlinewidth\":0,\"ticks\":\"\"},\"colorscale\":[[0.0,\"#0d0887\"],[0.1111111111111111,\"#46039f\"],[0.2222222222222222,\"#7201a8\"],[0.3333333333333333,\"#9c179e\"],[0.4444444444444444,\"#bd3786\"],[0.5555555555555556,\"#d8576b\"],[0.6666666666666666,\"#ed7953\"],[0.7777777777777778,\"#fb9f3a\"],[0.8888888888888888,\"#fdca26\"],[1.0,\"#f0f921\"]]}],\"surface\":[{\"type\":\"surface\",\"colorbar\":{\"outlinewidth\":0,\"ticks\":\"\"},\"colorscale\":[[0.0,\"#0d0887\"],[0.1111111111111111,\"#46039f\"],[0.2222222222222222,\"#7201a8\"],[0.3333333333333333,\"#9c179e\"],[0.4444444444444444,\"#bd3786\"],[0.5555555555555556,\"#d8576b\"],[0.6666666666666666,\"#ed7953\"],[0.7777777777777778,\"#fb9f3a\"],[0.8888888888888888,\"#fdca26\"],[1.0,\"#f0f921\"]]}],\"mesh3d\":[{\"type\":\"mesh3d\",\"colorbar\":{\"outlinewidth\":0,\"ticks\":\"\"}}],\"scatter\":[{\"fillpattern\":{\"fillmode\":\"overlay\",\"size\":10,\"solidity\":0.2},\"type\":\"scatter\"}],\"parcoords\":[{\"type\":\"parcoords\",\"line\":{\"colorbar\":{\"outlinewidth\":0,\"ticks\":\"\"}}}],\"scatterpolargl\":[{\"type\":\"scatterpolargl\",\"marker\":{\"colorbar\":{\"outlinewidth\":0,\"ticks\":\"\"}}}],\"bar\":[{\"error_x\":{\"color\":\"#2a3f5f\"},\"error_y\":{\"color\":\"#2a3f5f\"},\"marker\":{\"line\":{\"color\":\"#E5ECF6\",\"width\":0.5},\"pattern\":{\"fillmode\":\"overlay\",\"size\":10,\"solidity\":0.2}},\"type\":\"bar\"}],\"scattergeo\":[{\"type\":\"scattergeo\",\"marker\":{\"colorbar\":{\"outlinewidth\":0,\"ticks\":\"\"}}}],\"scatterpolar\":[{\"type\":\"scatterpolar\",\"marker\":{\"colorbar\":{\"outlinewidth\":0,\"ticks\":\"\"}}}],\"histogram\":[{\"marker\":{\"pattern\":{\"fillmode\":\"overlay\",\"size\":10,\"solidity\":0.2}},\"type\":\"histogram\"}],\"scattergl\":[{\"type\":\"scattergl\",\"marker\":{\"colorbar\":{\"outlinewidth\":0,\"ticks\":\"\"}}}],\"scatter3d\":[{\"type\":\"scatter3d\",\"line\":{\"colorbar\":{\"outlinewidth\":0,\"ticks\":\"\"}},\"marker\":{\"colorbar\":{\"outlinewidth\":0,\"ticks\":\"\"}}}],\"scattermapbox\":[{\"type\":\"scattermapbox\",\"marker\":{\"colorbar\":{\"outlinewidth\":0,\"ticks\":\"\"}}}],\"scatterternary\":[{\"type\":\"scatterternary\",\"marker\":{\"colorbar\":{\"outlinewidth\":0,\"ticks\":\"\"}}}],\"scattercarpet\":[{\"type\":\"scattercarpet\",\"marker\":{\"colorbar\":{\"outlinewidth\":0,\"ticks\":\"\"}}}],\"carpet\":[{\"aaxis\":{\"endlinecolor\":\"#2a3f5f\",\"gridcolor\":\"white\",\"linecolor\":\"white\",\"minorgridcolor\":\"white\",\"startlinecolor\":\"#2a3f5f\"},\"baxis\":{\"endlinecolor\":\"#2a3f5f\",\"gridcolor\":\"white\",\"linecolor\":\"white\",\"minorgridcolor\":\"white\",\"startlinecolor\":\"#2a3f5f\"},\"type\":\"carpet\"}],\"table\":[{\"cells\":{\"fill\":{\"color\":\"#EBF0F8\"},\"line\":{\"color\":\"white\"}},\"header\":{\"fill\":{\"color\":\"#C8D4E3\"},\"line\":{\"color\":\"white\"}},\"type\":\"table\"}],\"barpolar\":[{\"marker\":{\"line\":{\"color\":\"#E5ECF6\",\"width\":0.5},\"pattern\":{\"fillmode\":\"overlay\",\"size\":10,\"solidity\":0.2}},\"type\":\"barpolar\"}],\"pie\":[{\"automargin\":true,\"type\":\"pie\"}]},\"layout\":{\"autotypenumbers\":\"strict\",\"colorway\":[\"#636efa\",\"#EF553B\",\"#00cc96\",\"#ab63fa\",\"#FFA15A\",\"#19d3f3\",\"#FF6692\",\"#B6E880\",\"#FF97FF\",\"#FECB52\"],\"font\":{\"color\":\"#2a3f5f\"},\"hovermode\":\"closest\",\"hoverlabel\":{\"align\":\"left\"},\"paper_bgcolor\":\"white\",\"plot_bgcolor\":\"#E5ECF6\",\"polar\":{\"bgcolor\":\"#E5ECF6\",\"angularaxis\":{\"gridcolor\":\"white\",\"linecolor\":\"white\",\"ticks\":\"\"},\"radialaxis\":{\"gridcolor\":\"white\",\"linecolor\":\"white\",\"ticks\":\"\"}},\"ternary\":{\"bgcolor\":\"#E5ECF6\",\"aaxis\":{\"gridcolor\":\"white\",\"linecolor\":\"white\",\"ticks\":\"\"},\"baxis\":{\"gridcolor\":\"white\",\"linecolor\":\"white\",\"ticks\":\"\"},\"caxis\":{\"gridcolor\":\"white\",\"linecolor\":\"white\",\"ticks\":\"\"}},\"coloraxis\":{\"colorbar\":{\"outlinewidth\":0,\"ticks\":\"\"}},\"colorscale\":{\"sequential\":[[0.0,\"#0d0887\"],[0.1111111111111111,\"#46039f\"],[0.2222222222222222,\"#7201a8\"],[0.3333333333333333,\"#9c179e\"],[0.4444444444444444,\"#bd3786\"],[0.5555555555555556,\"#d8576b\"],[0.6666666666666666,\"#ed7953\"],[0.7777777777777778,\"#fb9f3a\"],[0.8888888888888888,\"#fdca26\"],[1.0,\"#f0f921\"]],\"sequentialminus\":[[0.0,\"#0d0887\"],[0.1111111111111111,\"#46039f\"],[0.2222222222222222,\"#7201a8\"],[0.3333333333333333,\"#9c179e\"],[0.4444444444444444,\"#bd3786\"],[0.5555555555555556,\"#d8576b\"],[0.6666666666666666,\"#ed7953\"],[0.7777777777777778,\"#fb9f3a\"],[0.8888888888888888,\"#fdca26\"],[1.0,\"#f0f921\"]],\"diverging\":[[0,\"#8e0152\"],[0.1,\"#c51b7d\"],[0.2,\"#de77ae\"],[0.3,\"#f1b6da\"],[0.4,\"#fde0ef\"],[0.5,\"#f7f7f7\"],[0.6,\"#e6f5d0\"],[0.7,\"#b8e186\"],[0.8,\"#7fbc41\"],[0.9,\"#4d9221\"],[1,\"#276419\"]]},\"xaxis\":{\"gridcolor\":\"white\",\"linecolor\":\"white\",\"ticks\":\"\",\"title\":{\"standoff\":15},\"zerolinecolor\":\"white\",\"automargin\":true,\"zerolinewidth\":2},\"yaxis\":{\"gridcolor\":\"white\",\"linecolor\":\"white\",\"ticks\":\"\",\"title\":{\"standoff\":15},\"zerolinecolor\":\"white\",\"automargin\":true,\"zerolinewidth\":2},\"scene\":{\"xaxis\":{\"backgroundcolor\":\"#E5ECF6\",\"gridcolor\":\"white\",\"linecolor\":\"white\",\"showbackground\":true,\"ticks\":\"\",\"zerolinecolor\":\"white\",\"gridwidth\":2},\"yaxis\":{\"backgroundcolor\":\"#E5ECF6\",\"gridcolor\":\"white\",\"linecolor\":\"white\",\"showbackground\":true,\"ticks\":\"\",\"zerolinecolor\":\"white\",\"gridwidth\":2},\"zaxis\":{\"backgroundcolor\":\"#E5ECF6\",\"gridcolor\":\"white\",\"linecolor\":\"white\",\"showbackground\":true,\"ticks\":\"\",\"zerolinecolor\":\"white\",\"gridwidth\":2}},\"shapedefaults\":{\"line\":{\"color\":\"#2a3f5f\"}},\"annotationdefaults\":{\"arrowcolor\":\"#2a3f5f\",\"arrowhead\":0,\"arrowwidth\":1},\"geo\":{\"bgcolor\":\"white\",\"landcolor\":\"#E5ECF6\",\"subunitcolor\":\"white\",\"showland\":true,\"showlakes\":true,\"lakecolor\":\"white\"},\"title\":{\"x\":0.05},\"mapbox\":{\"style\":\"light\"}}},\"xaxis\":{\"anchor\":\"y\",\"domain\":[0.0,1.0],\"title\":{\"text\":\"Confidence\"}},\"yaxis\":{\"anchor\":\"x\",\"domain\":[0.0,1.0],\"title\":{\"text\":\"Support\"}},\"coloraxis\":{\"colorbar\":{\"title\":{\"text\":\"Lift\"}},\"colorscale\":[[0.0,\"rgb(75, 41, 145)\"],[0.16666666666666666,\"rgb(135, 44, 162)\"],[0.3333333333333333,\"rgb(192, 54, 157)\"],[0.5,\"rgb(234, 79, 136)\"],[0.6666666666666666,\"rgb(250, 120, 118)\"],[0.8333333333333334,\"rgb(246, 169, 122)\"],[1.0,\"rgb(237, 217, 163)\"]]},\"legend\":{\"tracegroupgap\":0},\"margin\":{\"t\":60}},                        {\"responsive\": true}                    ).then(function(){\n",
       "                            \n",
       "var gd = document.getElementById('67de2795-5379-40f6-a922-e78693433a4c');\n",
       "var x = new MutationObserver(function (mutations, observer) {{\n",
       "        var display = window.getComputedStyle(gd).display;\n",
       "        if (!display || display === 'none') {{\n",
       "            console.log([gd, 'removed!']);\n",
       "            Plotly.purge(gd);\n",
       "            observer.disconnect();\n",
       "        }}\n",
       "}});\n",
       "\n",
       "// Listen for the removal of the full notebook cells\n",
       "var notebookContainer = gd.closest('#notebook-container');\n",
       "if (notebookContainer) {{\n",
       "    x.observe(notebookContainer, {childList: true});\n",
       "}}\n",
       "\n",
       "// Listen for the clearing of the current output cell\n",
       "var outputEl = gd.closest('.output');\n",
       "if (outputEl) {{\n",
       "    x.observe(outputEl, {childList: true});\n",
       "}}\n",
       "\n",
       "                        })                };                });            </script>        </div>"
      ]
     },
     "metadata": {},
     "output_type": "display_data"
    }
   ],
   "source": [
    "#Plotting the generated rules\n",
    "rules_df = pd.DataFrame(associationRules, columns = ['LHS', 'RHS', 'Support','Confidence', 'Lift'])\n",
    "import plotly.express as px\n",
    "fig = px.scatter(rules_df, x = 'Confidence', y = 'Support', color = 'Lift',\n",
    "                hover_data = ['LHS', 'RHS'], color_continuous_scale = 'agsunset')\n",
    "fig.show()"
   ]
  },
  {
   "cell_type": "code",
   "execution_count": 24,
   "id": "41df9461",
   "metadata": {},
   "outputs": [
    {
     "data": {
      "application/vnd.plotly.v1+json": {
       "config": {
        "plotlyServerURL": "https://plot.ly"
       },
       "data": [
        {
         "customdata": [
          [
           [
            "Physician-fee-freeze",
            "Immigration",
            "Anti-Satellite-test-ban",
            "School-Religious-Group"
           ],
           [
            "Export-administration-act-south-africa",
            "Nicaraguan-contras-aid",
            "Republican?",
            "El-Salvador-aid"
           ]
          ],
          [
           [
            "Export-administration-act-south-africa",
            "Nicaraguan-contras-aid",
            "Republican?",
            "El-Salvador-aid"
           ],
           [
            "Physician-fee-freeze",
            "Immigration",
            "School-Religious-Group",
            "Anti-Satellite-test-ban"
           ]
          ],
          [
           [
            "Physician-fee-freeze",
            "Immigration",
            "Anti-Satellite-test-ban",
            "School-Religious-Group"
           ],
           [
            "Export-administration-act-south-africa",
            "Crime",
            "El-Salvador-aid",
            "Nicaraguan-contras-aid",
            "Republican?"
           ]
          ],
          [
           [
            "Export-administration-act-south-africa",
            "Nicaraguan-contras-aid",
            "Republican?",
            "El-Salvador-aid"
           ],
           [
            "Immigration",
            "School-Religious-Group",
            "Crime",
            "Physician-fee-freeze",
            "Anti-Satellite-test-ban"
           ]
          ],
          [
           [
            "Immigration",
            "School-Religious-Group",
            "Crime",
            "Physician-fee-freeze",
            "Anti-Satellite-test-ban"
           ],
           [
            "Export-administration-act-south-africa",
            "Nicaraguan-contras-aid",
            "Republican?",
            "El-Salvador-aid"
           ]
          ],
          [
           [
            "Export-administration-act-south-africa",
            "Crime",
            "El-Salvador-aid",
            "Nicaraguan-contras-aid",
            "Republican?"
           ],
           [
            "Physician-fee-freeze",
            "Immigration",
            "School-Religious-Group",
            "Anti-Satellite-test-ban"
           ]
          ],
          [
           [
            "Export-administration-act-south-africa",
            "Nicaraguan-contras-aid",
            "Republican?"
           ],
           [
            "Physician-fee-freeze",
            "Immigration",
            "Anti-Satellite-test-ban",
            "Budget-resolution"
           ]
          ],
          [
           [
            "Physician-fee-freeze",
            "Immigration",
            "Anti-Satellite-test-ban",
            "Budget-resolution"
           ],
           [
            "Export-administration-act-south-africa",
            "Nicaraguan-contras-aid",
            "Republican?"
           ]
          ],
          [
           [
            "Export-administration-act-south-africa",
            "Nicaraguan-contras-aid",
            "Republican?"
           ],
           [
            "Immigration",
            "Crime",
            "Physician-fee-freeze",
            "Anti-Satellite-test-ban",
            "Budget-resolution"
           ]
          ],
          [
           [
            "Physician-fee-freeze",
            "Immigration",
            "Anti-Satellite-test-ban",
            "Budget-resolution"
           ],
           [
            "Export-administration-act-south-africa",
            "Nicaraguan-contras-aid",
            "Republican?",
            "Crime"
           ]
          ],
          [
           [
            "Export-administration-act-south-africa",
            "Nicaraguan-contras-aid",
            "Republican?",
            "Crime"
           ],
           [
            "Physician-fee-freeze",
            "Immigration",
            "Anti-Satellite-test-ban",
            "Budget-resolution"
           ]
          ],
          [
           [
            "Immigration",
            "Crime",
            "Physician-fee-freeze",
            "Anti-Satellite-test-ban",
            "Budget-resolution"
           ],
           [
            "Export-administration-act-south-africa",
            "Nicaraguan-contras-aid",
            "Republican?"
           ]
          ],
          [
           [
            "Superfund-right-to-sue",
            "Nicaraguan-contras-aid",
            "Republican?",
            "Crime"
           ],
           [
            "Export-administration-act-south-africa",
            "Physician-fee-freeze",
            "El-Salvador-aid",
            "Anti-Satellite-test-ban",
            "Education-spending"
           ]
          ],
          [
           [
            "Export-administration-act-south-africa",
            "Physician-fee-freeze",
            "El-Salvador-aid",
            "Anti-Satellite-test-ban",
            "Education-spending"
           ],
           [
            "Superfund-right-to-sue",
            "Republican?",
            "Crime",
            "Nicaraguan-contras-aid"
           ]
          ],
          [
           [
            "Education-spending",
            "Physician-fee-freeze",
            "Anti-Satellite-test-ban",
            "Export-administration-act-south-africa"
           ],
           [
            "Superfund-right-to-sue",
            "Republican?",
            "Nicaraguan-contras-aid",
            "El-Salvador-aid"
           ]
          ],
          [
           [
            "Export-administration-act-south-africa",
            "Physician-fee-freeze",
            "Anti-Satellite-test-ban",
            "School-Religious-Group"
           ],
           [
            "Republican?",
            "Nicaraguan-contras-aid",
            "Immigration",
            "El-Salvador-aid"
           ]
          ],
          [
           [
            "Education-spending",
            "Physician-fee-freeze",
            "Anti-Satellite-test-ban",
            "Export-administration-act-south-africa"
           ],
           [
            "Superfund-right-to-sue",
            "Crime",
            "El-Salvador-aid",
            "Nicaraguan-contras-aid",
            "Republican?"
           ]
          ],
          [
           [
            "Export-administration-act-south-africa",
            "Crime",
            "Physician-fee-freeze",
            "Anti-Satellite-test-ban",
            "Education-spending"
           ],
           [
            "Superfund-right-to-sue",
            "Republican?",
            "Nicaraguan-contras-aid",
            "El-Salvador-aid"
           ]
          ],
          [
           [
            "Export-administration-act-south-africa",
            "Physician-fee-freeze",
            "Anti-Satellite-test-ban",
            "School-Religious-Group"
           ],
           [
            "Immigration",
            "Crime",
            "El-Salvador-aid",
            "Nicaraguan-contras-aid",
            "Republican?"
           ]
          ],
          [
           [
            "Export-administration-act-south-africa",
            "School-Religious-Group",
            "Crime",
            "Physician-fee-freeze",
            "Anti-Satellite-test-ban"
           ],
           [
            "Republican?",
            "Nicaraguan-contras-aid",
            "Immigration",
            "El-Salvador-aid"
           ]
          ]
         ],
         "hovertemplate": "Confidence=%{x}<br>Lift=%{y}<br>LHS=%{customdata[0]}<br>RHS=%{customdata[1]}<br>Support=%{marker.color}<extra></extra>",
         "legendgroup": "",
         "marker": {
          "color": [
           0.020737327188940093,
           0.020737327188940093,
           0.020737327188940093,
           0.020737327188940093,
           0.020737327188940093,
           0.020737327188940093,
           0.020737327188940093,
           0.020737327188940093,
           0.020737327188940093,
           0.020737327188940093,
           0.020737327188940093,
           0.020737327188940093,
           0.020737327188940093,
           0.020737327188940093,
           0.020737327188940093,
           0.020737327188940093,
           0.020737327188940093,
           0.020737327188940093,
           0.020737327188940093,
           0.020737327188940093
          ],
          "coloraxis": "coloraxis",
          "symbol": "circle"
         },
         "mode": "markers",
         "name": "",
         "orientation": "v",
         "showlegend": false,
         "type": "scatter",
         "x": [
          0.5625,
          0.6,
          0.5625,
          0.6,
          0.5625,
          0.6,
          0.4285714285714286,
          0.75,
          0.4285714285714286,
          0.75,
          0.4285714285714286,
          0.75,
          0.75,
          0.4285714285714286,
          0.391304347826087,
          0.391304347826087,
          0.391304347826087,
          0.391304347826087,
          0.391304347826087,
          0.391304347826087
         ],
         "xaxis": "x",
         "y": [
          16.275,
          16.275,
          16.275,
          16.275,
          16.275,
          16.275,
          15.5,
          15.5,
          15.5,
          15.5,
          15.5,
          15.5,
          15.5,
          15.5,
          15.438735177865613,
          15.438735177865613,
          15.438735177865613,
          15.438735177865613,
          15.438735177865613,
          15.438735177865613
         ],
         "yaxis": "y"
        }
       ],
       "layout": {
        "coloraxis": {
         "colorbar": {
          "title": {
           "text": "Support"
          }
         },
         "colorscale": [
          [
           0,
           "rgb(75, 41, 145)"
          ],
          [
           0.16666666666666666,
           "rgb(135, 44, 162)"
          ],
          [
           0.3333333333333333,
           "rgb(192, 54, 157)"
          ],
          [
           0.5,
           "rgb(234, 79, 136)"
          ],
          [
           0.6666666666666666,
           "rgb(250, 120, 118)"
          ],
          [
           0.8333333333333334,
           "rgb(246, 169, 122)"
          ],
          [
           1,
           "rgb(237, 217, 163)"
          ]
         ]
        },
        "legend": {
         "tracegroupgap": 0
        },
        "margin": {
         "t": 60
        },
        "template": {
         "data": {
          "bar": [
           {
            "error_x": {
             "color": "#2a3f5f"
            },
            "error_y": {
             "color": "#2a3f5f"
            },
            "marker": {
             "line": {
              "color": "#E5ECF6",
              "width": 0.5
             },
             "pattern": {
              "fillmode": "overlay",
              "size": 10,
              "solidity": 0.2
             }
            },
            "type": "bar"
           }
          ],
          "barpolar": [
           {
            "marker": {
             "line": {
              "color": "#E5ECF6",
              "width": 0.5
             },
             "pattern": {
              "fillmode": "overlay",
              "size": 10,
              "solidity": 0.2
             }
            },
            "type": "barpolar"
           }
          ],
          "carpet": [
           {
            "aaxis": {
             "endlinecolor": "#2a3f5f",
             "gridcolor": "white",
             "linecolor": "white",
             "minorgridcolor": "white",
             "startlinecolor": "#2a3f5f"
            },
            "baxis": {
             "endlinecolor": "#2a3f5f",
             "gridcolor": "white",
             "linecolor": "white",
             "minorgridcolor": "white",
             "startlinecolor": "#2a3f5f"
            },
            "type": "carpet"
           }
          ],
          "choropleth": [
           {
            "colorbar": {
             "outlinewidth": 0,
             "ticks": ""
            },
            "type": "choropleth"
           }
          ],
          "contour": [
           {
            "colorbar": {
             "outlinewidth": 0,
             "ticks": ""
            },
            "colorscale": [
             [
              0,
              "#0d0887"
             ],
             [
              0.1111111111111111,
              "#46039f"
             ],
             [
              0.2222222222222222,
              "#7201a8"
             ],
             [
              0.3333333333333333,
              "#9c179e"
             ],
             [
              0.4444444444444444,
              "#bd3786"
             ],
             [
              0.5555555555555556,
              "#d8576b"
             ],
             [
              0.6666666666666666,
              "#ed7953"
             ],
             [
              0.7777777777777778,
              "#fb9f3a"
             ],
             [
              0.8888888888888888,
              "#fdca26"
             ],
             [
              1,
              "#f0f921"
             ]
            ],
            "type": "contour"
           }
          ],
          "contourcarpet": [
           {
            "colorbar": {
             "outlinewidth": 0,
             "ticks": ""
            },
            "type": "contourcarpet"
           }
          ],
          "heatmap": [
           {
            "colorbar": {
             "outlinewidth": 0,
             "ticks": ""
            },
            "colorscale": [
             [
              0,
              "#0d0887"
             ],
             [
              0.1111111111111111,
              "#46039f"
             ],
             [
              0.2222222222222222,
              "#7201a8"
             ],
             [
              0.3333333333333333,
              "#9c179e"
             ],
             [
              0.4444444444444444,
              "#bd3786"
             ],
             [
              0.5555555555555556,
              "#d8576b"
             ],
             [
              0.6666666666666666,
              "#ed7953"
             ],
             [
              0.7777777777777778,
              "#fb9f3a"
             ],
             [
              0.8888888888888888,
              "#fdca26"
             ],
             [
              1,
              "#f0f921"
             ]
            ],
            "type": "heatmap"
           }
          ],
          "heatmapgl": [
           {
            "colorbar": {
             "outlinewidth": 0,
             "ticks": ""
            },
            "colorscale": [
             [
              0,
              "#0d0887"
             ],
             [
              0.1111111111111111,
              "#46039f"
             ],
             [
              0.2222222222222222,
              "#7201a8"
             ],
             [
              0.3333333333333333,
              "#9c179e"
             ],
             [
              0.4444444444444444,
              "#bd3786"
             ],
             [
              0.5555555555555556,
              "#d8576b"
             ],
             [
              0.6666666666666666,
              "#ed7953"
             ],
             [
              0.7777777777777778,
              "#fb9f3a"
             ],
             [
              0.8888888888888888,
              "#fdca26"
             ],
             [
              1,
              "#f0f921"
             ]
            ],
            "type": "heatmapgl"
           }
          ],
          "histogram": [
           {
            "marker": {
             "pattern": {
              "fillmode": "overlay",
              "size": 10,
              "solidity": 0.2
             }
            },
            "type": "histogram"
           }
          ],
          "histogram2d": [
           {
            "colorbar": {
             "outlinewidth": 0,
             "ticks": ""
            },
            "colorscale": [
             [
              0,
              "#0d0887"
             ],
             [
              0.1111111111111111,
              "#46039f"
             ],
             [
              0.2222222222222222,
              "#7201a8"
             ],
             [
              0.3333333333333333,
              "#9c179e"
             ],
             [
              0.4444444444444444,
              "#bd3786"
             ],
             [
              0.5555555555555556,
              "#d8576b"
             ],
             [
              0.6666666666666666,
              "#ed7953"
             ],
             [
              0.7777777777777778,
              "#fb9f3a"
             ],
             [
              0.8888888888888888,
              "#fdca26"
             ],
             [
              1,
              "#f0f921"
             ]
            ],
            "type": "histogram2d"
           }
          ],
          "histogram2dcontour": [
           {
            "colorbar": {
             "outlinewidth": 0,
             "ticks": ""
            },
            "colorscale": [
             [
              0,
              "#0d0887"
             ],
             [
              0.1111111111111111,
              "#46039f"
             ],
             [
              0.2222222222222222,
              "#7201a8"
             ],
             [
              0.3333333333333333,
              "#9c179e"
             ],
             [
              0.4444444444444444,
              "#bd3786"
             ],
             [
              0.5555555555555556,
              "#d8576b"
             ],
             [
              0.6666666666666666,
              "#ed7953"
             ],
             [
              0.7777777777777778,
              "#fb9f3a"
             ],
             [
              0.8888888888888888,
              "#fdca26"
             ],
             [
              1,
              "#f0f921"
             ]
            ],
            "type": "histogram2dcontour"
           }
          ],
          "mesh3d": [
           {
            "colorbar": {
             "outlinewidth": 0,
             "ticks": ""
            },
            "type": "mesh3d"
           }
          ],
          "parcoords": [
           {
            "line": {
             "colorbar": {
              "outlinewidth": 0,
              "ticks": ""
             }
            },
            "type": "parcoords"
           }
          ],
          "pie": [
           {
            "automargin": true,
            "type": "pie"
           }
          ],
          "scatter": [
           {
            "fillpattern": {
             "fillmode": "overlay",
             "size": 10,
             "solidity": 0.2
            },
            "type": "scatter"
           }
          ],
          "scatter3d": [
           {
            "line": {
             "colorbar": {
              "outlinewidth": 0,
              "ticks": ""
             }
            },
            "marker": {
             "colorbar": {
              "outlinewidth": 0,
              "ticks": ""
             }
            },
            "type": "scatter3d"
           }
          ],
          "scattercarpet": [
           {
            "marker": {
             "colorbar": {
              "outlinewidth": 0,
              "ticks": ""
             }
            },
            "type": "scattercarpet"
           }
          ],
          "scattergeo": [
           {
            "marker": {
             "colorbar": {
              "outlinewidth": 0,
              "ticks": ""
             }
            },
            "type": "scattergeo"
           }
          ],
          "scattergl": [
           {
            "marker": {
             "colorbar": {
              "outlinewidth": 0,
              "ticks": ""
             }
            },
            "type": "scattergl"
           }
          ],
          "scattermapbox": [
           {
            "marker": {
             "colorbar": {
              "outlinewidth": 0,
              "ticks": ""
             }
            },
            "type": "scattermapbox"
           }
          ],
          "scatterpolar": [
           {
            "marker": {
             "colorbar": {
              "outlinewidth": 0,
              "ticks": ""
             }
            },
            "type": "scatterpolar"
           }
          ],
          "scatterpolargl": [
           {
            "marker": {
             "colorbar": {
              "outlinewidth": 0,
              "ticks": ""
             }
            },
            "type": "scatterpolargl"
           }
          ],
          "scatterternary": [
           {
            "marker": {
             "colorbar": {
              "outlinewidth": 0,
              "ticks": ""
             }
            },
            "type": "scatterternary"
           }
          ],
          "surface": [
           {
            "colorbar": {
             "outlinewidth": 0,
             "ticks": ""
            },
            "colorscale": [
             [
              0,
              "#0d0887"
             ],
             [
              0.1111111111111111,
              "#46039f"
             ],
             [
              0.2222222222222222,
              "#7201a8"
             ],
             [
              0.3333333333333333,
              "#9c179e"
             ],
             [
              0.4444444444444444,
              "#bd3786"
             ],
             [
              0.5555555555555556,
              "#d8576b"
             ],
             [
              0.6666666666666666,
              "#ed7953"
             ],
             [
              0.7777777777777778,
              "#fb9f3a"
             ],
             [
              0.8888888888888888,
              "#fdca26"
             ],
             [
              1,
              "#f0f921"
             ]
            ],
            "type": "surface"
           }
          ],
          "table": [
           {
            "cells": {
             "fill": {
              "color": "#EBF0F8"
             },
             "line": {
              "color": "white"
             }
            },
            "header": {
             "fill": {
              "color": "#C8D4E3"
             },
             "line": {
              "color": "white"
             }
            },
            "type": "table"
           }
          ]
         },
         "layout": {
          "annotationdefaults": {
           "arrowcolor": "#2a3f5f",
           "arrowhead": 0,
           "arrowwidth": 1
          },
          "autotypenumbers": "strict",
          "coloraxis": {
           "colorbar": {
            "outlinewidth": 0,
            "ticks": ""
           }
          },
          "colorscale": {
           "diverging": [
            [
             0,
             "#8e0152"
            ],
            [
             0.1,
             "#c51b7d"
            ],
            [
             0.2,
             "#de77ae"
            ],
            [
             0.3,
             "#f1b6da"
            ],
            [
             0.4,
             "#fde0ef"
            ],
            [
             0.5,
             "#f7f7f7"
            ],
            [
             0.6,
             "#e6f5d0"
            ],
            [
             0.7,
             "#b8e186"
            ],
            [
             0.8,
             "#7fbc41"
            ],
            [
             0.9,
             "#4d9221"
            ],
            [
             1,
             "#276419"
            ]
           ],
           "sequential": [
            [
             0,
             "#0d0887"
            ],
            [
             0.1111111111111111,
             "#46039f"
            ],
            [
             0.2222222222222222,
             "#7201a8"
            ],
            [
             0.3333333333333333,
             "#9c179e"
            ],
            [
             0.4444444444444444,
             "#bd3786"
            ],
            [
             0.5555555555555556,
             "#d8576b"
            ],
            [
             0.6666666666666666,
             "#ed7953"
            ],
            [
             0.7777777777777778,
             "#fb9f3a"
            ],
            [
             0.8888888888888888,
             "#fdca26"
            ],
            [
             1,
             "#f0f921"
            ]
           ],
           "sequentialminus": [
            [
             0,
             "#0d0887"
            ],
            [
             0.1111111111111111,
             "#46039f"
            ],
            [
             0.2222222222222222,
             "#7201a8"
            ],
            [
             0.3333333333333333,
             "#9c179e"
            ],
            [
             0.4444444444444444,
             "#bd3786"
            ],
            [
             0.5555555555555556,
             "#d8576b"
            ],
            [
             0.6666666666666666,
             "#ed7953"
            ],
            [
             0.7777777777777778,
             "#fb9f3a"
            ],
            [
             0.8888888888888888,
             "#fdca26"
            ],
            [
             1,
             "#f0f921"
            ]
           ]
          },
          "colorway": [
           "#636efa",
           "#EF553B",
           "#00cc96",
           "#ab63fa",
           "#FFA15A",
           "#19d3f3",
           "#FF6692",
           "#B6E880",
           "#FF97FF",
           "#FECB52"
          ],
          "font": {
           "color": "#2a3f5f"
          },
          "geo": {
           "bgcolor": "white",
           "lakecolor": "white",
           "landcolor": "#E5ECF6",
           "showlakes": true,
           "showland": true,
           "subunitcolor": "white"
          },
          "hoverlabel": {
           "align": "left"
          },
          "hovermode": "closest",
          "mapbox": {
           "style": "light"
          },
          "paper_bgcolor": "white",
          "plot_bgcolor": "#E5ECF6",
          "polar": {
           "angularaxis": {
            "gridcolor": "white",
            "linecolor": "white",
            "ticks": ""
           },
           "bgcolor": "#E5ECF6",
           "radialaxis": {
            "gridcolor": "white",
            "linecolor": "white",
            "ticks": ""
           }
          },
          "scene": {
           "xaxis": {
            "backgroundcolor": "#E5ECF6",
            "gridcolor": "white",
            "gridwidth": 2,
            "linecolor": "white",
            "showbackground": true,
            "ticks": "",
            "zerolinecolor": "white"
           },
           "yaxis": {
            "backgroundcolor": "#E5ECF6",
            "gridcolor": "white",
            "gridwidth": 2,
            "linecolor": "white",
            "showbackground": true,
            "ticks": "",
            "zerolinecolor": "white"
           },
           "zaxis": {
            "backgroundcolor": "#E5ECF6",
            "gridcolor": "white",
            "gridwidth": 2,
            "linecolor": "white",
            "showbackground": true,
            "ticks": "",
            "zerolinecolor": "white"
           }
          },
          "shapedefaults": {
           "line": {
            "color": "#2a3f5f"
           }
          },
          "ternary": {
           "aaxis": {
            "gridcolor": "white",
            "linecolor": "white",
            "ticks": ""
           },
           "baxis": {
            "gridcolor": "white",
            "linecolor": "white",
            "ticks": ""
           },
           "bgcolor": "#E5ECF6",
           "caxis": {
            "gridcolor": "white",
            "linecolor": "white",
            "ticks": ""
           }
          },
          "title": {
           "x": 0.05
          },
          "xaxis": {
           "automargin": true,
           "gridcolor": "white",
           "linecolor": "white",
           "ticks": "",
           "title": {
            "standoff": 15
           },
           "zerolinecolor": "white",
           "zerolinewidth": 2
          },
          "yaxis": {
           "automargin": true,
           "gridcolor": "white",
           "linecolor": "white",
           "ticks": "",
           "title": {
            "standoff": 15
           },
           "zerolinecolor": "white",
           "zerolinewidth": 2
          }
         }
        },
        "xaxis": {
         "anchor": "y",
         "domain": [
          0,
          1
         ],
         "title": {
          "text": "Confidence"
         }
        },
        "yaxis": {
         "anchor": "x",
         "domain": [
          0,
          1
         ],
         "title": {
          "text": "Lift"
         }
        }
       }
      },
      "text/html": [
       "<div>                            <div id=\"255d50d9-378e-49e8-aadd-490557c17b42\" class=\"plotly-graph-div\" style=\"height:525px; width:100%;\"></div>            <script type=\"text/javascript\">                require([\"plotly\"], function(Plotly) {                    window.PLOTLYENV=window.PLOTLYENV || {};                                    if (document.getElementById(\"255d50d9-378e-49e8-aadd-490557c17b42\")) {                    Plotly.newPlot(                        \"255d50d9-378e-49e8-aadd-490557c17b42\",                        [{\"customdata\":[[[\"Physician-fee-freeze\",\"Immigration\",\"Anti-Satellite-test-ban\",\"School-Religious-Group\"],[\"Export-administration-act-south-africa\",\"Nicaraguan-contras-aid\",\"Republican?\",\"El-Salvador-aid\"]],[[\"Export-administration-act-south-africa\",\"Nicaraguan-contras-aid\",\"Republican?\",\"El-Salvador-aid\"],[\"Physician-fee-freeze\",\"Immigration\",\"School-Religious-Group\",\"Anti-Satellite-test-ban\"]],[[\"Physician-fee-freeze\",\"Immigration\",\"Anti-Satellite-test-ban\",\"School-Religious-Group\"],[\"Export-administration-act-south-africa\",\"Crime\",\"El-Salvador-aid\",\"Nicaraguan-contras-aid\",\"Republican?\"]],[[\"Export-administration-act-south-africa\",\"Nicaraguan-contras-aid\",\"Republican?\",\"El-Salvador-aid\"],[\"Immigration\",\"School-Religious-Group\",\"Crime\",\"Physician-fee-freeze\",\"Anti-Satellite-test-ban\"]],[[\"Immigration\",\"School-Religious-Group\",\"Crime\",\"Physician-fee-freeze\",\"Anti-Satellite-test-ban\"],[\"Export-administration-act-south-africa\",\"Nicaraguan-contras-aid\",\"Republican?\",\"El-Salvador-aid\"]],[[\"Export-administration-act-south-africa\",\"Crime\",\"El-Salvador-aid\",\"Nicaraguan-contras-aid\",\"Republican?\"],[\"Physician-fee-freeze\",\"Immigration\",\"School-Religious-Group\",\"Anti-Satellite-test-ban\"]],[[\"Export-administration-act-south-africa\",\"Nicaraguan-contras-aid\",\"Republican?\"],[\"Physician-fee-freeze\",\"Immigration\",\"Anti-Satellite-test-ban\",\"Budget-resolution\"]],[[\"Physician-fee-freeze\",\"Immigration\",\"Anti-Satellite-test-ban\",\"Budget-resolution\"],[\"Export-administration-act-south-africa\",\"Nicaraguan-contras-aid\",\"Republican?\"]],[[\"Export-administration-act-south-africa\",\"Nicaraguan-contras-aid\",\"Republican?\"],[\"Immigration\",\"Crime\",\"Physician-fee-freeze\",\"Anti-Satellite-test-ban\",\"Budget-resolution\"]],[[\"Physician-fee-freeze\",\"Immigration\",\"Anti-Satellite-test-ban\",\"Budget-resolution\"],[\"Export-administration-act-south-africa\",\"Nicaraguan-contras-aid\",\"Republican?\",\"Crime\"]],[[\"Export-administration-act-south-africa\",\"Nicaraguan-contras-aid\",\"Republican?\",\"Crime\"],[\"Physician-fee-freeze\",\"Immigration\",\"Anti-Satellite-test-ban\",\"Budget-resolution\"]],[[\"Immigration\",\"Crime\",\"Physician-fee-freeze\",\"Anti-Satellite-test-ban\",\"Budget-resolution\"],[\"Export-administration-act-south-africa\",\"Nicaraguan-contras-aid\",\"Republican?\"]],[[\"Superfund-right-to-sue\",\"Nicaraguan-contras-aid\",\"Republican?\",\"Crime\"],[\"Export-administration-act-south-africa\",\"Physician-fee-freeze\",\"El-Salvador-aid\",\"Anti-Satellite-test-ban\",\"Education-spending\"]],[[\"Export-administration-act-south-africa\",\"Physician-fee-freeze\",\"El-Salvador-aid\",\"Anti-Satellite-test-ban\",\"Education-spending\"],[\"Superfund-right-to-sue\",\"Republican?\",\"Crime\",\"Nicaraguan-contras-aid\"]],[[\"Education-spending\",\"Physician-fee-freeze\",\"Anti-Satellite-test-ban\",\"Export-administration-act-south-africa\"],[\"Superfund-right-to-sue\",\"Republican?\",\"Nicaraguan-contras-aid\",\"El-Salvador-aid\"]],[[\"Export-administration-act-south-africa\",\"Physician-fee-freeze\",\"Anti-Satellite-test-ban\",\"School-Religious-Group\"],[\"Republican?\",\"Nicaraguan-contras-aid\",\"Immigration\",\"El-Salvador-aid\"]],[[\"Education-spending\",\"Physician-fee-freeze\",\"Anti-Satellite-test-ban\",\"Export-administration-act-south-africa\"],[\"Superfund-right-to-sue\",\"Crime\",\"El-Salvador-aid\",\"Nicaraguan-contras-aid\",\"Republican?\"]],[[\"Export-administration-act-south-africa\",\"Crime\",\"Physician-fee-freeze\",\"Anti-Satellite-test-ban\",\"Education-spending\"],[\"Superfund-right-to-sue\",\"Republican?\",\"Nicaraguan-contras-aid\",\"El-Salvador-aid\"]],[[\"Export-administration-act-south-africa\",\"Physician-fee-freeze\",\"Anti-Satellite-test-ban\",\"School-Religious-Group\"],[\"Immigration\",\"Crime\",\"El-Salvador-aid\",\"Nicaraguan-contras-aid\",\"Republican?\"]],[[\"Export-administration-act-south-africa\",\"School-Religious-Group\",\"Crime\",\"Physician-fee-freeze\",\"Anti-Satellite-test-ban\"],[\"Republican?\",\"Nicaraguan-contras-aid\",\"Immigration\",\"El-Salvador-aid\"]]],\"hovertemplate\":\"Confidence=%{x}<br>Lift=%{y}<br>LHS=%{customdata[0]}<br>RHS=%{customdata[1]}<br>Support=%{marker.color}<extra></extra>\",\"legendgroup\":\"\",\"marker\":{\"color\":[0.020737327188940093,0.020737327188940093,0.020737327188940093,0.020737327188940093,0.020737327188940093,0.020737327188940093,0.020737327188940093,0.020737327188940093,0.020737327188940093,0.020737327188940093,0.020737327188940093,0.020737327188940093,0.020737327188940093,0.020737327188940093,0.020737327188940093,0.020737327188940093,0.020737327188940093,0.020737327188940093,0.020737327188940093,0.020737327188940093],\"coloraxis\":\"coloraxis\",\"symbol\":\"circle\"},\"mode\":\"markers\",\"name\":\"\",\"orientation\":\"v\",\"showlegend\":false,\"x\":[0.5625,0.6,0.5625,0.6,0.5625,0.6,0.4285714285714286,0.75,0.4285714285714286,0.75,0.4285714285714286,0.75,0.75,0.4285714285714286,0.391304347826087,0.391304347826087,0.391304347826087,0.391304347826087,0.391304347826087,0.391304347826087],\"xaxis\":\"x\",\"y\":[16.275,16.275,16.275,16.275,16.275,16.275,15.5,15.5,15.5,15.5,15.5,15.5,15.5,15.5,15.438735177865613,15.438735177865613,15.438735177865613,15.438735177865613,15.438735177865613,15.438735177865613],\"yaxis\":\"y\",\"type\":\"scatter\"}],                        {\"template\":{\"data\":{\"histogram2dcontour\":[{\"type\":\"histogram2dcontour\",\"colorbar\":{\"outlinewidth\":0,\"ticks\":\"\"},\"colorscale\":[[0.0,\"#0d0887\"],[0.1111111111111111,\"#46039f\"],[0.2222222222222222,\"#7201a8\"],[0.3333333333333333,\"#9c179e\"],[0.4444444444444444,\"#bd3786\"],[0.5555555555555556,\"#d8576b\"],[0.6666666666666666,\"#ed7953\"],[0.7777777777777778,\"#fb9f3a\"],[0.8888888888888888,\"#fdca26\"],[1.0,\"#f0f921\"]]}],\"choropleth\":[{\"type\":\"choropleth\",\"colorbar\":{\"outlinewidth\":0,\"ticks\":\"\"}}],\"histogram2d\":[{\"type\":\"histogram2d\",\"colorbar\":{\"outlinewidth\":0,\"ticks\":\"\"},\"colorscale\":[[0.0,\"#0d0887\"],[0.1111111111111111,\"#46039f\"],[0.2222222222222222,\"#7201a8\"],[0.3333333333333333,\"#9c179e\"],[0.4444444444444444,\"#bd3786\"],[0.5555555555555556,\"#d8576b\"],[0.6666666666666666,\"#ed7953\"],[0.7777777777777778,\"#fb9f3a\"],[0.8888888888888888,\"#fdca26\"],[1.0,\"#f0f921\"]]}],\"heatmap\":[{\"type\":\"heatmap\",\"colorbar\":{\"outlinewidth\":0,\"ticks\":\"\"},\"colorscale\":[[0.0,\"#0d0887\"],[0.1111111111111111,\"#46039f\"],[0.2222222222222222,\"#7201a8\"],[0.3333333333333333,\"#9c179e\"],[0.4444444444444444,\"#bd3786\"],[0.5555555555555556,\"#d8576b\"],[0.6666666666666666,\"#ed7953\"],[0.7777777777777778,\"#fb9f3a\"],[0.8888888888888888,\"#fdca26\"],[1.0,\"#f0f921\"]]}],\"heatmapgl\":[{\"type\":\"heatmapgl\",\"colorbar\":{\"outlinewidth\":0,\"ticks\":\"\"},\"colorscale\":[[0.0,\"#0d0887\"],[0.1111111111111111,\"#46039f\"],[0.2222222222222222,\"#7201a8\"],[0.3333333333333333,\"#9c179e\"],[0.4444444444444444,\"#bd3786\"],[0.5555555555555556,\"#d8576b\"],[0.6666666666666666,\"#ed7953\"],[0.7777777777777778,\"#fb9f3a\"],[0.8888888888888888,\"#fdca26\"],[1.0,\"#f0f921\"]]}],\"contourcarpet\":[{\"type\":\"contourcarpet\",\"colorbar\":{\"outlinewidth\":0,\"ticks\":\"\"}}],\"contour\":[{\"type\":\"contour\",\"colorbar\":{\"outlinewidth\":0,\"ticks\":\"\"},\"colorscale\":[[0.0,\"#0d0887\"],[0.1111111111111111,\"#46039f\"],[0.2222222222222222,\"#7201a8\"],[0.3333333333333333,\"#9c179e\"],[0.4444444444444444,\"#bd3786\"],[0.5555555555555556,\"#d8576b\"],[0.6666666666666666,\"#ed7953\"],[0.7777777777777778,\"#fb9f3a\"],[0.8888888888888888,\"#fdca26\"],[1.0,\"#f0f921\"]]}],\"surface\":[{\"type\":\"surface\",\"colorbar\":{\"outlinewidth\":0,\"ticks\":\"\"},\"colorscale\":[[0.0,\"#0d0887\"],[0.1111111111111111,\"#46039f\"],[0.2222222222222222,\"#7201a8\"],[0.3333333333333333,\"#9c179e\"],[0.4444444444444444,\"#bd3786\"],[0.5555555555555556,\"#d8576b\"],[0.6666666666666666,\"#ed7953\"],[0.7777777777777778,\"#fb9f3a\"],[0.8888888888888888,\"#fdca26\"],[1.0,\"#f0f921\"]]}],\"mesh3d\":[{\"type\":\"mesh3d\",\"colorbar\":{\"outlinewidth\":0,\"ticks\":\"\"}}],\"scatter\":[{\"fillpattern\":{\"fillmode\":\"overlay\",\"size\":10,\"solidity\":0.2},\"type\":\"scatter\"}],\"parcoords\":[{\"type\":\"parcoords\",\"line\":{\"colorbar\":{\"outlinewidth\":0,\"ticks\":\"\"}}}],\"scatterpolargl\":[{\"type\":\"scatterpolargl\",\"marker\":{\"colorbar\":{\"outlinewidth\":0,\"ticks\":\"\"}}}],\"bar\":[{\"error_x\":{\"color\":\"#2a3f5f\"},\"error_y\":{\"color\":\"#2a3f5f\"},\"marker\":{\"line\":{\"color\":\"#E5ECF6\",\"width\":0.5},\"pattern\":{\"fillmode\":\"overlay\",\"size\":10,\"solidity\":0.2}},\"type\":\"bar\"}],\"scattergeo\":[{\"type\":\"scattergeo\",\"marker\":{\"colorbar\":{\"outlinewidth\":0,\"ticks\":\"\"}}}],\"scatterpolar\":[{\"type\":\"scatterpolar\",\"marker\":{\"colorbar\":{\"outlinewidth\":0,\"ticks\":\"\"}}}],\"histogram\":[{\"marker\":{\"pattern\":{\"fillmode\":\"overlay\",\"size\":10,\"solidity\":0.2}},\"type\":\"histogram\"}],\"scattergl\":[{\"type\":\"scattergl\",\"marker\":{\"colorbar\":{\"outlinewidth\":0,\"ticks\":\"\"}}}],\"scatter3d\":[{\"type\":\"scatter3d\",\"line\":{\"colorbar\":{\"outlinewidth\":0,\"ticks\":\"\"}},\"marker\":{\"colorbar\":{\"outlinewidth\":0,\"ticks\":\"\"}}}],\"scattermapbox\":[{\"type\":\"scattermapbox\",\"marker\":{\"colorbar\":{\"outlinewidth\":0,\"ticks\":\"\"}}}],\"scatterternary\":[{\"type\":\"scatterternary\",\"marker\":{\"colorbar\":{\"outlinewidth\":0,\"ticks\":\"\"}}}],\"scattercarpet\":[{\"type\":\"scattercarpet\",\"marker\":{\"colorbar\":{\"outlinewidth\":0,\"ticks\":\"\"}}}],\"carpet\":[{\"aaxis\":{\"endlinecolor\":\"#2a3f5f\",\"gridcolor\":\"white\",\"linecolor\":\"white\",\"minorgridcolor\":\"white\",\"startlinecolor\":\"#2a3f5f\"},\"baxis\":{\"endlinecolor\":\"#2a3f5f\",\"gridcolor\":\"white\",\"linecolor\":\"white\",\"minorgridcolor\":\"white\",\"startlinecolor\":\"#2a3f5f\"},\"type\":\"carpet\"}],\"table\":[{\"cells\":{\"fill\":{\"color\":\"#EBF0F8\"},\"line\":{\"color\":\"white\"}},\"header\":{\"fill\":{\"color\":\"#C8D4E3\"},\"line\":{\"color\":\"white\"}},\"type\":\"table\"}],\"barpolar\":[{\"marker\":{\"line\":{\"color\":\"#E5ECF6\",\"width\":0.5},\"pattern\":{\"fillmode\":\"overlay\",\"size\":10,\"solidity\":0.2}},\"type\":\"barpolar\"}],\"pie\":[{\"automargin\":true,\"type\":\"pie\"}]},\"layout\":{\"autotypenumbers\":\"strict\",\"colorway\":[\"#636efa\",\"#EF553B\",\"#00cc96\",\"#ab63fa\",\"#FFA15A\",\"#19d3f3\",\"#FF6692\",\"#B6E880\",\"#FF97FF\",\"#FECB52\"],\"font\":{\"color\":\"#2a3f5f\"},\"hovermode\":\"closest\",\"hoverlabel\":{\"align\":\"left\"},\"paper_bgcolor\":\"white\",\"plot_bgcolor\":\"#E5ECF6\",\"polar\":{\"bgcolor\":\"#E5ECF6\",\"angularaxis\":{\"gridcolor\":\"white\",\"linecolor\":\"white\",\"ticks\":\"\"},\"radialaxis\":{\"gridcolor\":\"white\",\"linecolor\":\"white\",\"ticks\":\"\"}},\"ternary\":{\"bgcolor\":\"#E5ECF6\",\"aaxis\":{\"gridcolor\":\"white\",\"linecolor\":\"white\",\"ticks\":\"\"},\"baxis\":{\"gridcolor\":\"white\",\"linecolor\":\"white\",\"ticks\":\"\"},\"caxis\":{\"gridcolor\":\"white\",\"linecolor\":\"white\",\"ticks\":\"\"}},\"coloraxis\":{\"colorbar\":{\"outlinewidth\":0,\"ticks\":\"\"}},\"colorscale\":{\"sequential\":[[0.0,\"#0d0887\"],[0.1111111111111111,\"#46039f\"],[0.2222222222222222,\"#7201a8\"],[0.3333333333333333,\"#9c179e\"],[0.4444444444444444,\"#bd3786\"],[0.5555555555555556,\"#d8576b\"],[0.6666666666666666,\"#ed7953\"],[0.7777777777777778,\"#fb9f3a\"],[0.8888888888888888,\"#fdca26\"],[1.0,\"#f0f921\"]],\"sequentialminus\":[[0.0,\"#0d0887\"],[0.1111111111111111,\"#46039f\"],[0.2222222222222222,\"#7201a8\"],[0.3333333333333333,\"#9c179e\"],[0.4444444444444444,\"#bd3786\"],[0.5555555555555556,\"#d8576b\"],[0.6666666666666666,\"#ed7953\"],[0.7777777777777778,\"#fb9f3a\"],[0.8888888888888888,\"#fdca26\"],[1.0,\"#f0f921\"]],\"diverging\":[[0,\"#8e0152\"],[0.1,\"#c51b7d\"],[0.2,\"#de77ae\"],[0.3,\"#f1b6da\"],[0.4,\"#fde0ef\"],[0.5,\"#f7f7f7\"],[0.6,\"#e6f5d0\"],[0.7,\"#b8e186\"],[0.8,\"#7fbc41\"],[0.9,\"#4d9221\"],[1,\"#276419\"]]},\"xaxis\":{\"gridcolor\":\"white\",\"linecolor\":\"white\",\"ticks\":\"\",\"title\":{\"standoff\":15},\"zerolinecolor\":\"white\",\"automargin\":true,\"zerolinewidth\":2},\"yaxis\":{\"gridcolor\":\"white\",\"linecolor\":\"white\",\"ticks\":\"\",\"title\":{\"standoff\":15},\"zerolinecolor\":\"white\",\"automargin\":true,\"zerolinewidth\":2},\"scene\":{\"xaxis\":{\"backgroundcolor\":\"#E5ECF6\",\"gridcolor\":\"white\",\"linecolor\":\"white\",\"showbackground\":true,\"ticks\":\"\",\"zerolinecolor\":\"white\",\"gridwidth\":2},\"yaxis\":{\"backgroundcolor\":\"#E5ECF6\",\"gridcolor\":\"white\",\"linecolor\":\"white\",\"showbackground\":true,\"ticks\":\"\",\"zerolinecolor\":\"white\",\"gridwidth\":2},\"zaxis\":{\"backgroundcolor\":\"#E5ECF6\",\"gridcolor\":\"white\",\"linecolor\":\"white\",\"showbackground\":true,\"ticks\":\"\",\"zerolinecolor\":\"white\",\"gridwidth\":2}},\"shapedefaults\":{\"line\":{\"color\":\"#2a3f5f\"}},\"annotationdefaults\":{\"arrowcolor\":\"#2a3f5f\",\"arrowhead\":0,\"arrowwidth\":1},\"geo\":{\"bgcolor\":\"white\",\"landcolor\":\"#E5ECF6\",\"subunitcolor\":\"white\",\"showland\":true,\"showlakes\":true,\"lakecolor\":\"white\"},\"title\":{\"x\":0.05},\"mapbox\":{\"style\":\"light\"}}},\"xaxis\":{\"anchor\":\"y\",\"domain\":[0.0,1.0],\"title\":{\"text\":\"Confidence\"}},\"yaxis\":{\"anchor\":\"x\",\"domain\":[0.0,1.0],\"title\":{\"text\":\"Lift\"}},\"coloraxis\":{\"colorbar\":{\"title\":{\"text\":\"Support\"}},\"colorscale\":[[0.0,\"rgb(75, 41, 145)\"],[0.16666666666666666,\"rgb(135, 44, 162)\"],[0.3333333333333333,\"rgb(192, 54, 157)\"],[0.5,\"rgb(234, 79, 136)\"],[0.6666666666666666,\"rgb(250, 120, 118)\"],[0.8333333333333334,\"rgb(246, 169, 122)\"],[1.0,\"rgb(237, 217, 163)\"]]},\"legend\":{\"tracegroupgap\":0},\"margin\":{\"t\":60}},                        {\"responsive\": true}                    ).then(function(){\n",
       "                            \n",
       "var gd = document.getElementById('255d50d9-378e-49e8-aadd-490557c17b42');\n",
       "var x = new MutationObserver(function (mutations, observer) {{\n",
       "        var display = window.getComputedStyle(gd).display;\n",
       "        if (!display || display === 'none') {{\n",
       "            console.log([gd, 'removed!']);\n",
       "            Plotly.purge(gd);\n",
       "            observer.disconnect();\n",
       "        }}\n",
       "}});\n",
       "\n",
       "// Listen for the removal of the full notebook cells\n",
       "var notebookContainer = gd.closest('#notebook-container');\n",
       "if (notebookContainer) {{\n",
       "    x.observe(notebookContainer, {childList: true});\n",
       "}}\n",
       "\n",
       "// Listen for the clearing of the current output cell\n",
       "var outputEl = gd.closest('.output');\n",
       "if (outputEl) {{\n",
       "    x.observe(outputEl, {childList: true});\n",
       "}}\n",
       "\n",
       "                        })                };                });            </script>        </div>"
      ]
     },
     "metadata": {},
     "output_type": "display_data"
    }
   ],
   "source": [
    "#Plot of the generated rule according to lift\n",
    "rules_df = rules_df.nlargest(20, 'Lift')\n",
    "import plotly.express as px\n",
    "fig = px.scatter(rules_df, x = 'Confidence', y = 'Lift', color = 'Support',\n",
    "                hover_data = ['LHS', 'RHS'], color_continuous_scale = 'agsunset')\n",
    "fig.show()"
   ]
  },
  {
   "cell_type": "code",
   "execution_count": 25,
   "id": "ff68baa6",
   "metadata": {},
   "outputs": [
    {
     "data": {
      "text/html": [
       "<div>\n",
       "<style scoped>\n",
       "    .dataframe tbody tr th:only-of-type {\n",
       "        vertical-align: middle;\n",
       "    }\n",
       "\n",
       "    .dataframe tbody tr th {\n",
       "        vertical-align: top;\n",
       "    }\n",
       "\n",
       "    .dataframe thead th {\n",
       "        text-align: right;\n",
       "    }\n",
       "</style>\n",
       "<table border=\"1\" class=\"dataframe\">\n",
       "  <thead>\n",
       "    <tr style=\"text-align: right;\">\n",
       "      <th></th>\n",
       "      <th>LHS</th>\n",
       "      <th>RHS</th>\n",
       "      <th>Support</th>\n",
       "      <th>Confidence</th>\n",
       "      <th>Lift</th>\n",
       "    </tr>\n",
       "  </thead>\n",
       "  <tbody>\n",
       "    <tr>\n",
       "      <th>174804</th>\n",
       "      <td>[Physician-fee-freeze, Immigration, Anti-Satellite-test-ban, School-Religious-Group]</td>\n",
       "      <td>[Export-administration-act-south-africa, Nicaraguan-contras-aid, Republican?, El-Salvador-aid]</td>\n",
       "      <td>0.020737</td>\n",
       "      <td>0.562500</td>\n",
       "      <td>16.275000</td>\n",
       "    </tr>\n",
       "    <tr>\n",
       "      <th>174812</th>\n",
       "      <td>[Export-administration-act-south-africa, Nicaraguan-contras-aid, Republican?, El-Salvador-aid]</td>\n",
       "      <td>[Physician-fee-freeze, Immigration, School-Religious-Group, Anti-Satellite-test-ban]</td>\n",
       "      <td>0.020737</td>\n",
       "      <td>0.600000</td>\n",
       "      <td>16.275000</td>\n",
       "    </tr>\n",
       "    <tr>\n",
       "      <th>189761</th>\n",
       "      <td>[Export-administration-act-south-africa, Physician-fee-freeze, Anti-Satellite-test-ban, School-Religious-Group]</td>\n",
       "      <td>[Immigration, Crime, El-Salvador-aid, Nicaraguan-contras-aid, Republican?]</td>\n",
       "      <td>0.020737</td>\n",
       "      <td>0.391304</td>\n",
       "      <td>15.438735</td>\n",
       "    </tr>\n",
       "    <tr>\n",
       "      <th>189159</th>\n",
       "      <td>[Export-administration-act-south-africa, Crime, Physician-fee-freeze, Anti-Satellite-test-ban, Education-spending]</td>\n",
       "      <td>[Superfund-right-to-sue, Republican?, Nicaraguan-contras-aid, El-Salvador-aid]</td>\n",
       "      <td>0.020737</td>\n",
       "      <td>0.391304</td>\n",
       "      <td>15.438735</td>\n",
       "    </tr>\n",
       "    <tr>\n",
       "      <th>189089</th>\n",
       "      <td>[Education-spending, Physician-fee-freeze, Anti-Satellite-test-ban, Export-administration-act-south-africa]</td>\n",
       "      <td>[Superfund-right-to-sue, Crime, El-Salvador-aid, Nicaraguan-contras-aid, Republican?]</td>\n",
       "      <td>0.020737</td>\n",
       "      <td>0.391304</td>\n",
       "      <td>15.438735</td>\n",
       "    </tr>\n",
       "    <tr>\n",
       "      <th>174799</th>\n",
       "      <td>[Export-administration-act-south-africa, Physician-fee-freeze, Anti-Satellite-test-ban, School-Religious-Group]</td>\n",
       "      <td>[Republican?, Nicaraguan-contras-aid, Immigration, El-Salvador-aid]</td>\n",
       "      <td>0.020737</td>\n",
       "      <td>0.391304</td>\n",
       "      <td>15.438735</td>\n",
       "    </tr>\n",
       "    <tr>\n",
       "      <th>174463</th>\n",
       "      <td>[Education-spending, Physician-fee-freeze, Anti-Satellite-test-ban, Export-administration-act-south-africa]</td>\n",
       "      <td>[Superfund-right-to-sue, Republican?, Nicaraguan-contras-aid, El-Salvador-aid]</td>\n",
       "      <td>0.020737</td>\n",
       "      <td>0.391304</td>\n",
       "      <td>15.438735</td>\n",
       "    </tr>\n",
       "    <tr>\n",
       "      <th>189189</th>\n",
       "      <td>[Export-administration-act-south-africa, Physician-fee-freeze, El-Salvador-aid, Anti-Satellite-test-ban, Education-spending]</td>\n",
       "      <td>[Superfund-right-to-sue, Republican?, Crime, Nicaraguan-contras-aid]</td>\n",
       "      <td>0.020737</td>\n",
       "      <td>0.428571</td>\n",
       "      <td>15.500000</td>\n",
       "    </tr>\n",
       "    <tr>\n",
       "      <th>189132</th>\n",
       "      <td>[Superfund-right-to-sue, Nicaraguan-contras-aid, Republican?, Crime]</td>\n",
       "      <td>[Export-administration-act-south-africa, Physician-fee-freeze, El-Salvador-aid, Anti-Satellite-test-ban, Education-spending]</td>\n",
       "      <td>0.020737</td>\n",
       "      <td>0.750000</td>\n",
       "      <td>15.500000</td>\n",
       "    </tr>\n",
       "    <tr>\n",
       "      <th>166740</th>\n",
       "      <td>[Immigration, Crime, Physician-fee-freeze, Anti-Satellite-test-ban, Budget-resolution]</td>\n",
       "      <td>[Export-administration-act-south-africa, Nicaraguan-contras-aid, Republican?]</td>\n",
       "      <td>0.020737</td>\n",
       "      <td>0.750000</td>\n",
       "      <td>15.500000</td>\n",
       "    </tr>\n",
       "    <tr>\n",
       "      <th>166727</th>\n",
       "      <td>[Export-administration-act-south-africa, Nicaraguan-contras-aid, Republican?, Crime]</td>\n",
       "      <td>[Physician-fee-freeze, Immigration, Anti-Satellite-test-ban, Budget-resolution]</td>\n",
       "      <td>0.020737</td>\n",
       "      <td>0.428571</td>\n",
       "      <td>15.500000</td>\n",
       "    </tr>\n",
       "    <tr>\n",
       "      <th>166684</th>\n",
       "      <td>[Physician-fee-freeze, Immigration, Anti-Satellite-test-ban, Budget-resolution]</td>\n",
       "      <td>[Export-administration-act-south-africa, Nicaraguan-contras-aid, Republican?, Crime]</td>\n",
       "      <td>0.020737</td>\n",
       "      <td>0.750000</td>\n",
       "      <td>15.500000</td>\n",
       "    </tr>\n",
       "    <tr>\n",
       "      <th>166673</th>\n",
       "      <td>[Export-administration-act-south-africa, Nicaraguan-contras-aid, Republican?]</td>\n",
       "      <td>[Immigration, Crime, Physician-fee-freeze, Anti-Satellite-test-ban, Budget-resolution]</td>\n",
       "      <td>0.020737</td>\n",
       "      <td>0.428571</td>\n",
       "      <td>15.500000</td>\n",
       "    </tr>\n",
       "    <tr>\n",
       "      <th>123710</th>\n",
       "      <td>[Physician-fee-freeze, Immigration, Anti-Satellite-test-ban, Budget-resolution]</td>\n",
       "      <td>[Export-administration-act-south-africa, Nicaraguan-contras-aid, Republican?]</td>\n",
       "      <td>0.020737</td>\n",
       "      <td>0.750000</td>\n",
       "      <td>15.500000</td>\n",
       "    </tr>\n",
       "    <tr>\n",
       "      <th>123704</th>\n",
       "      <td>[Export-administration-act-south-africa, Nicaraguan-contras-aid, Republican?]</td>\n",
       "      <td>[Physician-fee-freeze, Immigration, Anti-Satellite-test-ban, Budget-resolution]</td>\n",
       "      <td>0.020737</td>\n",
       "      <td>0.428571</td>\n",
       "      <td>15.500000</td>\n",
       "    </tr>\n",
       "    <tr>\n",
       "      <th>189879</th>\n",
       "      <td>[Export-administration-act-south-africa, Crime, El-Salvador-aid, Nicaraguan-contras-aid, Republican?]</td>\n",
       "      <td>[Physician-fee-freeze, Immigration, School-Religious-Group, Anti-Satellite-test-ban]</td>\n",
       "      <td>0.020737</td>\n",
       "      <td>0.600000</td>\n",
       "      <td>16.275000</td>\n",
       "    </tr>\n",
       "    <tr>\n",
       "      <th>189836</th>\n",
       "      <td>[Immigration, School-Religious-Group, Crime, Physician-fee-freeze, Anti-Satellite-test-ban]</td>\n",
       "      <td>[Export-administration-act-south-africa, Nicaraguan-contras-aid, Republican?, El-Salvador-aid]</td>\n",
       "      <td>0.020737</td>\n",
       "      <td>0.562500</td>\n",
       "      <td>16.275000</td>\n",
       "    </tr>\n",
       "    <tr>\n",
       "      <th>189789</th>\n",
       "      <td>[Export-administration-act-south-africa, Nicaraguan-contras-aid, Republican?, El-Salvador-aid]</td>\n",
       "      <td>[Immigration, School-Religious-Group, Crime, Physician-fee-freeze, Anti-Satellite-test-ban]</td>\n",
       "      <td>0.020737</td>\n",
       "      <td>0.600000</td>\n",
       "      <td>16.275000</td>\n",
       "    </tr>\n",
       "    <tr>\n",
       "      <th>189766</th>\n",
       "      <td>[Physician-fee-freeze, Immigration, Anti-Satellite-test-ban, School-Religious-Group]</td>\n",
       "      <td>[Export-administration-act-south-africa, Crime, El-Salvador-aid, Nicaraguan-contras-aid, Republican?]</td>\n",
       "      <td>0.020737</td>\n",
       "      <td>0.562500</td>\n",
       "      <td>16.275000</td>\n",
       "    </tr>\n",
       "    <tr>\n",
       "      <th>189830</th>\n",
       "      <td>[Export-administration-act-south-africa, School-Religious-Group, Crime, Physician-fee-freeze, Anti-Satellite-test-ban]</td>\n",
       "      <td>[Republican?, Nicaraguan-contras-aid, Immigration, El-Salvador-aid]</td>\n",
       "      <td>0.020737</td>\n",
       "      <td>0.391304</td>\n",
       "      <td>15.438735</td>\n",
       "    </tr>\n",
       "  </tbody>\n",
       "</table>\n",
       "</div>"
      ],
      "text/plain": [
       "                                                                                                                                 LHS  \\\n",
       "174804  [Physician-fee-freeze, Immigration, Anti-Satellite-test-ban, School-Religious-Group]                                           \n",
       "174812  [Export-administration-act-south-africa, Nicaraguan-contras-aid, Republican?, El-Salvador-aid]                                 \n",
       "189761  [Export-administration-act-south-africa, Physician-fee-freeze, Anti-Satellite-test-ban, School-Religious-Group]                \n",
       "189159  [Export-administration-act-south-africa, Crime, Physician-fee-freeze, Anti-Satellite-test-ban, Education-spending]             \n",
       "189089  [Education-spending, Physician-fee-freeze, Anti-Satellite-test-ban, Export-administration-act-south-africa]                    \n",
       "174799  [Export-administration-act-south-africa, Physician-fee-freeze, Anti-Satellite-test-ban, School-Religious-Group]                \n",
       "174463  [Education-spending, Physician-fee-freeze, Anti-Satellite-test-ban, Export-administration-act-south-africa]                    \n",
       "189189  [Export-administration-act-south-africa, Physician-fee-freeze, El-Salvador-aid, Anti-Satellite-test-ban, Education-spending]   \n",
       "189132  [Superfund-right-to-sue, Nicaraguan-contras-aid, Republican?, Crime]                                                           \n",
       "166740  [Immigration, Crime, Physician-fee-freeze, Anti-Satellite-test-ban, Budget-resolution]                                         \n",
       "166727  [Export-administration-act-south-africa, Nicaraguan-contras-aid, Republican?, Crime]                                           \n",
       "166684  [Physician-fee-freeze, Immigration, Anti-Satellite-test-ban, Budget-resolution]                                                \n",
       "166673  [Export-administration-act-south-africa, Nicaraguan-contras-aid, Republican?]                                                  \n",
       "123710  [Physician-fee-freeze, Immigration, Anti-Satellite-test-ban, Budget-resolution]                                                \n",
       "123704  [Export-administration-act-south-africa, Nicaraguan-contras-aid, Republican?]                                                  \n",
       "189879  [Export-administration-act-south-africa, Crime, El-Salvador-aid, Nicaraguan-contras-aid, Republican?]                          \n",
       "189836  [Immigration, School-Religious-Group, Crime, Physician-fee-freeze, Anti-Satellite-test-ban]                                    \n",
       "189789  [Export-administration-act-south-africa, Nicaraguan-contras-aid, Republican?, El-Salvador-aid]                                 \n",
       "189766  [Physician-fee-freeze, Immigration, Anti-Satellite-test-ban, School-Religious-Group]                                           \n",
       "189830  [Export-administration-act-south-africa, School-Religious-Group, Crime, Physician-fee-freeze, Anti-Satellite-test-ban]         \n",
       "\n",
       "                                                                                                                                 RHS  \\\n",
       "174804  [Export-administration-act-south-africa, Nicaraguan-contras-aid, Republican?, El-Salvador-aid]                                 \n",
       "174812  [Physician-fee-freeze, Immigration, School-Religious-Group, Anti-Satellite-test-ban]                                           \n",
       "189761  [Immigration, Crime, El-Salvador-aid, Nicaraguan-contras-aid, Republican?]                                                     \n",
       "189159  [Superfund-right-to-sue, Republican?, Nicaraguan-contras-aid, El-Salvador-aid]                                                 \n",
       "189089  [Superfund-right-to-sue, Crime, El-Salvador-aid, Nicaraguan-contras-aid, Republican?]                                          \n",
       "174799  [Republican?, Nicaraguan-contras-aid, Immigration, El-Salvador-aid]                                                            \n",
       "174463  [Superfund-right-to-sue, Republican?, Nicaraguan-contras-aid, El-Salvador-aid]                                                 \n",
       "189189  [Superfund-right-to-sue, Republican?, Crime, Nicaraguan-contras-aid]                                                           \n",
       "189132  [Export-administration-act-south-africa, Physician-fee-freeze, El-Salvador-aid, Anti-Satellite-test-ban, Education-spending]   \n",
       "166740  [Export-administration-act-south-africa, Nicaraguan-contras-aid, Republican?]                                                  \n",
       "166727  [Physician-fee-freeze, Immigration, Anti-Satellite-test-ban, Budget-resolution]                                                \n",
       "166684  [Export-administration-act-south-africa, Nicaraguan-contras-aid, Republican?, Crime]                                           \n",
       "166673  [Immigration, Crime, Physician-fee-freeze, Anti-Satellite-test-ban, Budget-resolution]                                         \n",
       "123710  [Export-administration-act-south-africa, Nicaraguan-contras-aid, Republican?]                                                  \n",
       "123704  [Physician-fee-freeze, Immigration, Anti-Satellite-test-ban, Budget-resolution]                                                \n",
       "189879  [Physician-fee-freeze, Immigration, School-Religious-Group, Anti-Satellite-test-ban]                                           \n",
       "189836  [Export-administration-act-south-africa, Nicaraguan-contras-aid, Republican?, El-Salvador-aid]                                 \n",
       "189789  [Immigration, School-Religious-Group, Crime, Physician-fee-freeze, Anti-Satellite-test-ban]                                    \n",
       "189766  [Export-administration-act-south-africa, Crime, El-Salvador-aid, Nicaraguan-contras-aid, Republican?]                          \n",
       "189830  [Republican?, Nicaraguan-contras-aid, Immigration, El-Salvador-aid]                                                            \n",
       "\n",
       "         Support  Confidence       Lift  \n",
       "174804  0.020737  0.562500    16.275000  \n",
       "174812  0.020737  0.600000    16.275000  \n",
       "189761  0.020737  0.391304    15.438735  \n",
       "189159  0.020737  0.391304    15.438735  \n",
       "189089  0.020737  0.391304    15.438735  \n",
       "174799  0.020737  0.391304    15.438735  \n",
       "174463  0.020737  0.391304    15.438735  \n",
       "189189  0.020737  0.428571    15.500000  \n",
       "189132  0.020737  0.750000    15.500000  \n",
       "166740  0.020737  0.750000    15.500000  \n",
       "166727  0.020737  0.428571    15.500000  \n",
       "166684  0.020737  0.750000    15.500000  \n",
       "166673  0.020737  0.428571    15.500000  \n",
       "123710  0.020737  0.750000    15.500000  \n",
       "123704  0.020737  0.428571    15.500000  \n",
       "189879  0.020737  0.600000    16.275000  \n",
       "189836  0.020737  0.562500    16.275000  \n",
       "189789  0.020737  0.600000    16.275000  \n",
       "189766  0.020737  0.562500    16.275000  \n",
       "189830  0.020737  0.391304    15.438735  "
      ]
     },
     "execution_count": 25,
     "metadata": {},
     "output_type": "execute_result"
    }
   ],
   "source": [
    "rules_df.nlargest(20, 'Support') #Filter according to Support"
   ]
  },
  {
   "cell_type": "code",
   "execution_count": 26,
   "id": "d4a463c1",
   "metadata": {},
   "outputs": [
    {
     "data": {
      "text/html": [
       "<div>\n",
       "<style scoped>\n",
       "    .dataframe tbody tr th:only-of-type {\n",
       "        vertical-align: middle;\n",
       "    }\n",
       "\n",
       "    .dataframe tbody tr th {\n",
       "        vertical-align: top;\n",
       "    }\n",
       "\n",
       "    .dataframe thead th {\n",
       "        text-align: right;\n",
       "    }\n",
       "</style>\n",
       "<table border=\"1\" class=\"dataframe\">\n",
       "  <thead>\n",
       "    <tr style=\"text-align: right;\">\n",
       "      <th></th>\n",
       "      <th>LHS</th>\n",
       "      <th>RHS</th>\n",
       "      <th>Support</th>\n",
       "      <th>Confidence</th>\n",
       "      <th>Lift</th>\n",
       "    </tr>\n",
       "  </thead>\n",
       "  <tbody>\n",
       "    <tr>\n",
       "      <th>166740</th>\n",
       "      <td>[Immigration, Crime, Physician-fee-freeze, Anti-Satellite-test-ban, Budget-resolution]</td>\n",
       "      <td>[Export-administration-act-south-africa, Nicaraguan-contras-aid, Republican?]</td>\n",
       "      <td>0.020737</td>\n",
       "      <td>0.750000</td>\n",
       "      <td>15.500000</td>\n",
       "    </tr>\n",
       "    <tr>\n",
       "      <th>123710</th>\n",
       "      <td>[Physician-fee-freeze, Immigration, Anti-Satellite-test-ban, Budget-resolution]</td>\n",
       "      <td>[Export-administration-act-south-africa, Nicaraguan-contras-aid, Republican?]</td>\n",
       "      <td>0.020737</td>\n",
       "      <td>0.750000</td>\n",
       "      <td>15.500000</td>\n",
       "    </tr>\n",
       "    <tr>\n",
       "      <th>189132</th>\n",
       "      <td>[Superfund-right-to-sue, Nicaraguan-contras-aid, Republican?, Crime]</td>\n",
       "      <td>[Export-administration-act-south-africa, Physician-fee-freeze, El-Salvador-aid, Anti-Satellite-test-ban, Education-spending]</td>\n",
       "      <td>0.020737</td>\n",
       "      <td>0.750000</td>\n",
       "      <td>15.500000</td>\n",
       "    </tr>\n",
       "    <tr>\n",
       "      <th>166684</th>\n",
       "      <td>[Physician-fee-freeze, Immigration, Anti-Satellite-test-ban, Budget-resolution]</td>\n",
       "      <td>[Export-administration-act-south-africa, Nicaraguan-contras-aid, Republican?, Crime]</td>\n",
       "      <td>0.020737</td>\n",
       "      <td>0.750000</td>\n",
       "      <td>15.500000</td>\n",
       "    </tr>\n",
       "    <tr>\n",
       "      <th>189789</th>\n",
       "      <td>[Export-administration-act-south-africa, Nicaraguan-contras-aid, Republican?, El-Salvador-aid]</td>\n",
       "      <td>[Immigration, School-Religious-Group, Crime, Physician-fee-freeze, Anti-Satellite-test-ban]</td>\n",
       "      <td>0.020737</td>\n",
       "      <td>0.600000</td>\n",
       "      <td>16.275000</td>\n",
       "    </tr>\n",
       "    <tr>\n",
       "      <th>189879</th>\n",
       "      <td>[Export-administration-act-south-africa, Crime, El-Salvador-aid, Nicaraguan-contras-aid, Republican?]</td>\n",
       "      <td>[Physician-fee-freeze, Immigration, School-Religious-Group, Anti-Satellite-test-ban]</td>\n",
       "      <td>0.020737</td>\n",
       "      <td>0.600000</td>\n",
       "      <td>16.275000</td>\n",
       "    </tr>\n",
       "    <tr>\n",
       "      <th>174812</th>\n",
       "      <td>[Export-administration-act-south-africa, Nicaraguan-contras-aid, Republican?, El-Salvador-aid]</td>\n",
       "      <td>[Physician-fee-freeze, Immigration, School-Religious-Group, Anti-Satellite-test-ban]</td>\n",
       "      <td>0.020737</td>\n",
       "      <td>0.600000</td>\n",
       "      <td>16.275000</td>\n",
       "    </tr>\n",
       "    <tr>\n",
       "      <th>174804</th>\n",
       "      <td>[Physician-fee-freeze, Immigration, Anti-Satellite-test-ban, School-Religious-Group]</td>\n",
       "      <td>[Export-administration-act-south-africa, Nicaraguan-contras-aid, Republican?, El-Salvador-aid]</td>\n",
       "      <td>0.020737</td>\n",
       "      <td>0.562500</td>\n",
       "      <td>16.275000</td>\n",
       "    </tr>\n",
       "    <tr>\n",
       "      <th>189766</th>\n",
       "      <td>[Physician-fee-freeze, Immigration, Anti-Satellite-test-ban, School-Religious-Group]</td>\n",
       "      <td>[Export-administration-act-south-africa, Crime, El-Salvador-aid, Nicaraguan-contras-aid, Republican?]</td>\n",
       "      <td>0.020737</td>\n",
       "      <td>0.562500</td>\n",
       "      <td>16.275000</td>\n",
       "    </tr>\n",
       "    <tr>\n",
       "      <th>189836</th>\n",
       "      <td>[Immigration, School-Religious-Group, Crime, Physician-fee-freeze, Anti-Satellite-test-ban]</td>\n",
       "      <td>[Export-administration-act-south-africa, Nicaraguan-contras-aid, Republican?, El-Salvador-aid]</td>\n",
       "      <td>0.020737</td>\n",
       "      <td>0.562500</td>\n",
       "      <td>16.275000</td>\n",
       "    </tr>\n",
       "    <tr>\n",
       "      <th>189189</th>\n",
       "      <td>[Export-administration-act-south-africa, Physician-fee-freeze, El-Salvador-aid, Anti-Satellite-test-ban, Education-spending]</td>\n",
       "      <td>[Superfund-right-to-sue, Republican?, Crime, Nicaraguan-contras-aid]</td>\n",
       "      <td>0.020737</td>\n",
       "      <td>0.428571</td>\n",
       "      <td>15.500000</td>\n",
       "    </tr>\n",
       "    <tr>\n",
       "      <th>166727</th>\n",
       "      <td>[Export-administration-act-south-africa, Nicaraguan-contras-aid, Republican?, Crime]</td>\n",
       "      <td>[Physician-fee-freeze, Immigration, Anti-Satellite-test-ban, Budget-resolution]</td>\n",
       "      <td>0.020737</td>\n",
       "      <td>0.428571</td>\n",
       "      <td>15.500000</td>\n",
       "    </tr>\n",
       "    <tr>\n",
       "      <th>166673</th>\n",
       "      <td>[Export-administration-act-south-africa, Nicaraguan-contras-aid, Republican?]</td>\n",
       "      <td>[Immigration, Crime, Physician-fee-freeze, Anti-Satellite-test-ban, Budget-resolution]</td>\n",
       "      <td>0.020737</td>\n",
       "      <td>0.428571</td>\n",
       "      <td>15.500000</td>\n",
       "    </tr>\n",
       "    <tr>\n",
       "      <th>123704</th>\n",
       "      <td>[Export-administration-act-south-africa, Nicaraguan-contras-aid, Republican?]</td>\n",
       "      <td>[Physician-fee-freeze, Immigration, Anti-Satellite-test-ban, Budget-resolution]</td>\n",
       "      <td>0.020737</td>\n",
       "      <td>0.428571</td>\n",
       "      <td>15.500000</td>\n",
       "    </tr>\n",
       "    <tr>\n",
       "      <th>174463</th>\n",
       "      <td>[Education-spending, Physician-fee-freeze, Anti-Satellite-test-ban, Export-administration-act-south-africa]</td>\n",
       "      <td>[Superfund-right-to-sue, Republican?, Nicaraguan-contras-aid, El-Salvador-aid]</td>\n",
       "      <td>0.020737</td>\n",
       "      <td>0.391304</td>\n",
       "      <td>15.438735</td>\n",
       "    </tr>\n",
       "    <tr>\n",
       "      <th>174799</th>\n",
       "      <td>[Export-administration-act-south-africa, Physician-fee-freeze, Anti-Satellite-test-ban, School-Religious-Group]</td>\n",
       "      <td>[Republican?, Nicaraguan-contras-aid, Immigration, El-Salvador-aid]</td>\n",
       "      <td>0.020737</td>\n",
       "      <td>0.391304</td>\n",
       "      <td>15.438735</td>\n",
       "    </tr>\n",
       "    <tr>\n",
       "      <th>189089</th>\n",
       "      <td>[Education-spending, Physician-fee-freeze, Anti-Satellite-test-ban, Export-administration-act-south-africa]</td>\n",
       "      <td>[Superfund-right-to-sue, Crime, El-Salvador-aid, Nicaraguan-contras-aid, Republican?]</td>\n",
       "      <td>0.020737</td>\n",
       "      <td>0.391304</td>\n",
       "      <td>15.438735</td>\n",
       "    </tr>\n",
       "    <tr>\n",
       "      <th>189159</th>\n",
       "      <td>[Export-administration-act-south-africa, Crime, Physician-fee-freeze, Anti-Satellite-test-ban, Education-spending]</td>\n",
       "      <td>[Superfund-right-to-sue, Republican?, Nicaraguan-contras-aid, El-Salvador-aid]</td>\n",
       "      <td>0.020737</td>\n",
       "      <td>0.391304</td>\n",
       "      <td>15.438735</td>\n",
       "    </tr>\n",
       "    <tr>\n",
       "      <th>189761</th>\n",
       "      <td>[Export-administration-act-south-africa, Physician-fee-freeze, Anti-Satellite-test-ban, School-Religious-Group]</td>\n",
       "      <td>[Immigration, Crime, El-Salvador-aid, Nicaraguan-contras-aid, Republican?]</td>\n",
       "      <td>0.020737</td>\n",
       "      <td>0.391304</td>\n",
       "      <td>15.438735</td>\n",
       "    </tr>\n",
       "    <tr>\n",
       "      <th>189830</th>\n",
       "      <td>[Export-administration-act-south-africa, School-Religious-Group, Crime, Physician-fee-freeze, Anti-Satellite-test-ban]</td>\n",
       "      <td>[Republican?, Nicaraguan-contras-aid, Immigration, El-Salvador-aid]</td>\n",
       "      <td>0.020737</td>\n",
       "      <td>0.391304</td>\n",
       "      <td>15.438735</td>\n",
       "    </tr>\n",
       "  </tbody>\n",
       "</table>\n",
       "</div>"
      ],
      "text/plain": [
       "                                                                                                                                 LHS  \\\n",
       "166740  [Immigration, Crime, Physician-fee-freeze, Anti-Satellite-test-ban, Budget-resolution]                                         \n",
       "123710  [Physician-fee-freeze, Immigration, Anti-Satellite-test-ban, Budget-resolution]                                                \n",
       "189132  [Superfund-right-to-sue, Nicaraguan-contras-aid, Republican?, Crime]                                                           \n",
       "166684  [Physician-fee-freeze, Immigration, Anti-Satellite-test-ban, Budget-resolution]                                                \n",
       "189789  [Export-administration-act-south-africa, Nicaraguan-contras-aid, Republican?, El-Salvador-aid]                                 \n",
       "189879  [Export-administration-act-south-africa, Crime, El-Salvador-aid, Nicaraguan-contras-aid, Republican?]                          \n",
       "174812  [Export-administration-act-south-africa, Nicaraguan-contras-aid, Republican?, El-Salvador-aid]                                 \n",
       "174804  [Physician-fee-freeze, Immigration, Anti-Satellite-test-ban, School-Religious-Group]                                           \n",
       "189766  [Physician-fee-freeze, Immigration, Anti-Satellite-test-ban, School-Religious-Group]                                           \n",
       "189836  [Immigration, School-Religious-Group, Crime, Physician-fee-freeze, Anti-Satellite-test-ban]                                    \n",
       "189189  [Export-administration-act-south-africa, Physician-fee-freeze, El-Salvador-aid, Anti-Satellite-test-ban, Education-spending]   \n",
       "166727  [Export-administration-act-south-africa, Nicaraguan-contras-aid, Republican?, Crime]                                           \n",
       "166673  [Export-administration-act-south-africa, Nicaraguan-contras-aid, Republican?]                                                  \n",
       "123704  [Export-administration-act-south-africa, Nicaraguan-contras-aid, Republican?]                                                  \n",
       "174463  [Education-spending, Physician-fee-freeze, Anti-Satellite-test-ban, Export-administration-act-south-africa]                    \n",
       "174799  [Export-administration-act-south-africa, Physician-fee-freeze, Anti-Satellite-test-ban, School-Religious-Group]                \n",
       "189089  [Education-spending, Physician-fee-freeze, Anti-Satellite-test-ban, Export-administration-act-south-africa]                    \n",
       "189159  [Export-administration-act-south-africa, Crime, Physician-fee-freeze, Anti-Satellite-test-ban, Education-spending]             \n",
       "189761  [Export-administration-act-south-africa, Physician-fee-freeze, Anti-Satellite-test-ban, School-Religious-Group]                \n",
       "189830  [Export-administration-act-south-africa, School-Religious-Group, Crime, Physician-fee-freeze, Anti-Satellite-test-ban]         \n",
       "\n",
       "                                                                                                                                 RHS  \\\n",
       "166740  [Export-administration-act-south-africa, Nicaraguan-contras-aid, Republican?]                                                  \n",
       "123710  [Export-administration-act-south-africa, Nicaraguan-contras-aid, Republican?]                                                  \n",
       "189132  [Export-administration-act-south-africa, Physician-fee-freeze, El-Salvador-aid, Anti-Satellite-test-ban, Education-spending]   \n",
       "166684  [Export-administration-act-south-africa, Nicaraguan-contras-aid, Republican?, Crime]                                           \n",
       "189789  [Immigration, School-Religious-Group, Crime, Physician-fee-freeze, Anti-Satellite-test-ban]                                    \n",
       "189879  [Physician-fee-freeze, Immigration, School-Religious-Group, Anti-Satellite-test-ban]                                           \n",
       "174812  [Physician-fee-freeze, Immigration, School-Religious-Group, Anti-Satellite-test-ban]                                           \n",
       "174804  [Export-administration-act-south-africa, Nicaraguan-contras-aid, Republican?, El-Salvador-aid]                                 \n",
       "189766  [Export-administration-act-south-africa, Crime, El-Salvador-aid, Nicaraguan-contras-aid, Republican?]                          \n",
       "189836  [Export-administration-act-south-africa, Nicaraguan-contras-aid, Republican?, El-Salvador-aid]                                 \n",
       "189189  [Superfund-right-to-sue, Republican?, Crime, Nicaraguan-contras-aid]                                                           \n",
       "166727  [Physician-fee-freeze, Immigration, Anti-Satellite-test-ban, Budget-resolution]                                                \n",
       "166673  [Immigration, Crime, Physician-fee-freeze, Anti-Satellite-test-ban, Budget-resolution]                                         \n",
       "123704  [Physician-fee-freeze, Immigration, Anti-Satellite-test-ban, Budget-resolution]                                                \n",
       "174463  [Superfund-right-to-sue, Republican?, Nicaraguan-contras-aid, El-Salvador-aid]                                                 \n",
       "174799  [Republican?, Nicaraguan-contras-aid, Immigration, El-Salvador-aid]                                                            \n",
       "189089  [Superfund-right-to-sue, Crime, El-Salvador-aid, Nicaraguan-contras-aid, Republican?]                                          \n",
       "189159  [Superfund-right-to-sue, Republican?, Nicaraguan-contras-aid, El-Salvador-aid]                                                 \n",
       "189761  [Immigration, Crime, El-Salvador-aid, Nicaraguan-contras-aid, Republican?]                                                     \n",
       "189830  [Republican?, Nicaraguan-contras-aid, Immigration, El-Salvador-aid]                                                            \n",
       "\n",
       "         Support  Confidence       Lift  \n",
       "166740  0.020737  0.750000    15.500000  \n",
       "123710  0.020737  0.750000    15.500000  \n",
       "189132  0.020737  0.750000    15.500000  \n",
       "166684  0.020737  0.750000    15.500000  \n",
       "189789  0.020737  0.600000    16.275000  \n",
       "189879  0.020737  0.600000    16.275000  \n",
       "174812  0.020737  0.600000    16.275000  \n",
       "174804  0.020737  0.562500    16.275000  \n",
       "189766  0.020737  0.562500    16.275000  \n",
       "189836  0.020737  0.562500    16.275000  \n",
       "189189  0.020737  0.428571    15.500000  \n",
       "166727  0.020737  0.428571    15.500000  \n",
       "166673  0.020737  0.428571    15.500000  \n",
       "123704  0.020737  0.428571    15.500000  \n",
       "174463  0.020737  0.391304    15.438735  \n",
       "174799  0.020737  0.391304    15.438735  \n",
       "189089  0.020737  0.391304    15.438735  \n",
       "189159  0.020737  0.391304    15.438735  \n",
       "189761  0.020737  0.391304    15.438735  \n",
       "189830  0.020737  0.391304    15.438735  "
      ]
     },
     "execution_count": 26,
     "metadata": {},
     "output_type": "execute_result"
    }
   ],
   "source": [
    "rules_df.nlargest(50, 'Confidence') # Filter according to Confidence"
   ]
  },
  {
   "cell_type": "code",
   "execution_count": 28,
   "id": "6f669c51",
   "metadata": {},
   "outputs": [
    {
     "data": {
      "image/png": "[encoded data removed]",
      "text/plain": [
       "<Figure size 432x288 with 1 Axes>"
      ]
     },
     "metadata": {
      "needs_background": "light"
     },
     "output_type": "display_data"
    }
   ],
   "source": [
    "#Plot of distribution of responses between the variables\n",
    "ax = approved.plot.bar()\n",
    "plt.show()"
   ]
  },
  {
   "cell_type": "code",
   "execution_count": 29,
   "id": "25ce3243",
   "metadata": {
    "scrolled": false
   },
   "outputs": [
    {
     "name": "stdout",
     "output_type": "stream",
     "text": [
      "The number of associated rules: 49\n",
      "LHS: ['Education-spending'] --> RHS:['Republican?'], support: 0.31, confidence: 0.79, lift: 2.05\n",
      "--------------------------------------------------------------------------------\n",
      "LHS: ['El-Salvador-aid'] --> RHS:['Republican?'], support: 0.36, confidence: 0.74, lift: 1.92\n",
      "--------------------------------------------------------------------------------\n",
      "LHS: ['Physician-fee-freeze'] --> RHS:['Republican?'], support: 0.37, confidence: 0.92, lift: 2.39\n",
      "--------------------------------------------------------------------------------\n",
      "LHS: ['El-Salvador-aid'] --> RHS:['Republican?', 'Crime'], support: 0.34, confidence: 0.70, lift: 1.94\n",
      "--------------------------------------------------------------------------------\n",
      "LHS: ['Crime', 'El-Salvador-aid'] --> RHS:['Republican?'], support: 0.34, confidence: 0.77, lift: 1.99\n",
      "--------------------------------------------------------------------------------\n",
      "LHS: ['Physician-fee-freeze'] --> RHS:['Republican?', 'Crime'], support: 0.35, confidence: 0.88, lift: 2.42\n",
      "--------------------------------------------------------------------------------\n",
      "LHS: ['Physician-fee-freeze', 'Crime'] --> RHS:['Republican?'], support: 0.35, confidence: 0.92, lift: 2.40\n",
      "--------------------------------------------------------------------------------\n",
      "LHS: ['Education-spending'] --> RHS:['Republican?', 'Physician-fee-freeze'], support: 0.31, confidence: 0.78, lift: 2.10\n",
      "--------------------------------------------------------------------------------\n",
      "LHS: ['Physician-fee-freeze'] --> RHS:['Education-spending', 'Republican?'], support: 0.31, confidence: 0.76, lift: 2.45\n",
      "--------------------------------------------------------------------------------\n",
      "LHS: ['Education-spending', 'Physician-fee-freeze'] --> RHS:['Republican?'], support: 0.31, confidence: 0.95, lift: 2.47\n",
      "--------------------------------------------------------------------------------\n",
      "LHS: ['El-Salvador-aid'] --> RHS:['Physician-fee-freeze', 'Republican?'], support: 0.36, confidence: 0.73, lift: 1.97\n",
      "--------------------------------------------------------------------------------\n",
      "LHS: ['Physician-fee-freeze'] --> RHS:['Republican?', 'El-Salvador-aid'], support: 0.36, confidence: 0.88, lift: 2.45\n",
      "--------------------------------------------------------------------------------\n",
      "LHS: ['Physician-fee-freeze', 'El-Salvador-aid'] --> RHS:['Republican?'], support: 0.36, confidence: 0.93, lift: 2.41\n",
      "--------------------------------------------------------------------------------\n",
      "LHS: ['School-Religious-Group', 'El-Salvador-aid'] --> RHS:['Republican?'], support: 0.33, confidence: 0.73, lift: 1.91\n",
      "--------------------------------------------------------------------------------\n",
      "LHS: ['Superfund-right-to-sue', 'El-Salvador-aid'] --> RHS:['Republican?'], support: 0.30, confidence: 0.78, lift: 2.01\n",
      "--------------------------------------------------------------------------------\n",
      "LHS: ['Physician-fee-freeze'] --> RHS:['Republican?', 'School-Religious-Group'], support: 0.34, confidence: 0.83, lift: 2.43\n",
      "--------------------------------------------------------------------------------\n",
      "LHS: ['Physician-fee-freeze', 'School-Religious-Group'] --> RHS:['Republican?'], support: 0.34, confidence: 0.92, lift: 2.39\n",
      "--------------------------------------------------------------------------------\n",
      "LHS: ['Physician-fee-freeze'] --> RHS:['Superfund-right-to-sue', 'Republican?'], support: 0.31, confidence: 0.76, lift: 2.45\n",
      "--------------------------------------------------------------------------------\n",
      "LHS: ['Superfund-right-to-sue', 'Physician-fee-freeze'] --> RHS:['Republican?'], support: 0.31, confidence: 0.93, lift: 2.42\n",
      "--------------------------------------------------------------------------------\n",
      "LHS: ['Physician-fee-freeze'] --> RHS:['Republican?', 'Crime', 'El-Salvador-aid'], support: 0.34, confidence: 0.84, lift: 2.45\n",
      "--------------------------------------------------------------------------------\n",
      "LHS: ['Crime', 'El-Salvador-aid'] --> RHS:['Physician-fee-freeze', 'Republican?'], support: 0.34, confidence: 0.76, lift: 2.04\n",
      "--------------------------------------------------------------------------------\n",
      "LHS: ['Physician-fee-freeze', 'Crime'] --> RHS:['Republican?', 'El-Salvador-aid'], support: 0.34, confidence: 0.88, lift: 2.45\n",
      "--------------------------------------------------------------------------------\n",
      "LHS: ['Physician-fee-freeze', 'El-Salvador-aid'] --> RHS:['Republican?', 'Crime'], support: 0.34, confidence: 0.88, lift: 2.43\n",
      "--------------------------------------------------------------------------------\n",
      "LHS: ['Physician-fee-freeze', 'Crime', 'El-Salvador-aid'] --> RHS:['Republican?'], support: 0.34, confidence: 0.92, lift: 2.40\n",
      "--------------------------------------------------------------------------------\n",
      "LHS: ['Crime', 'El-Salvador-aid'] --> RHS:['Republican?', 'School-Religious-Group'], support: 0.31, confidence: 0.70, lift: 2.07\n",
      "--------------------------------------------------------------------------------\n",
      "LHS: ['School-Religious-Group', 'Crime', 'El-Salvador-aid'] --> RHS:['Republican?'], support: 0.31, confidence: 0.76, lift: 1.97\n",
      "--------------------------------------------------------------------------------\n",
      "LHS: ['Physician-fee-freeze'] --> RHS:['Republican?', 'School-Religious-Group', 'Crime'], support: 0.32, confidence: 0.78, lift: 2.45\n",
      "--------------------------------------------------------------------------------\n",
      "LHS: ['Physician-fee-freeze', 'Crime'] --> RHS:['Republican?', 'School-Religious-Group'], support: 0.32, confidence: 0.83, lift: 2.42\n",
      "--------------------------------------------------------------------------------\n",
      "LHS: ['Physician-fee-freeze', 'School-Religious-Group'] --> RHS:['Republican?', 'Crime'], support: 0.32, confidence: 0.87, lift: 2.40\n",
      "--------------------------------------------------------------------------------\n",
      "LHS: ['Physician-fee-freeze', 'School-Religious-Group', 'Crime'] --> RHS:['Republican?'], support: 0.32, confidence: 0.92, lift: 2.39\n",
      "--------------------------------------------------------------------------------\n",
      "LHS: ['Physician-fee-freeze'] --> RHS:['Republican?', 'School-Religious-Group', 'El-Salvador-aid'], support: 0.33, confidence: 0.81, lift: 2.45\n",
      "--------------------------------------------------------------------------------\n",
      "LHS: ['Physician-fee-freeze', 'El-Salvador-aid'] --> RHS:['Republican?', 'School-Religious-Group'], support: 0.33, confidence: 0.86, lift: 2.51\n",
      "--------------------------------------------------------------------------------\n",
      "LHS: ['School-Religious-Group', 'El-Salvador-aid'] --> RHS:['Physician-fee-freeze', 'Republican?'], support: 0.33, confidence: 0.73, lift: 1.95\n",
      "--------------------------------------------------------------------------------\n",
      "LHS: ['Physician-fee-freeze', 'School-Religious-Group'] --> RHS:['Republican?', 'El-Salvador-aid'], support: 0.33, confidence: 0.90, lift: 2.50\n",
      "--------------------------------------------------------------------------------\n",
      "LHS: ['Physician-fee-freeze', 'School-Religious-Group', 'El-Salvador-aid'] --> RHS:['Republican?'], support: 0.33, confidence: 0.92, lift: 2.40\n",
      "--------------------------------------------------------------------------------\n",
      "LHS: ['Physician-fee-freeze'] --> RHS:['Superfund-right-to-sue', 'Republican?', 'El-Salvador-aid'], support: 0.30, confidence: 0.74, lift: 2.47\n",
      "--------------------------------------------------------------------------------\n",
      "LHS: ['Physician-fee-freeze', 'El-Salvador-aid'] --> RHS:['Superfund-right-to-sue', 'Republican?'], support: 0.30, confidence: 0.78, lift: 2.52\n",
      "--------------------------------------------------------------------------------\n",
      "LHS: ['Superfund-right-to-sue', 'El-Salvador-aid'] --> RHS:['Physician-fee-freeze', 'Republican?'], support: 0.30, confidence: 0.78, lift: 2.08\n",
      "--------------------------------------------------------------------------------\n",
      "LHS: ['Superfund-right-to-sue', 'Physician-fee-freeze'] --> RHS:['Republican?', 'El-Salvador-aid'], support: 0.30, confidence: 0.91, lift: 2.53\n",
      "--------------------------------------------------------------------------------\n",
      "LHS: ['Superfund-right-to-sue', 'Physician-fee-freeze', 'El-Salvador-aid'] --> RHS:['Republican?'], support: 0.30, confidence: 0.94, lift: 2.43\n",
      "--------------------------------------------------------------------------------\n",
      "LHS: ['Physician-fee-freeze'] --> RHS:['Republican?', 'School-Religious-Group', 'Crime', 'El-Salvador-aid'], support: 0.31, confidence: 0.77, lift: 2.45\n",
      "--------------------------------------------------------------------------------\n",
      "LHS: ['Physician-fee-freeze', 'Crime'] --> RHS:['Republican?', 'School-Religious-Group', 'El-Salvador-aid'], support: 0.31, confidence: 0.81, lift: 2.44\n",
      "--------------------------------------------------------------------------------\n",
      "LHS: ['Physician-fee-freeze', 'El-Salvador-aid'] --> RHS:['Republican?', 'School-Religious-Group', 'Crime'], support: 0.31, confidence: 0.81, lift: 2.52\n",
      "--------------------------------------------------------------------------------\n",
      "LHS: ['Physician-fee-freeze', 'School-Religious-Group'] --> RHS:['Republican?', 'Crime', 'El-Salvador-aid'], support: 0.31, confidence: 0.85, lift: 2.49\n",
      "--------------------------------------------------------------------------------\n",
      "LHS: ['Physician-fee-freeze', 'Crime', 'El-Salvador-aid'] --> RHS:['Republican?', 'School-Religious-Group'], support: 0.31, confidence: 0.85, lift: 2.49\n",
      "--------------------------------------------------------------------------------\n",
      "LHS: ['School-Religious-Group', 'Crime', 'El-Salvador-aid'] --> RHS:['Republican?', 'Physician-fee-freeze'], support: 0.31, confidence: 0.75, lift: 2.02\n",
      "--------------------------------------------------------------------------------\n",
      "LHS: ['Physician-fee-freeze', 'School-Religious-Group', 'Crime'] --> RHS:['Republican?', 'El-Salvador-aid'], support: 0.31, confidence: 0.90, lift: 2.50\n",
      "--------------------------------------------------------------------------------\n",
      "LHS: ['Physician-fee-freeze', 'School-Religious-Group', 'El-Salvador-aid'] --> RHS:['Republican?', 'Crime'], support: 0.31, confidence: 0.87, lift: 2.41\n",
      "--------------------------------------------------------------------------------\n",
      "LHS: ['Physician-fee-freeze', 'School-Religious-Group', 'Crime', 'El-Salvador-aid'] --> RHS:['Republican?'], support: 0.31, confidence: 0.92, lift: 2.39\n",
      "--------------------------------------------------------------------------------\n"
     ]
    }
   ],
   "source": [
    "# Generating Rules relating to Republicans\n",
    "Rules = list(apriori(voting_results, min_support = 0.3, min_confidence = 0.7))\n",
    "associationRules = utils.extract(Rules, 'Republican?', 2)\n",
    "utils.inspect(associationRules)"
   ]
  },
  {
   "cell_type": "code",
   "execution_count": null,
   "id": "a9d805b0",
   "metadata": {},
   "outputs": [],
   "source": []
  }
 ],
 "metadata": {
  "kernelspec": {
   "display_name": "Python 3 (ipykernel)",
   "language": "python",
   "name": "python3"
  },
  "language_info": {
   "codemirror_mode": {
    "name": "ipython",
    "version": 3
   },
   "file_extension": ".py",
   "mimetype": "text/x-python",
   "name": "python",
   "nbconvert_exporter": "python",
   "pygments_lexer": "ipython3",
   "version": "3.9.12"
  }
 },
 "nbformat": 4,
 "nbformat_minor": 5
}
